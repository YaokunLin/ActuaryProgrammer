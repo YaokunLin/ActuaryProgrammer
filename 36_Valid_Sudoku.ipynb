{
  "nbformat": 4,
  "nbformat_minor": 0,
  "metadata": {
    "colab": {
      "name": "36. Valid Sudoku.ipynb",
      "provenance": [],
      "collapsed_sections": [],
      "authorship_tag": "ABX9TyPMLcgNWqBsJISd5Yz2c/vH",
      "include_colab_link": true
    },
    "kernelspec": {
      "name": "python3",
      "display_name": "Python 3"
    },
    "language_info": {
      "name": "python"
    }
  },
  "cells": [
    {
      "cell_type": "markdown",
      "metadata": {
        "id": "view-in-github",
        "colab_type": "text"
      },
      "source": [
        "<a href=\"https://colab.research.google.com/github/YaokunLin/ActuaryProgrammer/blob/main/36_Valid_Sudoku.ipynb\" target=\"_parent\"><img src=\"https://colab.research.google.com/assets/colab-badge.svg\" alt=\"Open In Colab\"/></a>"
      ]
    },
    {
      "cell_type": "code",
      "metadata": {
        "id": "2dE3_EFv7pdR"
      },
      "source": [
        "class Solution(object):\n",
        "    def isValidSudoku(self, board):\n",
        "      rowDict={}\n",
        "      for i in range(9):rowDict[i]=set()\n",
        "      colDict={}\n",
        "      for i in range(9):colDict[i]=set()\n",
        "      \n",
        "      subBoxDict={}\n",
        "      for subR in range(3):\n",
        "        for subC in range(3):\n",
        "          subBoxDict[(subR,subC)]=set()\n",
        "          \n",
        "      for r in range(9):\n",
        "        for c in range(9):\n",
        "          val=board[r][c]\n",
        "          if val ==\".\": continue\n",
        "          if val in rowDict[r] or val in colDict[c] or val in subBoxDict[(r//3,c//3)]: return False\n",
        "          else: \n",
        "            rowDict[r].add(val)\n",
        "            colDict[c].add(val)\n",
        "            subBoxDict[(r//3,c//3)].add(val)\n",
        "            \n",
        "      return True\n",
        "  "
      ],
      "execution_count": null,
      "outputs": []
    }
  ]
}