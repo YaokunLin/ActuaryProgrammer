{
  "nbformat": 4,
  "nbformat_minor": 0,
  "metadata": {
    "colab": {
      "name": "Fibonacci Number and Dynamic Programming.ipynb",
      "provenance": [],
      "collapsed_sections": [],
      "authorship_tag": "ABX9TyN55pRYWHAj+Vc2q2sADA9Y",
      "include_colab_link": true
    },
    "kernelspec": {
      "name": "python3",
      "display_name": "Python 3"
    },
    "language_info": {
      "name": "python"
    }
  },
  "cells": [
    {
      "cell_type": "markdown",
      "metadata": {
        "id": "view-in-github",
        "colab_type": "text"
      },
      "source": [
        "<a href=\"https://colab.research.google.com/github/YaokunLin/ActuaryProgrammer/blob/main/Fibonacci_Number_and_Dynamic_Programming.ipynb\" target=\"_parent\"><img src=\"https://colab.research.google.com/assets/colab-badge.svg\" alt=\"Open In Colab\"/></a>"
      ]
    },
    {
      "cell_type": "code",
      "metadata": {
        "id": "Otp8ju0ylx8h"
      },
      "source": [
        "import time"
      ],
      "execution_count": null,
      "outputs": []
    },
    {
      "cell_type": "code",
      "metadata": {
        "id": "524E3xBDmG37"
      },
      "source": [
        "def fib(given_num):\n",
        "  if given_num==1 or given_num==2:\n",
        "    return 1\n",
        "  \n",
        "  return fib(given_num-1)+fib(given_num-2)\n"
      ],
      "execution_count": null,
      "outputs": []
    },
    {
      "cell_type": "code",
      "metadata": {
        "colab": {
          "base_uri": "https://localhost:8080/"
        },
        "id": "sYQjKszumlHD",
        "outputId": "c7e55843-a034-4b9a-d82e-e83adb710b6d"
      },
      "source": [
        "start = time.time()\n",
        "print(fib(3)) #O(n)=2^n\n",
        "end = time.time()\n",
        "print(end - start)"
      ],
      "execution_count": null,
      "outputs": [
        {
          "output_type": "stream",
          "text": [
            "2\n",
            "0.0007798671722412109\n"
          ],
          "name": "stdout"
        }
      ]
    },
    {
      "cell_type": "code",
      "metadata": {
        "colab": {
          "base_uri": "https://localhost:8080/"
        },
        "id": "4m6qnCIXmoM_",
        "outputId": "8b7c7ecd-127f-453d-9764-28d93bbe7a85"
      },
      "source": [
        "start = time.time()\n",
        "print(fib(10)) #O(n)=2^n\n",
        "end = time.time()\n",
        "print(end - start)"
      ],
      "execution_count": null,
      "outputs": [
        {
          "output_type": "stream",
          "text": [
            "55\n",
            "0.00017523765563964844\n"
          ],
          "name": "stdout"
        }
      ]
    },
    {
      "cell_type": "code",
      "metadata": {
        "id": "I5V7yZxJmrVm"
      },
      "source": [
        "start = time.time()\n",
        "print(fib(100)) #O(n)=2^n\n",
        "end = time.time()\n",
        "print(end - start)"
      ],
      "execution_count": null,
      "outputs": []
    },
    {
      "cell_type": "code",
      "metadata": {
        "id": "PCXV_cjUmXpR"
      },
      "source": [
        "#python dynamic programming \n",
        "def fib_dp(n,memo):\n",
        "  if memo.get(n)!=None:\n",
        "    return memo[n]\n",
        "  \n",
        "  if n == 1 or n==2:\n",
        "    memo[n]=1\n",
        "    return  memo[n]\n",
        "\n",
        "  memo[n] = fib_dp(n-1,memo)+fib_dp(n-2,memo) #memo.get(n)==None and n!=1 and n!=2\n",
        "  return  memo[n]\n",
        "\n",
        "start = time.time()\n",
        "memo={}\n",
        "print(fib_dp(100,memo)) #O(n)\n",
        "end = time.time()\n",
        "print(end - start)"
      ],
      "execution_count": null,
      "outputs": []
    },
    {
      "cell_type": "code",
      "metadata": {
        "id": "zx0NPDk_mcqm"
      },
      "source": [
        "start = time.time()\n",
        "memo={}\n",
        "print(fib_dp(1000,memo)) #O(n)\n",
        "end = time.time()\n",
        "print(end - start)"
      ],
      "execution_count": null,
      "outputs": []
    },
    {
      "cell_type": "code",
      "metadata": {
        "id": "vtSwoKL8nCuS"
      },
      "source": [
        "#Python Dynamic Programming Bottom Up\n",
        "def fib_dp2(n):\n",
        "  fib_dict={}\n",
        "  fib_dict[1]=1\n",
        "  fib_dict[2]=1\n",
        "  if n>2:\n",
        "    for idx in range(3,n+1):\n",
        "      fib_dict[idx]=fib_dict[idx-1]+fib_dict[idx-2]\n",
        "\n",
        "  return fib_dict[n]\n",
        "\n",
        "\n",
        "start = time.time()\n",
        "print(fib_dp2(1000)) #O(n)\n",
        "end = time.time()\n",
        "print(end - start)"
      ],
      "execution_count": null,
      "outputs": []
    },
    {
      "cell_type": "code",
      "metadata": {
        "id": "DT3JfHHnnHTu"
      },
      "source": [
        "start = time.time()\n",
        "print(fib_dp2(100)) #O(n)\n",
        "end = time.time()\n",
        "print(end - start)"
      ],
      "execution_count": null,
      "outputs": []
    },
    {
      "cell_type": "code",
      "metadata": {
        "id": "YdvzCb5Rm21m"
      },
      "source": [
        "def fib_dp3(n):\n",
        "  a, b = 1, 1\n",
        "  for _ in range(n-2):\n",
        "    a, b = b, a + b\n",
        "  return b\n",
        "\n",
        "import time\n",
        "start = time.time()\n",
        "print(fib_dp3(100)) #O(n)\n",
        "end = time.time()\n",
        "print(end - start)"
      ],
      "execution_count": null,
      "outputs": []
    },
    {
      "cell_type": "code",
      "metadata": {
        "id": "4XaPMIsPm7Js"
      },
      "source": [
        "start = time.time()\n",
        "print(fib_dp3(1000)) #O(n)\n",
        "end = time.time()\n",
        "print(end - start)"
      ],
      "execution_count": null,
      "outputs": []
    }
  ]
}