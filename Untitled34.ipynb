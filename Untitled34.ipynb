{
  "nbformat": 4,
  "nbformat_minor": 0,
  "metadata": {
    "colab": {
      "name": "Untitled34.ipynb",
      "provenance": [],
      "authorship_tag": "ABX9TyPGKTKwFX48SPLuqjH7NlT3",
      "include_colab_link": true
    },
    "kernelspec": {
      "name": "python3",
      "display_name": "Python 3"
    },
    "language_info": {
      "name": "python"
    }
  },
  "cells": [
    {
      "cell_type": "markdown",
      "metadata": {
        "id": "view-in-github",
        "colab_type": "text"
      },
      "source": [
        "<a href=\"https://colab.research.google.com/github/YaokunLin/ActuaryProgrammer/blob/main/Untitled34.ipynb\" target=\"_parent\"><img src=\"https://colab.research.google.com/assets/colab-badge.svg\" alt=\"Open In Colab\"/></a>"
      ]
    },
    {
      "cell_type": "code",
      "execution_count": null,
      "metadata": {
        "id": "bkm3u9vACpya"
      },
      "outputs": [],
      "source": [
        "import numpy as np\n",
        "\n",
        "a = [\n",
        "        (   #signal_sub\n",
        "            np.array([0.0, 10.0]),\n",
        "        ),\n",
        "        (   #target_duration\n",
        "            5.0,\n",
        "        ),\n",
        "        (   #contract_vals_sub\n",
        "            np.array([50.0, 50.0]),\n",
        "        ),\n",
        "        (   #avail_capital\n",
        "            100.,\n",
        "        ),\n",
        "        (   #remain_lqd_sub\n",
        "            np.array([100.0, 100.0]),\n",
        "        ),\n",
        "        (   #expected\n",
        "            np.array([1.0, 1.0])\n",
        "        ),\n",
        "\n",
        "    ],"
      ]
    },
    {
      "cell_type": "code",
      "source": [
        "from collections import defaultdict \n",
        "a = defaultdict(int)"
      ],
      "metadata": {
        "id": "fgaoYY4CAKQ2"
      },
      "execution_count": null,
      "outputs": []
    },
    {
      "cell_type": "code",
      "source": [
        "a[\"b\"]"
      ],
      "metadata": {
        "id": "glT_e2I6AR7X",
        "outputId": "faf1bf24-c3a0-4cf9-ef83-1e001dbbcdf1",
        "colab": {
          "base_uri": "https://localhost:8080/"
        }
      },
      "execution_count": null,
      "outputs": [
        {
          "output_type": "execute_result",
          "data": {
            "text/plain": [
              "0"
            ]
          },
          "metadata": {},
          "execution_count": 4
        }
      ]
    },
    {
      "cell_type": "code",
      "source": [
        "import time\n",
        "date1 = \"31/12/2015\"\n",
        "date2 = \"01/01/2016\"\n",
        "newdate1 = time.strptime(date1, \"%d/%m/%Y\")\n",
        "newdate2 = time.strptime(date2, \"%d/%m/%Y\")"
      ],
      "metadata": {
        "id": "4hGNy-Yf5ZFe"
      },
      "execution_count": null,
      "outputs": []
    },
    {
      "cell_type": "code",
      "source": [
        ""
      ],
      "metadata": {
        "colab": {
          "base_uri": "https://localhost:8080/"
        },
        "id": "2tYorzcTibnA",
        "outputId": "731adeae-e4ff-4ed7-ca89-c7a96a98187f"
      },
      "execution_count": null,
      "outputs": [
        {
          "output_type": "execute_result",
          "data": {
            "text/plain": [
              "str"
            ]
          },
          "metadata": {},
          "execution_count": 13
        }
      ]
    }
  ]
}