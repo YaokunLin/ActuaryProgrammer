{
  "nbformat": 4,
  "nbformat_minor": 0,
  "metadata": {
    "colab": {
      "name": "42. Trapping Rain Water.ipynb",
      "provenance": [],
      "collapsed_sections": [],
      "authorship_tag": "ABX9TyM8iuJKdjTQq7CXCd/1Fpbe",
      "include_colab_link": true
    },
    "kernelspec": {
      "name": "python3",
      "display_name": "Python 3"
    },
    "language_info": {
      "name": "python"
    }
  },
  "cells": [
    {
      "cell_type": "markdown",
      "metadata": {
        "id": "view-in-github",
        "colab_type": "text"
      },
      "source": [
        "<a href=\"https://colab.research.google.com/github/YaokunLin/ActuaryProgrammer/blob/main/42_Trapping_Rain_Water.ipynb\" target=\"_parent\"><img src=\"https://colab.research.google.com/assets/colab-badge.svg\" alt=\"Open In Colab\"/></a>"
      ]
    },
    {
      "cell_type": "code",
      "metadata": {
        "id": "alcrz2JMpRHa"
      },
      "source": [
        "class Solution(object):\n",
        "    def trap(self, height):\n",
        "      #https://www.youtube.com/watch?v=HmBbcDiJapY\n",
        "      #https://www.youtube.com/watch?v=VZpJxINSvfs\n",
        "      result=0\n",
        "      \n",
        "      lMax=[0]*len(height)\n",
        "      rMax=[0]*len(height)\n",
        "      \n",
        "      runninglMax=0\n",
        "      for i,e in enumerate(height[:-1]):\n",
        "        runninglMax=max(runninglMax,e)\n",
        "        lMax[i+1] = runninglMax\n",
        "      \n",
        "      \n",
        "      runninglMax=0\n",
        "      for i,e in enumerate(height[::-1][:-1]):\n",
        "        runninglMax=max(runninglMax,e)\n",
        "        rMax[i+1] = runninglMax\n",
        "        \n",
        "      \n",
        "      #formula = max(min(lMax[i],rMax[i])-H[i],0)\n",
        "      n=len(height)\n",
        "      for i,h in enumerate(height):\n",
        "        result=result+max(min(lMax[i],rMax[n-1-i])-h,0)\n",
        "\n",
        "      \n",
        "      return result\n",
        "    "
      ],
      "execution_count": null,
      "outputs": []
    }
  ]
}