{
  "nbformat": 4,
  "nbformat_minor": 0,
  "metadata": {
    "colab": {
      "provenance": [],
      "authorship_tag": "ABX9TyPPPPd2ZcA6T3p+jPNmPdD7",
      "include_colab_link": true
    },
    "kernelspec": {
      "name": "python3",
      "display_name": "Python 3"
    },
    "language_info": {
      "name": "python"
    }
  },
  "cells": [
    {
      "cell_type": "markdown",
      "metadata": {
        "id": "view-in-github",
        "colab_type": "text"
      },
      "source": [
        "<a href=\"https://colab.research.google.com/github/YaokunLin/ActuaryProgrammer/blob/main/VWMP.ipynb\" target=\"_parent\"><img src=\"https://colab.research.google.com/assets/colab-badge.svg\" alt=\"Open In Colab\"/></a>"
      ]
    },
    {
      "cell_type": "code",
      "metadata": {
        "id": "CFj-v-tpZ4Jt"
      },
      "source": [
        "import time\n",
        "import datetime\n",
        "from datetime import datetime, timedelta, date\n",
        "import requests\n",
        "import json\n",
        "\n",
        "# API documentation\n",
        "# https://docs.cloud.coinbase.com/exchange/reference/exchangerestapi_getproductcandles\n",
        "'''\n",
        "Historic rates for a product. Rates are returned in grouped buckets. \n",
        "Candle schema is of the form \n",
        "[timestamp, price_low, price_high, price_open, price_close]\n",
        "\n",
        "max only 300 candles per requests \n",
        "'''\n",
        "class VWAPCalculator(object):\n",
        "  def __init__(self, pair = 'BTC-USD', endDate = None, windowSize = 200, dayDelta = 1):\n",
        "    self._pair = pair\n",
        "    self._apiUrl = 'https://api.pro.coinbase.com'\n",
        "    self._windowSize = windowSize\n",
        "    self._dayDelta = dayDelta\n",
        "    endYr, endMonth, endDay = list(map(int, endDate.split('-'))) if endDate else [None, None, None]\n",
        "    self._chosenDate = date(endYr, endMonth, endDay) if endDate else date.today()\n",
        "    self._dateStart, self._dateEnd = self.getDates()\n",
        "  \n",
        "  def getDates(self):\n",
        "    dateEnd = self._chosenDate\n",
        "    dayDelta = timedelta(days = self._dayDelta) #intra-day when self._dayDelta = 1\n",
        "    dateStart = dateEnd - (self._windowSize - 1) * dayDelta #subtract 1 to keep only 200 data points otherwise it would be 201 points\n",
        "    return dateStart.isoformat(), dateEnd.isoformat()\n",
        "  \n",
        "  def refreshApi(self):\n",
        "    parameters = {'start':self._dateStart,\n",
        "                  'end':self._dateEnd,\n",
        "                  'granularity': 86400}\n",
        "    #The granularity field must be one of the following values: \n",
        "    #{60, 300, 900, 3600, 21600, 86400}. \n",
        "    #Otherwise, your request will be rejected. \n",
        "    #These values correspond to timeslices representing \n",
        "    #one minute, five minutes, fifteen minutes, one hour, six hours, and one day, respectively.\n",
        "    response = requests.get(f\"{self._apiUrl}/products/{self._pair}/candles\",\n",
        "                        params = parameters,\n",
        "                        headers = {'content-type':'application/json'})\n",
        "    \n",
        "    self._response = response.json()\n",
        "    '''\n",
        "    Response Items\n",
        "    Each bucket is an array of the following information:\n",
        "\n",
        "    1. time bucket start time\n",
        "    2. low lowest price during the bucket interval\n",
        "    3. high highest price during the bucket interval\n",
        "    4. open opening price (first trade) in the bucket interval\n",
        "    5. close closing price (last trade) in the bucket interval\n",
        "    6. volume volume of trading activity during the bucket interval\n",
        "    '''\n",
        "\n",
        "  def getVWAP(self):\n",
        "    closeTimesVol=[close * vol for time, low, high, open, close, vol in self._response]\n",
        "    sumVol = sum([vol for time, low, high, open, close, vol in self._response])\n",
        "    if sumVol == 0: raise ZeroDivisionError(\"Data Not Avaliable\")\n",
        "    self._VWAP = sum(closeTimesVol)/sumVol\n",
        "    return self._VWAP\n",
        "\n",
        "  def __str__(self):\n",
        "    dayDelta = timedelta(days = self._dayDelta)\n",
        "    windwSize = len(self._response) \n",
        "    end = min(self._chosenDate, date.today())\n",
        "    start = end - (windwSize - 1) * dayDelta\n",
        "    return f\"{self._pair}, Fr: {start}, To: {end}, windwSize: {windwSize}, VWAP: ${self._VWAP}\"\n",
        "\n",
        "  def updateDate(self, endDate):\n",
        "    endYr, endMonth, endDay = list(map(int, endDate.split('-')))\n",
        "    self._chosenDate = date(endYr, endMonth, endDay)\n",
        "    self._dateStart, self._dateEnd = self.getDates()\n",
        "\n"
      ],
      "execution_count": null,
      "outputs": []
    },
    {
      "cell_type": "code",
      "metadata": {
        "colab": {
          "base_uri": "https://localhost:8080/"
        },
        "id": "1yCQOegMh-Vi",
        "outputId": "3b6024ad-40e2-4768-8af5-2d9639ebd91c"
      },
      "source": [
        "import time\n",
        "print(\"Today's date:\", date.today())\n",
        "\n",
        "t0 = time.process_time()\n",
        "btcUsdVwaps = VWAPCalculator() # dafault window is [today - 199 days, today]\n",
        "btcUsdVwaps.refreshApi()\n",
        "_ = btcUsdVwaps.getVWAP()\n",
        "print(btcUsdVwaps)\n",
        "t1 = time.process_time()\n",
        "exeTime = t1 - t0\n",
        "print('exe time:', exeTime)\n",
        "\n",
        "\n",
        "print('----tests----')\n",
        "testDates = sorted(['2021-01-01','2020-01-01','2022-01-01', '2021-11-11', '2015-10-15', '2015-07-20'])\n",
        "\n",
        "for d in testDates:\n",
        "  btcUsdVwaps.updateDate(d)\n",
        "  btcUsdVwaps.refreshApi()\n",
        "  _ = btcUsdVwaps.getVWAP()\n",
        "  print('input date:', d, btcUsdVwaps)\n"
      ],
      "execution_count": null,
      "outputs": [
        {
          "output_type": "stream",
          "name": "stdout",
          "text": [
            "Today's date: 2021-12-03\n",
            "BTC-USD, Fr: 2021-05-18, To: 2021-12-03, windwSize: 200, VWAP: $44754.01102562989\n",
            "exe time: 0.02506353799999994\n",
            "----tests----\n",
            "input date: 2015-07-20 BTC-USD, Fr: 2015-07-20, To: 2015-07-20, windwSize: 1, VWAP: $280.0\n",
            "input date: 2015-10-15 BTC-USD, Fr: 2015-07-20, To: 2015-10-15, windwSize: 88, VWAP: $245.52869445853514\n",
            "input date: 2020-01-01 BTC-USD, Fr: 2019-06-16, To: 2020-01-01, windwSize: 200, VWAP: $9798.874411759945\n",
            "input date: 2021-01-01 BTC-USD, Fr: 2020-06-16, To: 2021-01-01, windwSize: 200, VWAP: $14998.043490869468\n",
            "input date: 2021-11-11 BTC-USD, Fr: 2021-04-26, To: 2021-11-11, windwSize: 200, VWAP: $44589.599271790714\n",
            "input date: 2022-01-01 BTC-USD, Fr: 2021-06-16, To: 2021-12-03, windwSize: 171, VWAP: $47272.50029049274\n"
          ]
        }
      ]
    },
    {
      "cell_type": "code",
      "metadata": {
        "colab": {
          "base_uri": "https://localhost:8080/"
        },
        "id": "HXshNZXeRLpb",
        "outputId": "88a2aad8-70c9-4618-808c-6bde7e81c0b5"
      },
      "source": [
        "d = '2020-11-22'\n",
        "btcUsdVwaps.updateDate(d)\n",
        "btcUsdVwaps.refreshApi()\n",
        "_ = btcUsdVwaps.getVWAP()\n",
        "print('input date:', d, btcUsdVwaps)"
      ],
      "execution_count": null,
      "outputs": [
        {
          "output_type": "stream",
          "name": "stdout",
          "text": [
            "input date: 2020-11-22 BTC-USD, Fr: 2020-05-07, To: 2020-11-22, windwSize: 200, VWAP: $11346.784331163733\n"
          ]
        }
      ]
    },
    {
      "cell_type": "code",
      "metadata": {
        "colab": {
          "base_uri": "https://localhost:8080/"
        },
        "id": "Cd0VZveL8VEj",
        "outputId": "cbda9772-941b-4d48-e28f-a5a180f61660"
      },
      "source": [
        "print(\"Today's date:\", date.today())\n",
        "\n",
        "t0 = time.process_time()\n",
        "ethUsdVwaps = VWAPCalculator(pair = 'ETH-USD') # dafault window is [today - 199 days, today]\n",
        "ethUsdVwaps.refreshApi()\n",
        "_ = ethUsdVwaps.getVWAP()\n",
        "print(ethUsdVwaps)\n",
        "t1 = time.process_time()\n",
        "exeTime = t1 - t0\n",
        "print('exe time:', exeTime)\n",
        "\n",
        "print('----tests----')\n",
        "testDates = sorted(['2021-01-01','2020-01-01','2022-01-01', '2021-11-11', '2016-09-30', '2016-05-18'])\n",
        "\n",
        "for d in testDates:\n",
        "  ethUsdVwaps.updateDate(d)\n",
        "  ethUsdVwaps.refreshApi()\n",
        "  _ = ethUsdVwaps.getVWAP()\n",
        "  print('input date:', d, ethUsdVwaps)"
      ],
      "execution_count": null,
      "outputs": [
        {
          "output_type": "stream",
          "name": "stdout",
          "text": [
            "Today's date: 2021-11-10\n",
            "ETH-USD, Fr: 2021-04-25, To: 2021-11-10, windwSize: 200, VWAP: $2965.313186647746\n",
            "exe time: 0.017569895999999918\n",
            "----tests----\n",
            "input date: 2016-05-18 ETH-USD, Fr: 2016-05-18, To: 2016-05-18, windwSize: 1, VWAP: $13.18\n",
            "input date: 2016-09-30 ETH-USD, Fr: 2016-05-20, To: 2016-09-30, windwSize: 134, VWAP: $12.46493878221231\n",
            "input date: 2020-01-01 ETH-USD, Fr: 2019-06-16, To: 2020-01-01, windwSize: 200, VWAP: $211.30496150602426\n",
            "input date: 2021-01-01 ETH-USD, Fr: 2020-06-16, To: 2021-01-01, windwSize: 200, VWAP: $439.81925260179594\n",
            "input date: 2021-11-11 ETH-USD, Fr: 2021-04-26, To: 2021-11-10, windwSize: 199, VWAP: $2968.4051628960283\n",
            "input date: 2022-01-01 ETH-USD, Fr: 2021-06-16, To: 2021-11-10, windwSize: 148, VWAP: $3007.299070860193\n"
          ]
        }
      ]
    },
    {
      "cell_type": "code",
      "metadata": {
        "colab": {
          "base_uri": "https://localhost:8080/"
        },
        "id": "GKW2VICY9UGs",
        "outputId": "dfec8f64-8dcd-42aa-cc88-31f7859e7424"
      },
      "source": [
        "print(\"Today's date:\", date.today())\n",
        "\n",
        "t0 = time.process_time()\n",
        "ethBtcVwaps = VWAPCalculator(pair = 'ETH-BTC') # dafault window is [today - 199 days, today]\n",
        "ethBtcVwaps.refreshApi()\n",
        "_ = ethBtcVwaps.getVWAP()\n",
        "print(ethBtcVwaps)\n",
        "t1 = time.process_time()\n",
        "exeTime = t1 - t0\n",
        "print('exe time:', exeTime)\n",
        "\n",
        "print('----tests----')\n",
        "testDates = sorted(['2021-01-01','2020-01-01','2022-01-01', '2021-11-11', '2016-09-30', '2016-05-18'])\n",
        "\n",
        "for d in testDates:\n",
        "  ethBtcVwaps.updateDate(d)\n",
        "  ethBtcVwaps.refreshApi()\n",
        "  _ = ethBtcVwaps.getVWAP()\n",
        "  print('input date:', d, ethBtcVwaps)"
      ],
      "execution_count": null,
      "outputs": [
        {
          "output_type": "stream",
          "name": "stdout",
          "text": [
            "Today's date: 2021-11-10\n",
            "ETH-BTC, Fr: 2021-04-25, To: 2021-11-10, windwSize: 200, VWAP: $0.06623468059691555\n",
            "exe time: 0.01720359600000032\n",
            "----tests----\n",
            "input date: 2016-05-18 ETH-BTC, Fr: 2016-05-18, To: 2016-05-18, windwSize: 1, VWAP: $0.0293\n",
            "input date: 2016-09-30 ETH-BTC, Fr: 2016-05-19, To: 2016-09-30, windwSize: 135, VWAP: $0.02033232382213174\n",
            "input date: 2020-01-01 ETH-BTC, Fr: 2019-06-16, To: 2020-01-01, windwSize: 200, VWAP: $0.02197601925178166\n",
            "input date: 2021-01-01 ETH-BTC, Fr: 2020-06-16, To: 2021-01-01, windwSize: 200, VWAP: $0.030595392942664668\n",
            "input date: 2021-11-11 ETH-BTC, Fr: 2021-04-26, To: 2021-11-10, windwSize: 199, VWAP: $0.06635134160797233\n",
            "input date: 2022-01-01 ETH-BTC, Fr: 2021-06-16, To: 2021-11-10, windwSize: 148, VWAP: $0.06653489909662072\n"
          ]
        }
      ]
    },
    {
      "cell_type": "code",
      "metadata": {
        "id": "C5kOr8e1Ah2d"
      },
      "source": [
        "import unittest\n",
        "\n",
        "class TestVWAPCalculator(unittest.TestCase):\n",
        "\n",
        "    def test_btcUsd1(self):\n",
        "        '''Test case function for btcUsd'''\n",
        "        self.calc = VWAPCalculator(windowSize = 1)\n",
        "        self.calc.updateDate('2021-11-08')\n",
        "        self.calc.refreshApi()\n",
        "        result = self.calc.getVWAP()\n",
        "        expected = 67554.84\n",
        "        self.assertEqual(round(result, 5), round(expected, 5))\n",
        "\n",
        "    def test_btcUsd2(self):\n",
        "        '''Test case function for btcUsd'''\n",
        "        self.calc = VWAPCalculator(windowSize = 2)\n",
        "        self.calc.updateDate('2021-11-08')\n",
        "        self.calc.refreshApi()\n",
        "        result = self.calc.getVWAP()\n",
        "        expected = (67554.84 * 17661.872972 + 63309.13 * 5596.024607) / (17661.872972 + 5596.024607)  \n",
        "        self.assertEqual(round(result, 5), round(expected, 5))\n",
        "  \n",
        "    def test_ethUSD1(self):\n",
        "        '''Test case function for ethUsd'''\n",
        "        self.calc = VWAPCalculator(windowSize = 2, pair = 'ETH-USD')\n",
        "        self.calc.updateDate('2021-11-08')\n",
        "        self.calc.refreshApi()\n",
        "        result = self.calc.getVWAP()\n",
        "        expected = (4811.90 * 163884.293503 + 4617.02 * 85312.856137) / (163884.293503 + 85312.856137)  \n",
        "        self.assertEqual(round(result, 5), round(expected, 5))\n",
        "\n",
        "    def test_ethUSD2(self):\n",
        "        '''Test case function for ethUsd'''\n",
        "        self.calc = VWAPCalculator(windowSize = 1, pair = 'ETH-USD')\n",
        "        self.calc.updateDate('2021-10-22')\n",
        "        self.calc.refreshApi()\n",
        "        result = self.calc.getVWAP()\n",
        "        expected = 3971.55  \n",
        "        self.assertEqual(round(result, 5), round(expected, 5))\n",
        "\n",
        "    def test_ethBTC1(self):\n",
        "        '''Test case function for ethUsd'''\n",
        "        self.calc = VWAPCalculator(windowSize = 2, pair = 'ETH-BTC')\n",
        "        self.calc.updateDate('2021-11-02')\n",
        "        self.calc.refreshApi()\n",
        "        result = self.calc.getVWAP()\n",
        "        expected = (0.07262 * 36025.627982 + 0.07092 * 24140.364351) / (36025.627982 + 24140.364351)  \n",
        "        self.assertEqual(round(result, 5), round(expected, 5))\n",
        "\n",
        "    def test_ethBTC1(self):\n",
        "        '''Test case function for ethUsd'''\n",
        "        self.calc = VWAPCalculator(windowSize = 2, pair = 'ETH-BTC')\n",
        "        self.calc.updateDate('2021-11-02')\n",
        "        self.calc.refreshApi()\n",
        "        result = self.calc.getVWAP()\n",
        "        expected = (0.07262 * 36025.627982 + 0.07092 * 24140.364351) / (36025.627982 + 24140.364351)  \n",
        "        self.assertEqual(round(result, 5), round(expected, 5))\n",
        "\n",
        "    def test_ethBTC2(self):\n",
        "        '''Test case function for ethUsd'''\n",
        "        self.calc = VWAPCalculator(windowSize = 1, pair = 'ETH-BTC')\n",
        "        self.calc.updateDate('2016-05-18')\n",
        "        self.calc.refreshApi()\n",
        "        result = self.calc.getVWAP()\n",
        "        expected = 0.0293 \n",
        "        self.assertEqual(round(result, 5), round(expected, 5))"
      ],
      "execution_count": null,
      "outputs": []
    },
    {
      "cell_type": "code",
      "metadata": {
        "colab": {
          "base_uri": "https://localhost:8080/"
        },
        "id": "p9gj1pt_q4x-",
        "outputId": "f22f7343-b774-44a4-f948-3bf15309d21d"
      },
      "source": [
        "unittest.main(argv=[''], verbosity=2, exit=False)"
      ],
      "execution_count": null,
      "outputs": [
        {
          "output_type": "stream",
          "name": "stderr",
          "text": [
            "test_btcUsd1 (__main__.TestVWAPCalculator)\n",
            "Test case function for btcUsd ... ok\n",
            "test_btcUsd2 (__main__.TestVWAPCalculator)\n",
            "Test case function for btcUsd ... ok\n",
            "test_ethBTC1 (__main__.TestVWAPCalculator)\n",
            "Test case function for ethUsd ... ok\n",
            "test_ethBTC2 (__main__.TestVWAPCalculator)\n",
            "Test case function for ethUsd ... ok\n",
            "test_ethUSD1 (__main__.TestVWAPCalculator)\n",
            "Test case function for ethUsd ... ok\n",
            "test_ethUSD2 (__main__.TestVWAPCalculator)\n",
            "Test case function for ethUsd ... ok\n",
            "\n",
            "----------------------------------------------------------------------\n",
            "Ran 6 tests in 1.546s\n",
            "\n",
            "OK\n"
          ]
        },
        {
          "output_type": "execute_result",
          "data": {
            "text/plain": [
              "<unittest.main.TestProgram at 0x7fdeff475f90>"
            ]
          },
          "metadata": {},
          "execution_count": 6
        }
      ]
    }
  ]
}