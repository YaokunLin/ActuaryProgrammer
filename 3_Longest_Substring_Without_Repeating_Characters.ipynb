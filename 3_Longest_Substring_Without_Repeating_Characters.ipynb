{
  "nbformat": 4,
  "nbformat_minor": 0,
  "metadata": {
    "colab": {
      "name": "3. Longest Substring Without Repeating Characters.ipynb",
      "provenance": [],
      "authorship_tag": "ABX9TyOMjkMoDsF3WglYNROFnWgE",
      "include_colab_link": true
    },
    "kernelspec": {
      "name": "python3",
      "display_name": "Python 3"
    },
    "language_info": {
      "name": "python"
    }
  },
  "cells": [
    {
      "cell_type": "markdown",
      "metadata": {
        "id": "view-in-github",
        "colab_type": "text"
      },
      "source": [
        "<a href=\"https://colab.research.google.com/github/YaokunLin/ActuaryProgrammer/blob/main/3_Longest_Substring_Without_Repeating_Characters.ipynb\" target=\"_parent\"><img src=\"https://colab.research.google.com/assets/colab-badge.svg\" alt=\"Open In Colab\"/></a>"
      ]
    },
    {
      "cell_type": "code",
      "metadata": {
        "id": "0v5TUF50VdWT"
      },
      "source": [
        "class Solution(object):\n",
        "    def lengthOfLongestSubstring(self, s):\n",
        "        if s==\"\": return 0\n",
        "        l = 0\n",
        "        window=set()\n",
        "        ans=0\n",
        "        \n",
        "        for r in range(len(s)):\n",
        "          while s[r] in window:\n",
        "            window.remove(s[l])\n",
        "            l+=1\n",
        "          window.add(s[r])\n",
        "          ans=max(ans,len(window))\n",
        "          \n",
        "        return ans\n",
        "          "
      ],
      "execution_count": null,
      "outputs": []
    }
  ]
}