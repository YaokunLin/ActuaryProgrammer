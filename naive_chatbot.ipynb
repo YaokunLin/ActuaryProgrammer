{
  "cells": [
    {
      "cell_type": "markdown",
      "metadata": {
        "id": "view-in-github",
        "colab_type": "text"
      },
      "source": [
        "<a href=\"https://colab.research.google.com/github/YaokunLin/ActuaryProgrammer/blob/main/naive_chatbot.ipynb\" target=\"_parent\"><img src=\"https://colab.research.google.com/assets/colab-badge.svg\" alt=\"Open In Colab\"/></a>"
      ]
    },
    {
      "cell_type": "code",
      "execution_count": null,
      "metadata": {
        "id": "gQ58c3ZKffx8"
      },
      "outputs": [],
      "source": [
        "data = {\"intents\":\n",
        " [\n",
        "      {\"tag\": \"greetings\",\n",
        "      \"patterns\": [\"hello\", \"hey\", \"hi\", \"good day\", \"Greetings\", \"what's up?\", \"how is it going?\"],\n",
        "      \"responses\": [\"Hello!\", \"Hey!\", \"What can I do for you?\"],\n",
        "     },\n",
        "\n",
        "      {\"tag\": \"goodbye\",\n",
        "       \"patterns\": [\"cya\", \"See you later\", \"Goodbye\", \"I am Leaving\", \"Have a Good day\", \"bye\", \"cao\", \"see ya\"],\n",
        "       \"responses\": [\"Sad to see you go :(\", \"Talk to you later\", \"Goodbye!\"],\n",
        "      },\n",
        "\n",
        "      {\"tag\": \"age\",\n",
        "        \"patterns\": [\"how old\", \"how old is florian\", \"what is your age\", \"how old are you\", \"age?\"],\n",
        "        \"responses\": [\"My owner Florian is 21 years old!\", \"21 years!\"],\n",
        "       },\n",
        "\n",
        "      {\"tag\": \"name\",\n",
        "         \"patterns\": [\"what is your name\", \"what should I call you\", \"whats your name?\", \"who are you?\", \"Can you tell me your name?\"],\n",
        "         \"responses\": [\"You can call me Neural!.\", \"I'm Neural!\", \"I'm Neural the assistant of Florian!\"],\n",
        "        },\n",
        "\n",
        "      {\"tag\": \"hobby\",\n",
        "          \"patterns\": [\"what is your hobby\", \"what do you like to do in your free time?\"],\n",
        "          \"responses\": [\"I like swimming\"]\n",
        "      },\n",
        "          ]\n",
        "}"
      ]
    },
    {
      "cell_type": "code",
      "source": [],
      "metadata": {
        "id": "y8ZaI1HUOv9w"
      },
      "execution_count": null,
      "outputs": []
    },
    {
      "cell_type": "code",
      "source": [
        "sum([1,2])"
      ],
      "metadata": {
        "colab": {
          "base_uri": "https://localhost:8080/"
        },
        "id": "BMn_Bdl2H806",
        "outputId": "e7147842-9cdc-4048-8478-33259e2ffba9"
      },
      "execution_count": null,
      "outputs": [
        {
          "output_type": "execute_result",
          "data": {
            "text/plain": [
              "3"
            ]
          },
          "metadata": {},
          "execution_count": 1
        }
      ]
    },
    {
      "cell_type": "code",
      "source": [
        "3 == 3"
      ],
      "metadata": {
        "id": "1Y3HMPfHpgxi",
        "colab": {
          "base_uri": "https://localhost:8080/"
        },
        "outputId": "c3bfc25e-5b41-46f0-8135-05f60aa203b0"
      },
      "execution_count": null,
      "outputs": [
        {
          "output_type": "execute_result",
          "data": {
            "text/plain": [
              "True"
            ]
          },
          "metadata": {},
          "execution_count": 2
        }
      ]
    },
    {
      "cell_type": "code",
      "execution_count": null,
      "metadata": {
        "colab": {
          "base_uri": "https://localhost:8080/"
        },
        "id": "s08f-IXDhHgQ",
        "outputId": "44a24917-4f2a-4acb-e5b6-acec7854aa21"
      },
      "outputs": [
        {
          "name": "stderr",
          "output_type": "stream",
          "text": [
            "[nltk_data] Downloading package punkt to /root/nltk_data...\n",
            "[nltk_data]   Unzipping tokenizers/punkt.zip.\n",
            "[nltk_data] Downloading package wordnet to /root/nltk_data...\n",
            "[nltk_data] Downloading package omw-1.4 to /root/nltk_data...\n"
          ]
        },
        {
          "data": {
            "text/plain": [
              "True"
            ]
          },
          "execution_count": 2,
          "metadata": {},
          "output_type": "execute_result"
        }
      ],
      "source": [
        "import pickle\n",
        "import numpy as np\n",
        "import nltk\n",
        "from nltk.stem import WordNetLemmatizer\n",
        "from tensorflow.keras.models import Sequential\n",
        "from tensorflow.keras.layers import Dense, Activation, Dropout\n",
        "from tensorflow.keras.optimizers import SGD\n",
        "import random\n",
        "\n",
        "nltk.download('punkt')\n",
        "nltk.download('wordnet')\n",
        "nltk.download('omw-1.4')"
      ]
    },
    {
      "cell_type": "code",
      "execution_count": null,
      "metadata": {
        "id": "tzOisOmCehfD"
      },
      "outputs": [],
      "source": [
        "intents = data\n",
        "lemmatizer = WordNetLemmatizer()\n",
        "\n",
        "words = []\n",
        "classes = []\n",
        "documents = []\n",
        "ignore_letters = ['?', '!', '.', ',']\n",
        "\n",
        "for intent in intents['intents']:\n",
        "  for pattern in intent['patterns']:\n",
        "    word_list = nltk.word_tokenize(pattern)\n",
        "    words.extend(word_list)\n",
        "    documents.append((word_list, intent[ 'tag']))\n",
        "    if intent['tag'] not in classes:\n",
        "      classes.append(intent['tag'])\n",
        "\n",
        "words = [lemmatizer.lemmatize(word) for word in words if word not in ignore_letters]\n",
        "words = sorted(set(words))\n",
        "classes = sorted(set(classes))"
      ]
    },
    {
      "cell_type": "code",
      "source": [],
      "metadata": {
        "id": "vJztbQYWhBuk"
      },
      "execution_count": null,
      "outputs": []
    },
    {
      "cell_type": "code",
      "execution_count": null,
      "metadata": {
        "id": "gLJJtLvyo1ix"
      },
      "outputs": [],
      "source": [
        "pickle.dump(words, open('words.pk1', 'wb'))\n",
        "pickle.dump(classes, open('classes.pkl', 'wb'))\n",
        "\n",
        "training = []\n",
        "output_empty = [0] * len(classes)\n",
        "for document in documents:\n",
        "  bag = []\n",
        "  word_patterns = document[0]\n",
        "  word_patterns = [lemmatizer.lemmatize(word.lower()) for word in word_patterns]\n",
        "\n",
        "  for word in words: bag.append(1) if word in word_patterns else bag.append(0)\n",
        "\n",
        "  output_row = list(output_empty)\n",
        "  output_row[classes.index(document[1])] = 1\n",
        "  training.append([bag, output_row])"
      ]
    },
    {
      "cell_type": "code",
      "execution_count": null,
      "metadata": {
        "colab": {
          "base_uri": "https://localhost:8080/"
        },
        "id": "5Ew74YGnqfAb",
        "outputId": "1f7c93c5-9592-4200-9415-adf470176f89"
      },
      "outputs": [
        {
          "name": "stderr",
          "output_type": "stream",
          "text": [
            "<ipython-input-5-394cee6d3829>:2: VisibleDeprecationWarning: Creating an ndarray from ragged nested sequences (which is a list-or-tuple of lists-or-tuples-or ndarrays with different lengths or shapes) is deprecated. If you meant to do this, you must specify 'dtype=object' when creating the ndarray.\n",
            "  training = np.array(training)\n",
            "/usr/local/lib/python3.8/dist-packages/keras/optimizers/optimizer_v2/gradient_descent.py:108: UserWarning: The `lr` argument is deprecated, use `learning_rate` instead.\n",
            "  super(SGD, self).__init__(name, **kwargs)\n"
          ]
        },
        {
          "name": "stdout",
          "output_type": "stream",
          "text": [
            "Epoch 1/200\n",
            "6/6 [==============================] - 1s 2ms/step - loss: 1.6242 - accuracy: 0.2593\n",
            "Epoch 2/200\n",
            "6/6 [==============================] - 0s 2ms/step - loss: 1.5222 - accuracy: 0.3704\n",
            "Epoch 3/200\n",
            "6/6 [==============================] - 0s 2ms/step - loss: 1.5603 - accuracy: 0.1852\n",
            "Epoch 4/200\n",
            "6/6 [==============================] - 0s 2ms/step - loss: 1.3834 - accuracy: 0.4444\n",
            "Epoch 5/200\n",
            "6/6 [==============================] - 0s 2ms/step - loss: 1.4191 - accuracy: 0.4444\n",
            "Epoch 6/200\n",
            "6/6 [==============================] - 0s 2ms/step - loss: 1.4231 - accuracy: 0.4444\n",
            "Epoch 7/200\n",
            "6/6 [==============================] - 0s 2ms/step - loss: 1.3264 - accuracy: 0.5185\n",
            "Epoch 8/200\n",
            "6/6 [==============================] - 0s 2ms/step - loss: 1.1758 - accuracy: 0.5185\n",
            "Epoch 9/200\n",
            "6/6 [==============================] - 0s 2ms/step - loss: 1.0421 - accuracy: 0.6667\n",
            "Epoch 10/200\n",
            "6/6 [==============================] - 0s 3ms/step - loss: 1.0318 - accuracy: 0.7778\n",
            "Epoch 11/200\n",
            "6/6 [==============================] - 0s 2ms/step - loss: 1.0987 - accuracy: 0.6667\n",
            "Epoch 12/200\n",
            "6/6 [==============================] - 0s 3ms/step - loss: 0.9690 - accuracy: 0.6296\n",
            "Epoch 13/200\n",
            "6/6 [==============================] - 0s 2ms/step - loss: 0.8510 - accuracy: 0.7407\n",
            "Epoch 14/200\n",
            "6/6 [==============================] - 0s 2ms/step - loss: 0.8085 - accuracy: 0.8148\n",
            "Epoch 15/200\n",
            "6/6 [==============================] - 0s 2ms/step - loss: 1.0476 - accuracy: 0.6296\n",
            "Epoch 16/200\n",
            "6/6 [==============================] - 0s 2ms/step - loss: 0.8209 - accuracy: 0.7037\n",
            "Epoch 17/200\n",
            "6/6 [==============================] - 0s 2ms/step - loss: 0.6036 - accuracy: 0.7407\n",
            "Epoch 18/200\n",
            "6/6 [==============================] - 0s 2ms/step - loss: 0.6084 - accuracy: 0.7407\n",
            "Epoch 19/200\n",
            "6/6 [==============================] - 0s 2ms/step - loss: 0.6375 - accuracy: 0.7037\n",
            "Epoch 20/200\n",
            "6/6 [==============================] - 0s 3ms/step - loss: 0.4321 - accuracy: 0.8889\n",
            "Epoch 21/200\n",
            "6/6 [==============================] - 0s 2ms/step - loss: 0.6475 - accuracy: 0.8148\n",
            "Epoch 22/200\n",
            "6/6 [==============================] - 0s 2ms/step - loss: 0.5024 - accuracy: 0.9259\n",
            "Epoch 23/200\n",
            "6/6 [==============================] - 0s 2ms/step - loss: 0.5272 - accuracy: 0.8148\n",
            "Epoch 24/200\n",
            "6/6 [==============================] - 0s 2ms/step - loss: 0.3776 - accuracy: 0.8889\n",
            "Epoch 25/200\n",
            "6/6 [==============================] - 0s 2ms/step - loss: 0.4848 - accuracy: 0.8519\n",
            "Epoch 26/200\n",
            "6/6 [==============================] - 0s 2ms/step - loss: 0.3425 - accuracy: 0.9259\n",
            "Epoch 27/200\n",
            "6/6 [==============================] - 0s 4ms/step - loss: 0.4377 - accuracy: 0.8889\n",
            "Epoch 28/200\n",
            "6/6 [==============================] - 0s 2ms/step - loss: 0.3819 - accuracy: 0.9259\n",
            "Epoch 29/200\n",
            "6/6 [==============================] - 0s 3ms/step - loss: 0.1978 - accuracy: 0.9259\n",
            "Epoch 30/200\n",
            "6/6 [==============================] - 0s 2ms/step - loss: 0.3493 - accuracy: 0.8148\n",
            "Epoch 31/200\n",
            "6/6 [==============================] - 0s 3ms/step - loss: 0.2615 - accuracy: 0.9259\n",
            "Epoch 32/200\n",
            "6/6 [==============================] - 0s 2ms/step - loss: 0.2874 - accuracy: 0.9259\n",
            "Epoch 33/200\n",
            "6/6 [==============================] - 0s 2ms/step - loss: 0.2794 - accuracy: 0.9259\n",
            "Epoch 34/200\n",
            "6/6 [==============================] - 0s 2ms/step - loss: 0.2477 - accuracy: 0.9630\n",
            "Epoch 35/200\n",
            "6/6 [==============================] - 0s 2ms/step - loss: 0.3663 - accuracy: 0.8148\n",
            "Epoch 36/200\n",
            "6/6 [==============================] - 0s 2ms/step - loss: 0.2861 - accuracy: 0.8889\n",
            "Epoch 37/200\n",
            "6/6 [==============================] - 0s 2ms/step - loss: 0.2675 - accuracy: 0.9259\n",
            "Epoch 38/200\n",
            "6/6 [==============================] - 0s 2ms/step - loss: 0.2117 - accuracy: 0.9259\n",
            "Epoch 39/200\n",
            "6/6 [==============================] - 0s 2ms/step - loss: 0.1622 - accuracy: 1.0000\n",
            "Epoch 40/200\n",
            "6/6 [==============================] - 0s 7ms/step - loss: 0.1743 - accuracy: 0.9630\n",
            "Epoch 41/200\n",
            "6/6 [==============================] - 0s 3ms/step - loss: 0.3359 - accuracy: 0.8519\n",
            "Epoch 42/200\n",
            "6/6 [==============================] - 0s 3ms/step - loss: 0.1441 - accuracy: 0.9630\n",
            "Epoch 43/200\n",
            "6/6 [==============================] - 0s 2ms/step - loss: 0.3018 - accuracy: 0.8519\n",
            "Epoch 44/200\n",
            "6/6 [==============================] - 0s 2ms/step - loss: 0.2542 - accuracy: 0.8889\n",
            "Epoch 45/200\n",
            "6/6 [==============================] - 0s 3ms/step - loss: 0.2829 - accuracy: 0.9259\n",
            "Epoch 46/200\n",
            "6/6 [==============================] - 0s 2ms/step - loss: 0.1936 - accuracy: 0.9259\n",
            "Epoch 47/200\n",
            "6/6 [==============================] - 0s 2ms/step - loss: 0.1671 - accuracy: 0.9259\n",
            "Epoch 48/200\n",
            "6/6 [==============================] - 0s 2ms/step - loss: 0.2093 - accuracy: 0.9630\n",
            "Epoch 49/200\n",
            "6/6 [==============================] - 0s 2ms/step - loss: 0.1506 - accuracy: 0.9630\n",
            "Epoch 50/200\n",
            "6/6 [==============================] - 0s 2ms/step - loss: 0.1573 - accuracy: 0.9630\n",
            "Epoch 51/200\n",
            "6/6 [==============================] - 0s 3ms/step - loss: 0.2648 - accuracy: 0.9259\n",
            "Epoch 52/200\n",
            "6/6 [==============================] - 0s 3ms/step - loss: 0.1769 - accuracy: 0.9259\n",
            "Epoch 53/200\n",
            "6/6 [==============================] - 0s 3ms/step - loss: 0.1093 - accuracy: 0.9630\n",
            "Epoch 54/200\n",
            "6/6 [==============================] - 0s 3ms/step - loss: 0.2741 - accuracy: 0.8148\n",
            "Epoch 55/200\n",
            "6/6 [==============================] - 0s 2ms/step - loss: 0.1446 - accuracy: 0.9630\n",
            "Epoch 56/200\n",
            "6/6 [==============================] - 0s 2ms/step - loss: 0.1336 - accuracy: 0.9259\n",
            "Epoch 57/200\n",
            "6/6 [==============================] - 0s 3ms/step - loss: 0.1558 - accuracy: 0.9630\n",
            "Epoch 58/200\n",
            "6/6 [==============================] - 0s 3ms/step - loss: 0.2677 - accuracy: 0.8519\n",
            "Epoch 59/200\n",
            "6/6 [==============================] - 0s 2ms/step - loss: 0.1589 - accuracy: 0.9630\n",
            "Epoch 60/200\n",
            "6/6 [==============================] - 0s 3ms/step - loss: 0.1259 - accuracy: 0.9630\n",
            "Epoch 61/200\n",
            "6/6 [==============================] - 0s 2ms/step - loss: 0.1406 - accuracy: 0.9630\n",
            "Epoch 62/200\n",
            "6/6 [==============================] - 0s 3ms/step - loss: 0.0628 - accuracy: 1.0000\n",
            "Epoch 63/200\n",
            "6/6 [==============================] - 0s 2ms/step - loss: 0.1378 - accuracy: 0.9630\n",
            "Epoch 64/200\n",
            "6/6 [==============================] - 0s 2ms/step - loss: 0.1193 - accuracy: 0.9259\n",
            "Epoch 65/200\n",
            "6/6 [==============================] - 0s 2ms/step - loss: 0.2396 - accuracy: 0.9630\n",
            "Epoch 66/200\n",
            "6/6 [==============================] - 0s 3ms/step - loss: 0.1218 - accuracy: 1.0000\n",
            "Epoch 67/200\n",
            "6/6 [==============================] - 0s 2ms/step - loss: 0.2348 - accuracy: 0.9259\n",
            "Epoch 68/200\n",
            "6/6 [==============================] - 0s 2ms/step - loss: 0.1301 - accuracy: 0.9630\n",
            "Epoch 69/200\n",
            "6/6 [==============================] - 0s 2ms/step - loss: 0.1180 - accuracy: 0.9630\n",
            "Epoch 70/200\n",
            "6/6 [==============================] - 0s 2ms/step - loss: 0.1225 - accuracy: 0.9630\n",
            "Epoch 71/200\n",
            "6/6 [==============================] - 0s 2ms/step - loss: 0.1029 - accuracy: 0.9630\n",
            "Epoch 72/200\n",
            "6/6 [==============================] - 0s 2ms/step - loss: 0.1948 - accuracy: 0.9259\n",
            "Epoch 73/200\n",
            "6/6 [==============================] - 0s 2ms/step - loss: 0.2044 - accuracy: 0.8889\n",
            "Epoch 74/200\n",
            "6/6 [==============================] - 0s 2ms/step - loss: 0.1234 - accuracy: 1.0000\n",
            "Epoch 75/200\n",
            "6/6 [==============================] - 0s 2ms/step - loss: 0.1254 - accuracy: 0.9630\n",
            "Epoch 76/200\n",
            "6/6 [==============================] - 0s 3ms/step - loss: 0.1310 - accuracy: 0.9630\n",
            "Epoch 77/200\n",
            "6/6 [==============================] - 0s 2ms/step - loss: 0.2530 - accuracy: 0.9259\n",
            "Epoch 78/200\n",
            "6/6 [==============================] - 0s 3ms/step - loss: 0.0755 - accuracy: 1.0000\n",
            "Epoch 79/200\n",
            "6/6 [==============================] - 0s 2ms/step - loss: 0.0402 - accuracy: 1.0000\n",
            "Epoch 80/200\n",
            "6/6 [==============================] - 0s 2ms/step - loss: 0.1629 - accuracy: 0.9259\n",
            "Epoch 81/200\n",
            "6/6 [==============================] - 0s 2ms/step - loss: 0.1048 - accuracy: 0.9630\n",
            "Epoch 82/200\n",
            "6/6 [==============================] - 0s 2ms/step - loss: 0.0850 - accuracy: 0.9630\n",
            "Epoch 83/200\n",
            "6/6 [==============================] - 0s 2ms/step - loss: 0.1636 - accuracy: 0.9259\n",
            "Epoch 84/200\n",
            "6/6 [==============================] - 0s 2ms/step - loss: 0.0615 - accuracy: 1.0000\n",
            "Epoch 85/200\n",
            "6/6 [==============================] - 0s 2ms/step - loss: 0.0910 - accuracy: 0.9630\n",
            "Epoch 86/200\n",
            "6/6 [==============================] - 0s 2ms/step - loss: 0.1213 - accuracy: 0.9259\n",
            "Epoch 87/200\n",
            "6/6 [==============================] - 0s 2ms/step - loss: 0.0592 - accuracy: 1.0000\n",
            "Epoch 88/200\n",
            "6/6 [==============================] - 0s 4ms/step - loss: 0.1409 - accuracy: 0.8889\n",
            "Epoch 89/200\n",
            "6/6 [==============================] - 0s 2ms/step - loss: 0.0779 - accuracy: 0.9630\n",
            "Epoch 90/200\n",
            "6/6 [==============================] - 0s 5ms/step - loss: 0.1823 - accuracy: 0.8889\n",
            "Epoch 91/200\n",
            "6/6 [==============================] - 0s 3ms/step - loss: 0.1302 - accuracy: 0.9630\n",
            "Epoch 92/200\n",
            "6/6 [==============================] - 0s 2ms/step - loss: 0.0911 - accuracy: 1.0000\n",
            "Epoch 93/200\n",
            "6/6 [==============================] - 0s 2ms/step - loss: 0.0562 - accuracy: 0.9630\n",
            "Epoch 94/200\n",
            "6/6 [==============================] - 0s 2ms/step - loss: 0.0405 - accuracy: 1.0000\n",
            "Epoch 95/200\n",
            "6/6 [==============================] - 0s 2ms/step - loss: 0.2752 - accuracy: 0.9259\n",
            "Epoch 96/200\n",
            "6/6 [==============================] - 0s 3ms/step - loss: 0.0459 - accuracy: 1.0000\n",
            "Epoch 97/200\n",
            "6/6 [==============================] - 0s 2ms/step - loss: 0.1118 - accuracy: 0.9259\n",
            "Epoch 98/200\n",
            "6/6 [==============================] - 0s 2ms/step - loss: 0.1497 - accuracy: 0.9259\n",
            "Epoch 99/200\n",
            "6/6 [==============================] - 0s 2ms/step - loss: 0.0603 - accuracy: 1.0000\n",
            "Epoch 100/200\n",
            "6/6 [==============================] - 0s 3ms/step - loss: 0.1454 - accuracy: 0.9630\n",
            "Epoch 101/200\n",
            "6/6 [==============================] - 0s 2ms/step - loss: 0.1522 - accuracy: 0.9259\n",
            "Epoch 102/200\n",
            "6/6 [==============================] - 0s 3ms/step - loss: 0.1055 - accuracy: 0.9630\n",
            "Epoch 103/200\n",
            "6/6 [==============================] - 0s 2ms/step - loss: 0.1151 - accuracy: 0.9259\n",
            "Epoch 104/200\n",
            "6/6 [==============================] - 0s 2ms/step - loss: 0.0815 - accuracy: 0.9630\n",
            "Epoch 105/200\n",
            "6/6 [==============================] - 0s 3ms/step - loss: 0.1114 - accuracy: 0.9630\n",
            "Epoch 106/200\n",
            "6/6 [==============================] - 0s 2ms/step - loss: 0.0832 - accuracy: 0.9630\n",
            "Epoch 107/200\n",
            "6/6 [==============================] - 0s 3ms/step - loss: 0.0578 - accuracy: 1.0000\n",
            "Epoch 108/200\n",
            "6/6 [==============================] - 0s 3ms/step - loss: 0.2164 - accuracy: 0.9630\n",
            "Epoch 109/200\n",
            "6/6 [==============================] - 0s 3ms/step - loss: 0.1331 - accuracy: 0.9630\n",
            "Epoch 110/200\n",
            "6/6 [==============================] - 0s 2ms/step - loss: 0.0866 - accuracy: 0.9630\n",
            "Epoch 111/200\n",
            "6/6 [==============================] - 0s 2ms/step - loss: 0.0989 - accuracy: 0.9259\n",
            "Epoch 112/200\n",
            "6/6 [==============================] - 0s 2ms/step - loss: 0.0910 - accuracy: 0.9630\n",
            "Epoch 113/200\n",
            "6/6 [==============================] - 0s 2ms/step - loss: 0.0703 - accuracy: 1.0000\n",
            "Epoch 114/200\n",
            "6/6 [==============================] - 0s 3ms/step - loss: 0.1415 - accuracy: 0.9259\n",
            "Epoch 115/200\n",
            "6/6 [==============================] - 0s 2ms/step - loss: 0.0771 - accuracy: 0.9630\n",
            "Epoch 116/200\n",
            "6/6 [==============================] - 0s 2ms/step - loss: 0.1292 - accuracy: 0.9259\n",
            "Epoch 117/200\n",
            "6/6 [==============================] - 0s 2ms/step - loss: 0.1277 - accuracy: 0.9259\n",
            "Epoch 118/200\n",
            "6/6 [==============================] - 0s 3ms/step - loss: 0.1388 - accuracy: 0.9630\n",
            "Epoch 119/200\n",
            "6/6 [==============================] - 0s 2ms/step - loss: 0.1257 - accuracy: 0.9259\n",
            "Epoch 120/200\n",
            "6/6 [==============================] - 0s 2ms/step - loss: 0.0527 - accuracy: 0.9630\n",
            "Epoch 121/200\n",
            "6/6 [==============================] - 0s 2ms/step - loss: 0.1004 - accuracy: 0.9259\n",
            "Epoch 122/200\n",
            "6/6 [==============================] - 0s 3ms/step - loss: 0.1483 - accuracy: 0.9630\n",
            "Epoch 123/200\n",
            "6/6 [==============================] - 0s 3ms/step - loss: 0.1102 - accuracy: 0.9630\n",
            "Epoch 124/200\n",
            "6/6 [==============================] - 0s 3ms/step - loss: 0.1741 - accuracy: 0.8519\n",
            "Epoch 125/200\n",
            "6/6 [==============================] - 0s 3ms/step - loss: 0.0564 - accuracy: 0.9630\n",
            "Epoch 126/200\n",
            "6/6 [==============================] - 0s 2ms/step - loss: 0.2390 - accuracy: 0.9259\n",
            "Epoch 127/200\n",
            "6/6 [==============================] - 0s 2ms/step - loss: 0.0548 - accuracy: 0.9630\n",
            "Epoch 128/200\n",
            "6/6 [==============================] - 0s 2ms/step - loss: 0.0805 - accuracy: 0.9630\n",
            "Epoch 129/200\n",
            "6/6 [==============================] - 0s 2ms/step - loss: 0.0945 - accuracy: 0.9630\n",
            "Epoch 130/200\n",
            "6/6 [==============================] - 0s 2ms/step - loss: 0.0951 - accuracy: 0.9630\n",
            "Epoch 131/200\n",
            "6/6 [==============================] - 0s 2ms/step - loss: 0.1008 - accuracy: 0.9630\n",
            "Epoch 132/200\n",
            "6/6 [==============================] - 0s 2ms/step - loss: 0.1137 - accuracy: 0.9259\n",
            "Epoch 133/200\n",
            "6/6 [==============================] - 0s 2ms/step - loss: 0.1314 - accuracy: 0.9259\n",
            "Epoch 134/200\n",
            "6/6 [==============================] - 0s 3ms/step - loss: 0.0408 - accuracy: 1.0000\n",
            "Epoch 135/200\n",
            "6/6 [==============================] - 0s 3ms/step - loss: 0.0652 - accuracy: 0.9630\n",
            "Epoch 136/200\n",
            "6/6 [==============================] - 0s 3ms/step - loss: 0.0818 - accuracy: 0.9630\n",
            "Epoch 137/200\n",
            "6/6 [==============================] - 0s 2ms/step - loss: 0.0536 - accuracy: 1.0000\n",
            "Epoch 138/200\n",
            "6/6 [==============================] - 0s 2ms/step - loss: 0.0845 - accuracy: 0.9259\n",
            "Epoch 139/200\n",
            "6/6 [==============================] - 0s 2ms/step - loss: 0.1217 - accuracy: 0.9259\n",
            "Epoch 140/200\n",
            "6/6 [==============================] - 0s 2ms/step - loss: 0.1103 - accuracy: 0.9630\n",
            "Epoch 141/200\n",
            "6/6 [==============================] - 0s 2ms/step - loss: 0.0699 - accuracy: 0.9630\n",
            "Epoch 142/200\n",
            "6/6 [==============================] - 0s 3ms/step - loss: 0.1416 - accuracy: 0.9259\n",
            "Epoch 143/200\n",
            "6/6 [==============================] - 0s 2ms/step - loss: 0.0854 - accuracy: 0.9630\n",
            "Epoch 144/200\n",
            "6/6 [==============================] - 0s 3ms/step - loss: 0.0675 - accuracy: 0.9630\n",
            "Epoch 145/200\n",
            "6/6 [==============================] - 0s 4ms/step - loss: 0.1293 - accuracy: 0.9259\n",
            "Epoch 146/200\n",
            "6/6 [==============================] - 0s 3ms/step - loss: 0.1363 - accuracy: 0.8889\n",
            "Epoch 147/200\n",
            "6/6 [==============================] - 0s 3ms/step - loss: 0.0715 - accuracy: 0.9259\n",
            "Epoch 148/200\n",
            "6/6 [==============================] - 0s 2ms/step - loss: 0.0350 - accuracy: 1.0000\n",
            "Epoch 149/200\n",
            "6/6 [==============================] - 0s 2ms/step - loss: 0.0580 - accuracy: 0.9630\n",
            "Epoch 150/200\n",
            "6/6 [==============================] - 0s 3ms/step - loss: 0.0980 - accuracy: 0.9259\n",
            "Epoch 151/200\n",
            "6/6 [==============================] - 0s 2ms/step - loss: 0.1093 - accuracy: 0.9630\n",
            "Epoch 152/200\n",
            "6/6 [==============================] - 0s 3ms/step - loss: 0.1541 - accuracy: 0.9259\n",
            "Epoch 153/200\n",
            "6/6 [==============================] - 0s 3ms/step - loss: 0.1665 - accuracy: 0.9259\n",
            "Epoch 154/200\n",
            "6/6 [==============================] - 0s 3ms/step - loss: 0.0925 - accuracy: 0.9259\n",
            "Epoch 155/200\n",
            "6/6 [==============================] - 0s 2ms/step - loss: 0.0659 - accuracy: 0.9630\n",
            "Epoch 156/200\n",
            "6/6 [==============================] - 0s 2ms/step - loss: 0.1045 - accuracy: 0.9630\n",
            "Epoch 157/200\n",
            "6/6 [==============================] - 0s 3ms/step - loss: 0.0904 - accuracy: 0.9259\n",
            "Epoch 158/200\n",
            "6/6 [==============================] - 0s 3ms/step - loss: 0.1193 - accuracy: 0.9630\n",
            "Epoch 159/200\n",
            "6/6 [==============================] - 0s 2ms/step - loss: 0.1455 - accuracy: 0.9630\n",
            "Epoch 160/200\n",
            "6/6 [==============================] - 0s 2ms/step - loss: 0.0817 - accuracy: 0.9630\n",
            "Epoch 161/200\n",
            "6/6 [==============================] - 0s 2ms/step - loss: 0.1130 - accuracy: 0.9630\n",
            "Epoch 162/200\n",
            "6/6 [==============================] - 0s 2ms/step - loss: 0.2087 - accuracy: 0.9259\n",
            "Epoch 163/200\n",
            "6/6 [==============================] - 0s 2ms/step - loss: 0.0483 - accuracy: 1.0000\n",
            "Epoch 164/200\n",
            "6/6 [==============================] - 0s 2ms/step - loss: 0.1477 - accuracy: 0.8889\n",
            "Epoch 165/200\n",
            "6/6 [==============================] - 0s 2ms/step - loss: 0.0422 - accuracy: 1.0000\n",
            "Epoch 166/200\n",
            "6/6 [==============================] - 0s 2ms/step - loss: 0.0853 - accuracy: 0.9630\n",
            "Epoch 167/200\n",
            "6/6 [==============================] - 0s 2ms/step - loss: 0.0711 - accuracy: 0.9259\n",
            "Epoch 168/200\n",
            "6/6 [==============================] - 0s 2ms/step - loss: 0.1074 - accuracy: 0.9259\n",
            "Epoch 169/200\n",
            "6/6 [==============================] - 0s 3ms/step - loss: 0.1511 - accuracy: 0.9259\n",
            "Epoch 170/200\n",
            "6/6 [==============================] - 0s 2ms/step - loss: 0.0854 - accuracy: 0.9630\n",
            "Epoch 171/200\n",
            "6/6 [==============================] - 0s 3ms/step - loss: 0.1378 - accuracy: 0.9259\n",
            "Epoch 172/200\n",
            "6/6 [==============================] - 0s 2ms/step - loss: 0.0822 - accuracy: 0.9630\n",
            "Epoch 173/200\n",
            "6/6 [==============================] - 0s 2ms/step - loss: 0.0428 - accuracy: 1.0000\n",
            "Epoch 174/200\n",
            "6/6 [==============================] - 0s 2ms/step - loss: 0.1550 - accuracy: 0.9259\n",
            "Epoch 175/200\n",
            "6/6 [==============================] - 0s 2ms/step - loss: 0.0526 - accuracy: 1.0000\n",
            "Epoch 176/200\n",
            "6/6 [==============================] - 0s 2ms/step - loss: 0.1125 - accuracy: 0.9630\n",
            "Epoch 177/200\n",
            "6/6 [==============================] - 0s 3ms/step - loss: 0.0846 - accuracy: 0.9630\n",
            "Epoch 178/200\n",
            "6/6 [==============================] - 0s 3ms/step - loss: 0.1417 - accuracy: 0.9630\n",
            "Epoch 179/200\n",
            "6/6 [==============================] - 0s 2ms/step - loss: 0.0926 - accuracy: 0.9630\n",
            "Epoch 180/200\n",
            "6/6 [==============================] - 0s 3ms/step - loss: 0.0846 - accuracy: 0.9259\n",
            "Epoch 181/200\n",
            "6/6 [==============================] - 0s 3ms/step - loss: 0.1015 - accuracy: 0.9630\n",
            "Epoch 182/200\n",
            "6/6 [==============================] - 0s 3ms/step - loss: 0.0783 - accuracy: 0.9630\n",
            "Epoch 183/200\n",
            "6/6 [==============================] - 0s 3ms/step - loss: 0.1022 - accuracy: 0.9630\n",
            "Epoch 184/200\n",
            "6/6 [==============================] - 0s 3ms/step - loss: 0.0634 - accuracy: 1.0000\n",
            "Epoch 185/200\n",
            "6/6 [==============================] - 0s 3ms/step - loss: 0.1112 - accuracy: 0.9630\n",
            "Epoch 186/200\n",
            "6/6 [==============================] - 0s 3ms/step - loss: 0.0414 - accuracy: 0.9630\n",
            "Epoch 187/200\n",
            "6/6 [==============================] - 0s 2ms/step - loss: 0.1954 - accuracy: 0.9259\n",
            "Epoch 188/200\n",
            "6/6 [==============================] - 0s 3ms/step - loss: 0.0634 - accuracy: 1.0000\n",
            "Epoch 189/200\n",
            "6/6 [==============================] - 0s 3ms/step - loss: 0.1053 - accuracy: 0.9259\n",
            "Epoch 190/200\n",
            "6/6 [==============================] - 0s 2ms/step - loss: 0.0971 - accuracy: 0.9630\n",
            "Epoch 191/200\n",
            "6/6 [==============================] - 0s 3ms/step - loss: 0.0713 - accuracy: 0.9630\n",
            "Epoch 192/200\n",
            "6/6 [==============================] - 0s 3ms/step - loss: 0.0631 - accuracy: 0.9630\n",
            "Epoch 193/200\n",
            "6/6 [==============================] - 0s 3ms/step - loss: 0.0715 - accuracy: 1.0000\n",
            "Epoch 194/200\n",
            "6/6 [==============================] - 0s 3ms/step - loss: 0.0834 - accuracy: 0.9630\n",
            "Epoch 195/200\n",
            "6/6 [==============================] - 0s 3ms/step - loss: 0.0795 - accuracy: 0.9630\n",
            "Epoch 196/200\n",
            "6/6 [==============================] - 0s 2ms/step - loss: 0.1136 - accuracy: 0.9259\n",
            "Epoch 197/200\n",
            "6/6 [==============================] - 0s 2ms/step - loss: 0.0846 - accuracy: 0.9630\n",
            "Epoch 198/200\n",
            "6/6 [==============================] - 0s 3ms/step - loss: 0.1295 - accuracy: 0.9259\n",
            "Epoch 199/200\n",
            "6/6 [==============================] - 0s 2ms/step - loss: 0.0883 - accuracy: 0.9630\n",
            "Epoch 200/200\n",
            "6/6 [==============================] - 0s 3ms/step - loss: 0.1187 - accuracy: 0.8889\n",
            "Done\n"
          ]
        }
      ],
      "source": [
        "random.shuffle(training)\n",
        "training = np.array(training)\n",
        "\n",
        "\n",
        "train_x = list(training[:, 0])\n",
        "train_y = list(training[:, 1])\n",
        "model = Sequential()\n",
        "\n",
        "model.add(Dense(128, input_shape=(len(train_x[0]),), activation='relu'))\n",
        "model.add(Dropout(0.5))\n",
        "model.add(Dense(64, activation='relu'))\n",
        "model.add(Dropout(0.5))\n",
        "model.add(Dense(len(train_y[0]), activation='softmax'))\n",
        "\n",
        "sgd = SGD(lr=0.01, decay=1e-6, momentum=0.9, nesterov=True)\n",
        "model.compile(loss=\"categorical_crossentropy\", optimizer=sgd, metrics=['accuracy'])\n",
        "hist = model.fit(np.array(train_x), np.array(train_y), epochs=200, batch_size=5, verbose=1)\n",
        "model.save('chatbot_model.model', hist)\n",
        "\n",
        "print(\"Done\")\n"
      ]
    },
    {
      "cell_type": "code",
      "execution_count": null,
      "metadata": {
        "id": "NrUFW3jtpFN4"
      },
      "outputs": [],
      "source": [
        "def clean_up_sentence(sentence):\n",
        "  sentence_words = nltk.word_tokenize(sentence)\n",
        "  sentence_words = [lemmatizer.lemmatize(word) for word in sentence_words]\n",
        "  return sentence_words\n",
        "\n",
        "def bag_of_words(sentence):\n",
        "  sentence_words = clean_up_sentence(sentence)\n",
        "  bag = [0] * len(words)\n",
        "  for w in sentence_words:\n",
        "    for i, word in enumerate(words):\n",
        "      if word == w: bag[i] = 1\n",
        "  return np.array(bag)\n",
        "\n",
        "def get_response(intents_list, intents):\n",
        "   tag = intents_list[0][\"intent\"]\n",
        "   list_of_intents = intents[ 'intents']\n",
        "\n",
        "   for i in list_of_intents:\n",
        "     if i['tag'] == tag:\n",
        "       result = random.choice(i['responses'])\n",
        "       break\n",
        "   return result\n",
        "\n",
        "ERROR_THRESHOLD = 0.25\n",
        "def predict_class(sentence):\n",
        "   bow = bag_of_words(sentence)\n",
        "   res = model.predict(np.array([bow]))[0]\n",
        "   results = [[i, r] for i, r in enumerate(res) if r > ERROR_THRESHOLD]\n",
        "\n",
        "   results.sort(key=lambda x: x[1], reverse=True)\n",
        "   return_list = []\n",
        "   for r in results: return_list.append({ 'intent': classes[r[0]], 'probability': str(r[1])})\n",
        "   return return_list\n",
        "\n"
      ]
    },
    {
      "cell_type": "code",
      "execution_count": null,
      "metadata": {
        "colab": {
          "background_save": true,
          "base_uri": "https://localhost:8080/"
        },
        "id": "mJGRlZVvw5oX",
        "outputId": "f2fac3c3-a39e-409d-dee8-f02fae68a2e6"
      },
      "outputs": [
        {
          "name": "stdout",
          "output_type": "stream",
          "text": [
            "GO! Bot is runnin !\n",
            "1/1 [==============================] - 0s 71ms/step\n",
            "What can I do for you?\n",
            "1/1 [==============================] - 0s 15ms/step\n",
            "21 years!\n"
          ]
        }
      ],
      "source": [
        "print (\"GO! Bot is runnin !\")\n",
        "while True:\n",
        "  message = input(\"\")\n",
        "  ints = predict_class(message)\n",
        "  res = get_response(ints, intents)\n",
        "  print(res)"
      ]
    },
    {
      "cell_type": "code",
      "source": [
        "def outside_func1():\n",
        "  a = []\n",
        "  def inside_func1():\n",
        "    a.append(1)\n",
        "\n",
        "  inside_func1()\n",
        "  print(a)\n",
        "outside_func1()"
      ],
      "metadata": {
        "id": "fdvxGBc8Uuyq",
        "outputId": "bb5131f3-1814-4e27-f1cf-07fb14d2ef5f",
        "colab": {
          "base_uri": "https://localhost:8080/"
        }
      },
      "execution_count": null,
      "outputs": [
        {
          "output_type": "stream",
          "name": "stdout",
          "text": [
            "[1]\n"
          ]
        }
      ]
    },
    {
      "cell_type": "code",
      "source": [
        "def outside_func2():\n",
        "  b = 5\n",
        "  def inside_func2():\n",
        "    b = 6\n",
        "  inside_func2()\n",
        "  print(b)\n",
        "\n",
        "outside_func2()"
      ],
      "metadata": {
        "colab": {
          "base_uri": "https://localhost:8080/"
        },
        "id": "l6n1KhRfBy_0",
        "outputId": "8f9806e2-bfdb-4229-867f-ca085cd06586"
      },
      "execution_count": null,
      "outputs": [
        {
          "output_type": "stream",
          "name": "stdout",
          "text": [
            "5\n"
          ]
        }
      ]
    },
    {
      "cell_type": "code",
      "source": [
        "a = [\"\", \"   \"]\n",
        "\n",
        "\"-\".join(a).split(\"-\")\n"
      ],
      "metadata": {
        "colab": {
          "base_uri": "https://localhost:8080/"
        },
        "id": "rMe-Fan_gkvj",
        "outputId": "6b6773ea-1bec-41f3-b0ee-4795fa1a6b1a"
      },
      "execution_count": null,
      "outputs": [
        {
          "output_type": "execute_result",
          "data": {
            "text/plain": [
              "['', '   ']"
            ]
          },
          "metadata": {},
          "execution_count": 14
        }
      ]
    },
    {
      "cell_type": "code",
      "source": [
        "not []"
      ],
      "metadata": {
        "colab": {
          "base_uri": "https://localhost:8080/"
        },
        "id": "NP9JQ2QAgriA",
        "outputId": "b636f237-bf0c-4ecc-c71b-6d4a0832e589"
      },
      "execution_count": null,
      "outputs": [
        {
          "output_type": "execute_result",
          "data": {
            "text/plain": [
              "True"
            ]
          },
          "metadata": {},
          "execution_count": 2
        }
      ]
    },
    {
      "cell_type": "code",
      "source": [
        "def encode(strs):\n",
        "        return ''.join('%d:' % len(s) + s for s in strs)"
      ],
      "metadata": {
        "id": "JCFVRyPfgroV"
      },
      "execution_count": null,
      "outputs": []
    },
    {
      "cell_type": "code",
      "source": [
        "encode([\"aaaa\", \"bbb\"])"
      ],
      "metadata": {
        "id": "fobRmaLjScWT",
        "outputId": "3ad4cea7-c0c4-4105-f05a-e872e8aaa4c1",
        "colab": {
          "base_uri": "https://localhost:8080/",
          "height": 35
        }
      },
      "execution_count": null,
      "outputs": [
        {
          "output_type": "execute_result",
          "data": {
            "text/plain": [
              "'4:aaaa3:bbb'"
            ],
            "application/vnd.google.colaboratory.intrinsic+json": {
              "type": "string"
            }
          },
          "metadata": {},
          "execution_count": 3
        }
      ]
    },
    {
      "cell_type": "code",
      "source": [
        "a=[1,2,3,1]\n",
        "a.remove(1)\n",
        "a"
      ],
      "metadata": {
        "colab": {
          "base_uri": "https://localhost:8080/"
        },
        "id": "dXZvkx1oCNIz",
        "outputId": "cf496ba2-c756-4c9b-9465-824a3848cc91"
      },
      "execution_count": null,
      "outputs": [
        {
          "output_type": "execute_result",
          "data": {
            "text/plain": [
              "[2, 3, 1]"
            ]
          },
          "metadata": {},
          "execution_count": 3
        }
      ]
    },
    {
      "cell_type": "code",
      "source": [
        "\"1\".lower()"
      ],
      "metadata": {
        "id": "tX4OlNIYC8md",
        "outputId": "974d2019-7727-4185-c899-7feff4952142",
        "colab": {
          "base_uri": "https://localhost:8080/",
          "height": 35
        }
      },
      "execution_count": null,
      "outputs": [
        {
          "output_type": "execute_result",
          "data": {
            "text/plain": [
              "'1'"
            ],
            "application/vnd.google.colaboratory.intrinsic+json": {
              "type": "string"
            }
          },
          "metadata": {},
          "execution_count": 4
        }
      ]
    },
    {
      "cell_type": "code",
      "source": [
        "min([1,2,3])"
      ],
      "metadata": {
        "colab": {
          "base_uri": "https://localhost:8080/"
        },
        "id": "h1vuGWtqaEKx",
        "outputId": "4eebf7c1-9381-453b-eba7-fc2966401580"
      },
      "execution_count": null,
      "outputs": [
        {
          "output_type": "execute_result",
          "data": {
            "text/plain": [
              "1"
            ]
          },
          "metadata": {},
          "execution_count": 1
        }
      ]
    },
    {
      "cell_type": "code",
      "source": [
        "min(float('inf'), 4)"
      ],
      "metadata": {
        "id": "-N81xhGOacU8",
        "outputId": "689fbd5b-811a-412a-e5d2-cc2c71bf2074",
        "colab": {
          "base_uri": "https://localhost:8080/"
        }
      },
      "execution_count": null,
      "outputs": [
        {
          "output_type": "execute_result",
          "data": {
            "text/plain": [
              "4"
            ]
          },
          "metadata": {},
          "execution_count": 2
        }
      ]
    },
    {
      "cell_type": "code",
      "source": [
        "5 == 10"
      ],
      "metadata": {
        "id": "wrrj_F0293RM",
        "outputId": "25d3e424-4359-47b2-f96d-4593622b2cb7",
        "colab": {
          "base_uri": "https://localhost:8080/"
        }
      },
      "execution_count": null,
      "outputs": [
        {
          "output_type": "execute_result",
          "data": {
            "text/plain": [
              "False"
            ]
          },
          "metadata": {},
          "execution_count": 1
        }
      ]
    },
    {
      "cell_type": "code",
      "source": [
        "a = [1, 2, 3, 4]"
      ],
      "metadata": {
        "id": "m6aKiBHng19L"
      },
      "execution_count": null,
      "outputs": []
    },
    {
      "cell_type": "code",
      "source": [
        "a.pop()"
      ],
      "metadata": {
        "colab": {
          "base_uri": "https://localhost:8080/"
        },
        "id": "78S4Ci1Ng5Gg",
        "outputId": "b404ec67-c989-4999-bd3d-3c3ae2c05f4a"
      },
      "execution_count": null,
      "outputs": [
        {
          "output_type": "execute_result",
          "data": {
            "text/plain": [
              "4"
            ]
          },
          "metadata": {},
          "execution_count": 2
        }
      ]
    },
    {
      "cell_type": "code",
      "source": [
        "a"
      ],
      "metadata": {
        "colab": {
          "base_uri": "https://localhost:8080/"
        },
        "id": "Ns-Do5mEg7Uz",
        "outputId": "72d8244b-223f-45d7-cb52-ed54a83f261f"
      },
      "execution_count": null,
      "outputs": [
        {
          "output_type": "execute_result",
          "data": {
            "text/plain": [
              "[1, 2, 3, 5]"
            ]
          },
          "metadata": {},
          "execution_count": 5
        }
      ]
    },
    {
      "cell_type": "code",
      "source": [
        "a.append(5)"
      ],
      "metadata": {
        "id": "TS_T5VN4g8l8"
      },
      "execution_count": null,
      "outputs": []
    },
    {
      "cell_type": "code",
      "source": [
        "def isSimilar(s1, s2):\n",
        "    if s1 == s2:\n",
        "        return True\n",
        "\n",
        "    s1, s2 = list(s1), list(s2)\n",
        "    i = 0\n",
        "    while i <= len(s1)-1:\n",
        "        if s1[i] != s2[i]:\n",
        "            break\n",
        "        i += 1\n",
        "\n",
        "    j = i + 1\n",
        "    while j <= len(s1)-1:\n",
        "        if s1[j] == s2[i]:\n",
        "            break\n",
        "        j += 1\n",
        "\n",
        "    s1[i], s1[j] = s1[j], s1[i]\n",
        "    return s1 == s2"
      ],
      "metadata": {
        "id": "SFaONVPkhMKD"
      },
      "execution_count": null,
      "outputs": []
    },
    {
      "cell_type": "code",
      "source": [
        "isSimilar(\"tars\", \"rats\")"
      ],
      "metadata": {
        "colab": {
          "base_uri": "https://localhost:8080/"
        },
        "id": "i8AjQ3zm_aoI",
        "outputId": "0d2cfc9c-84a2-44e3-c9c8-b41439b090cc"
      },
      "execution_count": null,
      "outputs": [
        {
          "output_type": "execute_result",
          "data": {
            "text/plain": [
              "True"
            ]
          },
          "metadata": {},
          "execution_count": 3
        }
      ]
    },
    {
      "cell_type": "code",
      "source": [
        "isSimilar(\"rats\", \"arts\")"
      ],
      "metadata": {
        "colab": {
          "base_uri": "https://localhost:8080/"
        },
        "id": "ZDgYFjQK_jDp",
        "outputId": "97c30d94-7967-4f8b-d6a9-c0c4b5c0ef59"
      },
      "execution_count": null,
      "outputs": [
        {
          "output_type": "execute_result",
          "data": {
            "text/plain": [
              "True"
            ]
          },
          "metadata": {},
          "execution_count": 4
        }
      ]
    },
    {
      "cell_type": "code",
      "source": [
        "isSimilar(\"tars\", \"arts\")"
      ],
      "metadata": {
        "colab": {
          "base_uri": "https://localhost:8080/"
        },
        "id": "WTzjJmDU_qG0",
        "outputId": "c441c3c9-9766-4ad4-93ab-300d6b0843b4"
      },
      "execution_count": null,
      "outputs": [
        {
          "output_type": "execute_result",
          "data": {
            "text/plain": [
              "False"
            ]
          },
          "metadata": {},
          "execution_count": 11
        }
      ]
    },
    {
      "cell_type": "code",
      "source": [
        "isSimilar(\"star\", \"tars\"), isSimilar(\"star\", \"rats\"), isSimilar(\"star\", \"arts\")"
      ],
      "metadata": {
        "colab": {
          "base_uri": "https://localhost:8080/"
        },
        "id": "yD-cXGv5_yVV",
        "outputId": "59b5394c-00dd-4635-c560-c99177f54020"
      },
      "execution_count": null,
      "outputs": [
        {
          "output_type": "execute_result",
          "data": {
            "text/plain": [
              "(False, False, False)"
            ]
          },
          "metadata": {},
          "execution_count": 10
        }
      ]
    },
    {
      "cell_type": "code",
      "source": [
        "a = \"abc\"\n",
        "\n",
        "def change_it(x):\n",
        "  x[0], x[-1] = x[-1], x[0]\n",
        "  print(x, \"from func\")\n",
        "\n",
        "change_it(a)\n",
        "a"
      ],
      "metadata": {
        "id": "9WSfwvNQA4Ut"
      },
      "execution_count": null,
      "outputs": []
    },
    {
      "cell_type": "code",
      "source": [
        "edges = [[0,1],[1,2],[3,4]]\n",
        "def union(x, y):\n",
        "  return (str(x) + \", \" + str(y))\n",
        "list(map(union, edges))"
      ],
      "metadata": {
        "id": "dA2bVfzt1NN9"
      },
      "execution_count": null,
      "outputs": []
    },
    {
      "cell_type": "code",
      "source": [
        "import numpy as np\n",
        "np.append([[1, 2, 3], [4, 5, 6]], [[7, 8, 9]], axis=0)"
      ],
      "metadata": {
        "colab": {
          "base_uri": "https://localhost:8080/"
        },
        "id": "Ac1ddTJh4sKi",
        "outputId": "9e2c8de9-a8af-4d13-dec5-b268d4893b7f"
      },
      "execution_count": null,
      "outputs": [
        {
          "output_type": "execute_result",
          "data": {
            "text/plain": [
              "array([[1, 2, 3],\n",
              "       [4, 5, 6],\n",
              "       [7, 8, 9]])"
            ]
          },
          "metadata": {},
          "execution_count": 3
        }
      ]
    },
    {
      "cell_type": "code",
      "source": [
        "a = 5\n",
        "a /= 10\n",
        "a"
      ],
      "metadata": {
        "colab": {
          "base_uri": "https://localhost:8080/"
        },
        "id": "sBNCrvvP48-v",
        "outputId": "e4549f8b-1572-4808-ad79-ae597fa734b7"
      },
      "execution_count": null,
      "outputs": [
        {
          "output_type": "execute_result",
          "data": {
            "text/plain": [
              "0.5"
            ]
          },
          "metadata": {},
          "execution_count": 2
        }
      ]
    },
    {
      "cell_type": "code",
      "source": [
        "import numpy as np\n",
        "l_orig = np.float32([4, 2])"
      ],
      "metadata": {
        "id": "P9o5hjIFRPSh"
      },
      "execution_count": null,
      "outputs": []
    },
    {
      "cell_type": "code",
      "source": [
        "Xorign = np.linspace(0, 10, 21)\n",
        "\n",
        "Yorig = l_orig[0] * Xorign + l_orig[1]\n",
        "Yorig"
      ],
      "metadata": {
        "colab": {
          "base_uri": "https://localhost:8080/"
        },
        "id": "AhmDixGV6Vj_",
        "outputId": "20927fa5-9715-49fe-c656-75ca0c49e2c0"
      },
      "execution_count": null,
      "outputs": [
        {
          "output_type": "execute_result",
          "data": {
            "text/plain": [
              "array([ 2.,  4.,  6.,  8., 10., 12., 14., 16., 18., 20., 22., 24., 26.,\n",
              "       28., 30., 32., 34., 36., 38., 40., 42.])"
            ]
          },
          "metadata": {},
          "execution_count": 6
        }
      ]
    },
    {
      "cell_type": "code",
      "source": [
        "points = np.array([[5,0], [4,0]])\n",
        "\n",
        "for i, p in enumerate(points):\n",
        "  print(i, p)"
      ],
      "metadata": {
        "colab": {
          "base_uri": "https://localhost:8080/"
        },
        "id": "j7GCzvH9SGcp",
        "outputId": "a4b832e0-c69f-4b1a-c0bd-36b75347197e"
      },
      "execution_count": null,
      "outputs": [
        {
          "output_type": "stream",
          "name": "stdout",
          "text": [
            "0 [5 0]\n",
            "1 [4 0]\n"
          ]
        }
      ]
    },
    {
      "cell_type": "code",
      "source": [
        "def get_x():\n",
        "  return 5\n",
        "\n",
        "a = b = get_x()\n",
        "a = 6\n",
        "b"
      ],
      "metadata": {
        "colab": {
          "base_uri": "https://localhost:8080/"
        },
        "id": "LzSePEl0UjJo",
        "outputId": "21bed9f7-8a38-4c74-a37a-5e27e39862ba"
      },
      "execution_count": null,
      "outputs": [
        {
          "output_type": "execute_result",
          "data": {
            "text/plain": [
              "5"
            ]
          },
          "metadata": {},
          "execution_count": 1
        }
      ]
    }
  ],
  "metadata": {
    "colab": {
      "provenance": [],
      "authorship_tag": "ABX9TyPEMYZDgmVVvoVU6kqv3e1o",
      "include_colab_link": true
    },
    "kernelspec": {
      "display_name": "Python 3",
      "name": "python3"
    },
    "language_info": {
      "name": "python"
    }
  },
  "nbformat": 4,
  "nbformat_minor": 0
}