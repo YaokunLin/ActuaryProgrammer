{
  "cells": [
    {
      "cell_type": "markdown",
      "metadata": {
        "id": "view-in-github",
        "colab_type": "text"
      },
      "source": [
        "<a href=\"https://colab.research.google.com/github/YaokunLin/ActuaryProgrammer/blob/main/naive_chatbot.ipynb\" target=\"_parent\"><img src=\"https://colab.research.google.com/assets/colab-badge.svg\" alt=\"Open In Colab\"/></a>"
      ]
    },
    {
      "cell_type": "code",
      "execution_count": null,
      "metadata": {
        "id": "gQ58c3ZKffx8"
      },
      "outputs": [],
      "source": [
        "data = {\"intents\":\n",
        " [\n",
        "      {\"tag\": \"greetings\",\n",
        "      \"patterns\": [\"hello\", \"hey\", \"hi\", \"good day\", \"Greetings\", \"what's up?\", \"how is it going?\"],\n",
        "      \"responses\": [\"Hello!\", \"Hey!\", \"What can I do for you?\"],\n",
        "     },\n",
        "\n",
        "      {\"tag\": \"goodbye\",\n",
        "       \"patterns\": [\"cya\", \"See you later\", \"Goodbye\", \"I am Leaving\", \"Have a Good day\", \"bye\", \"cao\", \"see ya\"],\n",
        "       \"responses\": [\"Sad to see you go :(\", \"Talk to you later\", \"Goodbye!\"],\n",
        "      },\n",
        "\n",
        "      {\"tag\": \"age\",\n",
        "        \"patterns\": [\"how old\", \"how old is florian\", \"what is your age\", \"how old are you\", \"age?\"],\n",
        "        \"responses\": [\"My owner Florian is 21 years old!\", \"21 years!\"],\n",
        "       },\n",
        "\n",
        "      {\"tag\": \"name\",\n",
        "         \"patterns\": [\"what is your name\", \"what should I call you\", \"whats your name?\", \"who are you?\", \"Can you tell me your name?\"],\n",
        "         \"responses\": [\"You can call me Neural!.\", \"I'm Neural!\", \"I'm Neural the assistant of Florian!\"],\n",
        "        },\n",
        "\n",
        "      {\"tag\": \"hobby\",\n",
        "          \"patterns\": [\"what is your hobby\", \"what do you like to do in your free time?\"],\n",
        "          \"responses\": [\"I like swimming\"]\n",
        "      },\n",
        "          ]\n",
        "}"
      ]
    },
    {
      "cell_type": "code",
      "source": [
        "hftrhrthrjjytyjtyj"
      ],
      "metadata": {
        "id": "y8ZaI1HUOv9w"
      },
      "execution_count": null,
      "outputs": []
    },
    {
      "cell_type": "code",
      "source": [
        "sum([1,2])"
      ],
      "metadata": {
        "colab": {
          "base_uri": "https://localhost:8080/"
        },
        "id": "BMn_Bdl2H806",
        "outputId": "e7147842-9cdc-4048-8478-33259e2ffba9"
      },
      "execution_count": null,
      "outputs": [
        {
          "output_type": "execute_result",
          "data": {
            "text/plain": [
              "3"
            ]
          },
          "metadata": {},
          "execution_count": 1
        }
      ]
    },
    {
      "cell_type": "code",
      "source": [
        "fhfhtrhrthsscsccscsdfvdcddfsdvsvdvdvdvsdv"
      ],
      "metadata": {
        "id": "1Y3HMPfHpgxi",
        "colab": {
          "base_uri": "https://localhost:8080/"
        },
        "outputId": "c3bfc25e-5b41-46f0-8135-05f60aa203b0"
      },
      "execution_count": null,
      "outputs": [
        {
          "output_type": "execute_result",
          "data": {
            "text/plain": [
              "True"
            ]
          },
          "metadata": {},
          "execution_count": 2
        }
      ]
    },
    {
      "cell_type": "code",
      "source": [],
      "metadata": {
        "id": "-Kjb-THdyhEe"
      },
      "execution_count": null,
      "outputs": []
    },
    {
      "cell_type": "code",
      "execution_count": null,
      "metadata": {
        "colab": {
          "base_uri": "https://localhost:8080/"
        },
        "id": "s08f-IXDhHgQ",
        "outputId": "44a24917-4f2a-4acb-e5b6-acec7854aa21"
      },
      "outputs": [
        {
          "name": "stderr",
          "output_type": "stream",
          "text": [
            "[nltk_data] Downloading package punkt to /root/nltk_data...\n",
            "[nltk_data]   Unzipping tokenizers/punkt.zip.\n",
            "[nltk_data] Downloading package wordnet to /root/nltk_data...\n",
            "[nltk_data] Downloading package omw-1.4 to /root/nltk_data...\n"
          ]
        },
        {
          "data": {
            "text/plain": [
              "True"
            ]
          },
          "execution_count": 2,
          "metadata": {},
          "output_type": "execute_result"
        }
      ],
      "source": [
        "import pickle\n",
        "import numpy as np\n",
        "import nltk\n",
        "from nltk.stem import WordNetLemmatizer\n",
        "from tensorflow.keras.models import Sequential\n",
        "from tensorflow.keras.layers import Dense, Activation, Dropout\n",
        "from tensorflow.keras.optimizers import SGD\n",
        "import random\n",
        "\n",
        "nltk.download('punkt')\n",
        "nltk.download('wordnet')\n",
        "nltk.download('omw-1.4')"
      ]
    },
    {
      "cell_type": "code",
      "execution_count": null,
      "metadata": {
        "id": "tzOisOmCehfD"
      },
      "outputs": [],
      "source": [
        "intents = data\n",
        "lemmatizer = WordNetLemmatizer()\n",
        "\n",
        "words = []\n",
        "classes = []\n",
        "documents = []\n",
        "ignore_letters = ['?', '!', '.', ',']\n",
        "\n",
        "for intent in intents['intents']:\n",
        "  for pattern in intent['patterns']:\n",
        "    word_list = nltk.word_tokenize(pattern)\n",
        "    words.extend(word_list)\n",
        "    documents.append((word_list, intent[ 'tag']))\n",
        "    if intent['tag'] not in classes:\n",
        "      classes.append(intent['tag'])\n",
        "\n",
        "words = [lemmatizer.lemmatize(word) for word in words if word not in ignore_letters]\n",
        "words = sorted(set(words))\n",
        "classes = sorted(set(classes))"
      ]
    },
    {
      "cell_type": "code",
      "source": [],
      "metadata": {
        "id": "vJztbQYWhBuk"
      },
      "execution_count": null,
      "outputs": []
    },
    {
      "cell_type": "code",
      "execution_count": null,
      "metadata": {
        "id": "gLJJtLvyo1ix"
      },
      "outputs": [],
      "source": [
        "pickle.dump(words, open('words.pk1', 'wb'))\n",
        "pickle.dump(classes, open('classes.pkl', 'wb'))\n",
        "\n",
        "training = []\n",
        "output_empty = [0] * len(classes)\n",
        "for document in documents:\n",
        "  bag = []\n",
        "  word_patterns = document[0]\n",
        "  word_patterns = [lemmatizer.lemmatize(word.lower()) for word in word_patterns]\n",
        "\n",
        "  for word in words: bag.append(1) if word in word_patterns else bag.append(0)\n",
        "\n",
        "  output_row = list(output_empty)\n",
        "  output_row[classes.index(document[1])] = 1\n",
        "  training.append([bag, output_row])"
      ]
    },
    {
      "cell_type": "code",
      "execution_count": null,
      "metadata": {
        "colab": {
          "base_uri": "https://localhost:8080/"
        },
        "id": "5Ew74YGnqfAb",
        "outputId": "1f7c93c5-9592-4200-9415-adf470176f89"
      },
      "outputs": [
        {
          "name": "stderr",
          "output_type": "stream",
          "text": [
            "<ipython-input-5-394cee6d3829>:2: VisibleDeprecationWarning: Creating an ndarray from ragged nested sequences (which is a list-or-tuple of lists-or-tuples-or ndarrays with different lengths or shapes) is deprecated. If you meant to do this, you must specify 'dtype=object' when creating the ndarray.\n",
            "  training = np.array(training)\n",
            "/usr/local/lib/python3.8/dist-packages/keras/optimizers/optimizer_v2/gradient_descent.py:108: UserWarning: The `lr` argument is deprecated, use `learning_rate` instead.\n",
            "  super(SGD, self).__init__(name, **kwargs)\n"
          ]
        },
        {
          "name": "stdout",
          "output_type": "stream",
          "text": [
            "Epoch 1/200\n",
            "6/6 [==============================] - 1s 2ms/step - loss: 1.6242 - accuracy: 0.2593\n",
            "Epoch 2/200\n",
            "6/6 [==============================] - 0s 2ms/step - loss: 1.5222 - accuracy: 0.3704\n",
            "Epoch 3/200\n",
            "6/6 [==============================] - 0s 2ms/step - loss: 1.5603 - accuracy: 0.1852\n",
            "Epoch 4/200\n",
            "6/6 [==============================] - 0s 2ms/step - loss: 1.3834 - accuracy: 0.4444\n",
            "Epoch 5/200\n",
            "6/6 [==============================] - 0s 2ms/step - loss: 1.4191 - accuracy: 0.4444\n",
            "Epoch 6/200\n",
            "6/6 [==============================] - 0s 2ms/step - loss: 1.4231 - accuracy: 0.4444\n",
            "Epoch 7/200\n",
            "6/6 [==============================] - 0s 2ms/step - loss: 1.3264 - accuracy: 0.5185\n",
            "Epoch 8/200\n",
            "6/6 [==============================] - 0s 2ms/step - loss: 1.1758 - accuracy: 0.5185\n",
            "Epoch 9/200\n",
            "6/6 [==============================] - 0s 2ms/step - loss: 1.0421 - accuracy: 0.6667\n",
            "Epoch 10/200\n",
            "6/6 [==============================] - 0s 3ms/step - loss: 1.0318 - accuracy: 0.7778\n",
            "Epoch 11/200\n",
            "6/6 [==============================] - 0s 2ms/step - loss: 1.0987 - accuracy: 0.6667\n",
            "Epoch 12/200\n",
            "6/6 [==============================] - 0s 3ms/step - loss: 0.9690 - accuracy: 0.6296\n",
            "Epoch 13/200\n",
            "6/6 [==============================] - 0s 2ms/step - loss: 0.8510 - accuracy: 0.7407\n",
            "Epoch 14/200\n",
            "6/6 [==============================] - 0s 2ms/step - loss: 0.8085 - accuracy: 0.8148\n",
            "Epoch 15/200\n",
            "6/6 [==============================] - 0s 2ms/step - loss: 1.0476 - accuracy: 0.6296\n",
            "Epoch 16/200\n",
            "6/6 [==============================] - 0s 2ms/step - loss: 0.8209 - accuracy: 0.7037\n",
            "Epoch 17/200\n",
            "6/6 [==============================] - 0s 2ms/step - loss: 0.6036 - accuracy: 0.7407\n",
            "Epoch 18/200\n",
            "6/6 [==============================] - 0s 2ms/step - loss: 0.6084 - accuracy: 0.7407\n",
            "Epoch 19/200\n",
            "6/6 [==============================] - 0s 2ms/step - loss: 0.6375 - accuracy: 0.7037\n",
            "Epoch 20/200\n",
            "6/6 [==============================] - 0s 3ms/step - loss: 0.4321 - accuracy: 0.8889\n",
            "Epoch 21/200\n",
            "6/6 [==============================] - 0s 2ms/step - loss: 0.6475 - accuracy: 0.8148\n",
            "Epoch 22/200\n",
            "6/6 [==============================] - 0s 2ms/step - loss: 0.5024 - accuracy: 0.9259\n",
            "Epoch 23/200\n",
            "6/6 [==============================] - 0s 2ms/step - loss: 0.5272 - accuracy: 0.8148\n",
            "Epoch 24/200\n",
            "6/6 [==============================] - 0s 2ms/step - loss: 0.3776 - accuracy: 0.8889\n",
            "Epoch 25/200\n",
            "6/6 [==============================] - 0s 2ms/step - loss: 0.4848 - accuracy: 0.8519\n",
            "Epoch 26/200\n",
            "6/6 [==============================] - 0s 2ms/step - loss: 0.3425 - accuracy: 0.9259\n",
            "Epoch 27/200\n",
            "6/6 [==============================] - 0s 4ms/step - loss: 0.4377 - accuracy: 0.8889\n",
            "Epoch 28/200\n",
            "6/6 [==============================] - 0s 2ms/step - loss: 0.3819 - accuracy: 0.9259\n",
            "Epoch 29/200\n",
            "6/6 [==============================] - 0s 3ms/step - loss: 0.1978 - accuracy: 0.9259\n",
            "Epoch 30/200\n",
            "6/6 [==============================] - 0s 2ms/step - loss: 0.3493 - accuracy: 0.8148\n",
            "Epoch 31/200\n",
            "6/6 [==============================] - 0s 3ms/step - loss: 0.2615 - accuracy: 0.9259\n",
            "Epoch 32/200\n",
            "6/6 [==============================] - 0s 2ms/step - loss: 0.2874 - accuracy: 0.9259\n",
            "Epoch 33/200\n",
            "6/6 [==============================] - 0s 2ms/step - loss: 0.2794 - accuracy: 0.9259\n",
            "Epoch 34/200\n",
            "6/6 [==============================] - 0s 2ms/step - loss: 0.2477 - accuracy: 0.9630\n",
            "Epoch 35/200\n",
            "6/6 [==============================] - 0s 2ms/step - loss: 0.3663 - accuracy: 0.8148\n",
            "Epoch 36/200\n",
            "6/6 [==============================] - 0s 2ms/step - loss: 0.2861 - accuracy: 0.8889\n",
            "Epoch 37/200\n",
            "6/6 [==============================] - 0s 2ms/step - loss: 0.2675 - accuracy: 0.9259\n",
            "Epoch 38/200\n",
            "6/6 [==============================] - 0s 2ms/step - loss: 0.2117 - accuracy: 0.9259\n",
            "Epoch 39/200\n",
            "6/6 [==============================] - 0s 2ms/step - loss: 0.1622 - accuracy: 1.0000\n",
            "Epoch 40/200\n",
            "6/6 [==============================] - 0s 7ms/step - loss: 0.1743 - accuracy: 0.9630\n",
            "Epoch 41/200\n",
            "6/6 [==============================] - 0s 3ms/step - loss: 0.3359 - accuracy: 0.8519\n",
            "Epoch 42/200\n",
            "6/6 [==============================] - 0s 3ms/step - loss: 0.1441 - accuracy: 0.9630\n",
            "Epoch 43/200\n",
            "6/6 [==============================] - 0s 2ms/step - loss: 0.3018 - accuracy: 0.8519\n",
            "Epoch 44/200\n",
            "6/6 [==============================] - 0s 2ms/step - loss: 0.2542 - accuracy: 0.8889\n",
            "Epoch 45/200\n",
            "6/6 [==============================] - 0s 3ms/step - loss: 0.2829 - accuracy: 0.9259\n",
            "Epoch 46/200\n",
            "6/6 [==============================] - 0s 2ms/step - loss: 0.1936 - accuracy: 0.9259\n",
            "Epoch 47/200\n",
            "6/6 [==============================] - 0s 2ms/step - loss: 0.1671 - accuracy: 0.9259\n",
            "Epoch 48/200\n",
            "6/6 [==============================] - 0s 2ms/step - loss: 0.2093 - accuracy: 0.9630\n",
            "Epoch 49/200\n",
            "6/6 [==============================] - 0s 2ms/step - loss: 0.1506 - accuracy: 0.9630\n",
            "Epoch 50/200\n",
            "6/6 [==============================] - 0s 2ms/step - loss: 0.1573 - accuracy: 0.9630\n",
            "Epoch 51/200\n",
            "6/6 [==============================] - 0s 3ms/step - loss: 0.2648 - accuracy: 0.9259\n",
            "Epoch 52/200\n",
            "6/6 [==============================] - 0s 3ms/step - loss: 0.1769 - accuracy: 0.9259\n",
            "Epoch 53/200\n",
            "6/6 [==============================] - 0s 3ms/step - loss: 0.1093 - accuracy: 0.9630\n",
            "Epoch 54/200\n",
            "6/6 [==============================] - 0s 3ms/step - loss: 0.2741 - accuracy: 0.8148\n",
            "Epoch 55/200\n",
            "6/6 [==============================] - 0s 2ms/step - loss: 0.1446 - accuracy: 0.9630\n",
            "Epoch 56/200\n",
            "6/6 [==============================] - 0s 2ms/step - loss: 0.1336 - accuracy: 0.9259\n",
            "Epoch 57/200\n",
            "6/6 [==============================] - 0s 3ms/step - loss: 0.1558 - accuracy: 0.9630\n",
            "Epoch 58/200\n",
            "6/6 [==============================] - 0s 3ms/step - loss: 0.2677 - accuracy: 0.8519\n",
            "Epoch 59/200\n",
            "6/6 [==============================] - 0s 2ms/step - loss: 0.1589 - accuracy: 0.9630\n",
            "Epoch 60/200\n",
            "6/6 [==============================] - 0s 3ms/step - loss: 0.1259 - accuracy: 0.9630\n",
            "Epoch 61/200\n",
            "6/6 [==============================] - 0s 2ms/step - loss: 0.1406 - accuracy: 0.9630\n",
            "Epoch 62/200\n",
            "6/6 [==============================] - 0s 3ms/step - loss: 0.0628 - accuracy: 1.0000\n",
            "Epoch 63/200\n",
            "6/6 [==============================] - 0s 2ms/step - loss: 0.1378 - accuracy: 0.9630\n",
            "Epoch 64/200\n",
            "6/6 [==============================] - 0s 2ms/step - loss: 0.1193 - accuracy: 0.9259\n",
            "Epoch 65/200\n",
            "6/6 [==============================] - 0s 2ms/step - loss: 0.2396 - accuracy: 0.9630\n",
            "Epoch 66/200\n",
            "6/6 [==============================] - 0s 3ms/step - loss: 0.1218 - accuracy: 1.0000\n",
            "Epoch 67/200\n",
            "6/6 [==============================] - 0s 2ms/step - loss: 0.2348 - accuracy: 0.9259\n",
            "Epoch 68/200\n",
            "6/6 [==============================] - 0s 2ms/step - loss: 0.1301 - accuracy: 0.9630\n",
            "Epoch 69/200\n",
            "6/6 [==============================] - 0s 2ms/step - loss: 0.1180 - accuracy: 0.9630\n",
            "Epoch 70/200\n",
            "6/6 [==============================] - 0s 2ms/step - loss: 0.1225 - accuracy: 0.9630\n",
            "Epoch 71/200\n",
            "6/6 [==============================] - 0s 2ms/step - loss: 0.1029 - accuracy: 0.9630\n",
            "Epoch 72/200\n",
            "6/6 [==============================] - 0s 2ms/step - loss: 0.1948 - accuracy: 0.9259\n",
            "Epoch 73/200\n",
            "6/6 [==============================] - 0s 2ms/step - loss: 0.2044 - accuracy: 0.8889\n",
            "Epoch 74/200\n",
            "6/6 [==============================] - 0s 2ms/step - loss: 0.1234 - accuracy: 1.0000\n",
            "Epoch 75/200\n",
            "6/6 [==============================] - 0s 2ms/step - loss: 0.1254 - accuracy: 0.9630\n",
            "Epoch 76/200\n",
            "6/6 [==============================] - 0s 3ms/step - loss: 0.1310 - accuracy: 0.9630\n",
            "Epoch 77/200\n",
            "6/6 [==============================] - 0s 2ms/step - loss: 0.2530 - accuracy: 0.9259\n",
            "Epoch 78/200\n",
            "6/6 [==============================] - 0s 3ms/step - loss: 0.0755 - accuracy: 1.0000\n",
            "Epoch 79/200\n",
            "6/6 [==============================] - 0s 2ms/step - loss: 0.0402 - accuracy: 1.0000\n",
            "Epoch 80/200\n",
            "6/6 [==============================] - 0s 2ms/step - loss: 0.1629 - accuracy: 0.9259\n",
            "Epoch 81/200\n",
            "6/6 [==============================] - 0s 2ms/step - loss: 0.1048 - accuracy: 0.9630\n",
            "Epoch 82/200\n",
            "6/6 [==============================] - 0s 2ms/step - loss: 0.0850 - accuracy: 0.9630\n",
            "Epoch 83/200\n",
            "6/6 [==============================] - 0s 2ms/step - loss: 0.1636 - accuracy: 0.9259\n",
            "Epoch 84/200\n",
            "6/6 [==============================] - 0s 2ms/step - loss: 0.0615 - accuracy: 1.0000\n",
            "Epoch 85/200\n",
            "6/6 [==============================] - 0s 2ms/step - loss: 0.0910 - accuracy: 0.9630\n",
            "Epoch 86/200\n",
            "6/6 [==============================] - 0s 2ms/step - loss: 0.1213 - accuracy: 0.9259\n",
            "Epoch 87/200\n",
            "6/6 [==============================] - 0s 2ms/step - loss: 0.0592 - accuracy: 1.0000\n",
            "Epoch 88/200\n",
            "6/6 [==============================] - 0s 4ms/step - loss: 0.1409 - accuracy: 0.8889\n",
            "Epoch 89/200\n",
            "6/6 [==============================] - 0s 2ms/step - loss: 0.0779 - accuracy: 0.9630\n",
            "Epoch 90/200\n",
            "6/6 [==============================] - 0s 5ms/step - loss: 0.1823 - accuracy: 0.8889\n",
            "Epoch 91/200\n",
            "6/6 [==============================] - 0s 3ms/step - loss: 0.1302 - accuracy: 0.9630\n",
            "Epoch 92/200\n",
            "6/6 [==============================] - 0s 2ms/step - loss: 0.0911 - accuracy: 1.0000\n",
            "Epoch 93/200\n",
            "6/6 [==============================] - 0s 2ms/step - loss: 0.0562 - accuracy: 0.9630\n",
            "Epoch 94/200\n",
            "6/6 [==============================] - 0s 2ms/step - loss: 0.0405 - accuracy: 1.0000\n",
            "Epoch 95/200\n",
            "6/6 [==============================] - 0s 2ms/step - loss: 0.2752 - accuracy: 0.9259\n",
            "Epoch 96/200\n",
            "6/6 [==============================] - 0s 3ms/step - loss: 0.0459 - accuracy: 1.0000\n",
            "Epoch 97/200\n",
            "6/6 [==============================] - 0s 2ms/step - loss: 0.1118 - accuracy: 0.9259\n",
            "Epoch 98/200\n",
            "6/6 [==============================] - 0s 2ms/step - loss: 0.1497 - accuracy: 0.9259\n",
            "Epoch 99/200\n",
            "6/6 [==============================] - 0s 2ms/step - loss: 0.0603 - accuracy: 1.0000\n",
            "Epoch 100/200\n",
            "6/6 [==============================] - 0s 3ms/step - loss: 0.1454 - accuracy: 0.9630\n",
            "Epoch 101/200\n",
            "6/6 [==============================] - 0s 2ms/step - loss: 0.1522 - accuracy: 0.9259\n",
            "Epoch 102/200\n",
            "6/6 [==============================] - 0s 3ms/step - loss: 0.1055 - accuracy: 0.9630\n",
            "Epoch 103/200\n",
            "6/6 [==============================] - 0s 2ms/step - loss: 0.1151 - accuracy: 0.9259\n",
            "Epoch 104/200\n",
            "6/6 [==============================] - 0s 2ms/step - loss: 0.0815 - accuracy: 0.9630\n",
            "Epoch 105/200\n",
            "6/6 [==============================] - 0s 3ms/step - loss: 0.1114 - accuracy: 0.9630\n",
            "Epoch 106/200\n",
            "6/6 [==============================] - 0s 2ms/step - loss: 0.0832 - accuracy: 0.9630\n",
            "Epoch 107/200\n",
            "6/6 [==============================] - 0s 3ms/step - loss: 0.0578 - accuracy: 1.0000\n",
            "Epoch 108/200\n",
            "6/6 [==============================] - 0s 3ms/step - loss: 0.2164 - accuracy: 0.9630\n",
            "Epoch 109/200\n",
            "6/6 [==============================] - 0s 3ms/step - loss: 0.1331 - accuracy: 0.9630\n",
            "Epoch 110/200\n",
            "6/6 [==============================] - 0s 2ms/step - loss: 0.0866 - accuracy: 0.9630\n",
            "Epoch 111/200\n",
            "6/6 [==============================] - 0s 2ms/step - loss: 0.0989 - accuracy: 0.9259\n",
            "Epoch 112/200\n",
            "6/6 [==============================] - 0s 2ms/step - loss: 0.0910 - accuracy: 0.9630\n",
            "Epoch 113/200\n",
            "6/6 [==============================] - 0s 2ms/step - loss: 0.0703 - accuracy: 1.0000\n",
            "Epoch 114/200\n",
            "6/6 [==============================] - 0s 3ms/step - loss: 0.1415 - accuracy: 0.9259\n",
            "Epoch 115/200\n",
            "6/6 [==============================] - 0s 2ms/step - loss: 0.0771 - accuracy: 0.9630\n",
            "Epoch 116/200\n",
            "6/6 [==============================] - 0s 2ms/step - loss: 0.1292 - accuracy: 0.9259\n",
            "Epoch 117/200\n",
            "6/6 [==============================] - 0s 2ms/step - loss: 0.1277 - accuracy: 0.9259\n",
            "Epoch 118/200\n",
            "6/6 [==============================] - 0s 3ms/step - loss: 0.1388 - accuracy: 0.9630\n",
            "Epoch 119/200\n",
            "6/6 [==============================] - 0s 2ms/step - loss: 0.1257 - accuracy: 0.9259\n",
            "Epoch 120/200\n",
            "6/6 [==============================] - 0s 2ms/step - loss: 0.0527 - accuracy: 0.9630\n",
            "Epoch 121/200\n",
            "6/6 [==============================] - 0s 2ms/step - loss: 0.1004 - accuracy: 0.9259\n",
            "Epoch 122/200\n",
            "6/6 [==============================] - 0s 3ms/step - loss: 0.1483 - accuracy: 0.9630\n",
            "Epoch 123/200\n",
            "6/6 [==============================] - 0s 3ms/step - loss: 0.1102 - accuracy: 0.9630\n",
            "Epoch 124/200\n",
            "6/6 [==============================] - 0s 3ms/step - loss: 0.1741 - accuracy: 0.8519\n",
            "Epoch 125/200\n",
            "6/6 [==============================] - 0s 3ms/step - loss: 0.0564 - accuracy: 0.9630\n",
            "Epoch 126/200\n",
            "6/6 [==============================] - 0s 2ms/step - loss: 0.2390 - accuracy: 0.9259\n",
            "Epoch 127/200\n",
            "6/6 [==============================] - 0s 2ms/step - loss: 0.0548 - accuracy: 0.9630\n",
            "Epoch 128/200\n",
            "6/6 [==============================] - 0s 2ms/step - loss: 0.0805 - accuracy: 0.9630\n",
            "Epoch 129/200\n",
            "6/6 [==============================] - 0s 2ms/step - loss: 0.0945 - accuracy: 0.9630\n",
            "Epoch 130/200\n",
            "6/6 [==============================] - 0s 2ms/step - loss: 0.0951 - accuracy: 0.9630\n",
            "Epoch 131/200\n",
            "6/6 [==============================] - 0s 2ms/step - loss: 0.1008 - accuracy: 0.9630\n",
            "Epoch 132/200\n",
            "6/6 [==============================] - 0s 2ms/step - loss: 0.1137 - accuracy: 0.9259\n",
            "Epoch 133/200\n",
            "6/6 [==============================] - 0s 2ms/step - loss: 0.1314 - accuracy: 0.9259\n",
            "Epoch 134/200\n",
            "6/6 [==============================] - 0s 3ms/step - loss: 0.0408 - accuracy: 1.0000\n",
            "Epoch 135/200\n",
            "6/6 [==============================] - 0s 3ms/step - loss: 0.0652 - accuracy: 0.9630\n",
            "Epoch 136/200\n",
            "6/6 [==============================] - 0s 3ms/step - loss: 0.0818 - accuracy: 0.9630\n",
            "Epoch 137/200\n",
            "6/6 [==============================] - 0s 2ms/step - loss: 0.0536 - accuracy: 1.0000\n",
            "Epoch 138/200\n",
            "6/6 [==============================] - 0s 2ms/step - loss: 0.0845 - accuracy: 0.9259\n",
            "Epoch 139/200\n",
            "6/6 [==============================] - 0s 2ms/step - loss: 0.1217 - accuracy: 0.9259\n",
            "Epoch 140/200\n",
            "6/6 [==============================] - 0s 2ms/step - loss: 0.1103 - accuracy: 0.9630\n",
            "Epoch 141/200\n",
            "6/6 [==============================] - 0s 2ms/step - loss: 0.0699 - accuracy: 0.9630\n",
            "Epoch 142/200\n",
            "6/6 [==============================] - 0s 3ms/step - loss: 0.1416 - accuracy: 0.9259\n",
            "Epoch 143/200\n",
            "6/6 [==============================] - 0s 2ms/step - loss: 0.0854 - accuracy: 0.9630\n",
            "Epoch 144/200\n",
            "6/6 [==============================] - 0s 3ms/step - loss: 0.0675 - accuracy: 0.9630\n",
            "Epoch 145/200\n",
            "6/6 [==============================] - 0s 4ms/step - loss: 0.1293 - accuracy: 0.9259\n",
            "Epoch 146/200\n",
            "6/6 [==============================] - 0s 3ms/step - loss: 0.1363 - accuracy: 0.8889\n",
            "Epoch 147/200\n",
            "6/6 [==============================] - 0s 3ms/step - loss: 0.0715 - accuracy: 0.9259\n",
            "Epoch 148/200\n",
            "6/6 [==============================] - 0s 2ms/step - loss: 0.0350 - accuracy: 1.0000\n",
            "Epoch 149/200\n",
            "6/6 [==============================] - 0s 2ms/step - loss: 0.0580 - accuracy: 0.9630\n",
            "Epoch 150/200\n",
            "6/6 [==============================] - 0s 3ms/step - loss: 0.0980 - accuracy: 0.9259\n",
            "Epoch 151/200\n",
            "6/6 [==============================] - 0s 2ms/step - loss: 0.1093 - accuracy: 0.9630\n",
            "Epoch 152/200\n",
            "6/6 [==============================] - 0s 3ms/step - loss: 0.1541 - accuracy: 0.9259\n",
            "Epoch 153/200\n",
            "6/6 [==============================] - 0s 3ms/step - loss: 0.1665 - accuracy: 0.9259\n",
            "Epoch 154/200\n",
            "6/6 [==============================] - 0s 3ms/step - loss: 0.0925 - accuracy: 0.9259\n",
            "Epoch 155/200\n",
            "6/6 [==============================] - 0s 2ms/step - loss: 0.0659 - accuracy: 0.9630\n",
            "Epoch 156/200\n",
            "6/6 [==============================] - 0s 2ms/step - loss: 0.1045 - accuracy: 0.9630\n",
            "Epoch 157/200\n",
            "6/6 [==============================] - 0s 3ms/step - loss: 0.0904 - accuracy: 0.9259\n",
            "Epoch 158/200\n",
            "6/6 [==============================] - 0s 3ms/step - loss: 0.1193 - accuracy: 0.9630\n",
            "Epoch 159/200\n",
            "6/6 [==============================] - 0s 2ms/step - loss: 0.1455 - accuracy: 0.9630\n",
            "Epoch 160/200\n",
            "6/6 [==============================] - 0s 2ms/step - loss: 0.0817 - accuracy: 0.9630\n",
            "Epoch 161/200\n",
            "6/6 [==============================] - 0s 2ms/step - loss: 0.1130 - accuracy: 0.9630\n",
            "Epoch 162/200\n",
            "6/6 [==============================] - 0s 2ms/step - loss: 0.2087 - accuracy: 0.9259\n",
            "Epoch 163/200\n",
            "6/6 [==============================] - 0s 2ms/step - loss: 0.0483 - accuracy: 1.0000\n",
            "Epoch 164/200\n",
            "6/6 [==============================] - 0s 2ms/step - loss: 0.1477 - accuracy: 0.8889\n",
            "Epoch 165/200\n",
            "6/6 [==============================] - 0s 2ms/step - loss: 0.0422 - accuracy: 1.0000\n",
            "Epoch 166/200\n",
            "6/6 [==============================] - 0s 2ms/step - loss: 0.0853 - accuracy: 0.9630\n",
            "Epoch 167/200\n",
            "6/6 [==============================] - 0s 2ms/step - loss: 0.0711 - accuracy: 0.9259\n",
            "Epoch 168/200\n",
            "6/6 [==============================] - 0s 2ms/step - loss: 0.1074 - accuracy: 0.9259\n",
            "Epoch 169/200\n",
            "6/6 [==============================] - 0s 3ms/step - loss: 0.1511 - accuracy: 0.9259\n",
            "Epoch 170/200\n",
            "6/6 [==============================] - 0s 2ms/step - loss: 0.0854 - accuracy: 0.9630\n",
            "Epoch 171/200\n",
            "6/6 [==============================] - 0s 3ms/step - loss: 0.1378 - accuracy: 0.9259\n",
            "Epoch 172/200\n",
            "6/6 [==============================] - 0s 2ms/step - loss: 0.0822 - accuracy: 0.9630\n",
            "Epoch 173/200\n",
            "6/6 [==============================] - 0s 2ms/step - loss: 0.0428 - accuracy: 1.0000\n",
            "Epoch 174/200\n",
            "6/6 [==============================] - 0s 2ms/step - loss: 0.1550 - accuracy: 0.9259\n",
            "Epoch 175/200\n",
            "6/6 [==============================] - 0s 2ms/step - loss: 0.0526 - accuracy: 1.0000\n",
            "Epoch 176/200\n",
            "6/6 [==============================] - 0s 2ms/step - loss: 0.1125 - accuracy: 0.9630\n",
            "Epoch 177/200\n",
            "6/6 [==============================] - 0s 3ms/step - loss: 0.0846 - accuracy: 0.9630\n",
            "Epoch 178/200\n",
            "6/6 [==============================] - 0s 3ms/step - loss: 0.1417 - accuracy: 0.9630\n",
            "Epoch 179/200\n",
            "6/6 [==============================] - 0s 2ms/step - loss: 0.0926 - accuracy: 0.9630\n",
            "Epoch 180/200\n",
            "6/6 [==============================] - 0s 3ms/step - loss: 0.0846 - accuracy: 0.9259\n",
            "Epoch 181/200\n",
            "6/6 [==============================] - 0s 3ms/step - loss: 0.1015 - accuracy: 0.9630\n",
            "Epoch 182/200\n",
            "6/6 [==============================] - 0s 3ms/step - loss: 0.0783 - accuracy: 0.9630\n",
            "Epoch 183/200\n",
            "6/6 [==============================] - 0s 3ms/step - loss: 0.1022 - accuracy: 0.9630\n",
            "Epoch 184/200\n",
            "6/6 [==============================] - 0s 3ms/step - loss: 0.0634 - accuracy: 1.0000\n",
            "Epoch 185/200\n",
            "6/6 [==============================] - 0s 3ms/step - loss: 0.1112 - accuracy: 0.9630\n",
            "Epoch 186/200\n",
            "6/6 [==============================] - 0s 3ms/step - loss: 0.0414 - accuracy: 0.9630\n",
            "Epoch 187/200\n",
            "6/6 [==============================] - 0s 2ms/step - loss: 0.1954 - accuracy: 0.9259\n",
            "Epoch 188/200\n",
            "6/6 [==============================] - 0s 3ms/step - loss: 0.0634 - accuracy: 1.0000\n",
            "Epoch 189/200\n",
            "6/6 [==============================] - 0s 3ms/step - loss: 0.1053 - accuracy: 0.9259\n",
            "Epoch 190/200\n",
            "6/6 [==============================] - 0s 2ms/step - loss: 0.0971 - accuracy: 0.9630\n",
            "Epoch 191/200\n",
            "6/6 [==============================] - 0s 3ms/step - loss: 0.0713 - accuracy: 0.9630\n",
            "Epoch 192/200\n",
            "6/6 [==============================] - 0s 3ms/step - loss: 0.0631 - accuracy: 0.9630\n",
            "Epoch 193/200\n",
            "6/6 [==============================] - 0s 3ms/step - loss: 0.0715 - accuracy: 1.0000\n",
            "Epoch 194/200\n",
            "6/6 [==============================] - 0s 3ms/step - loss: 0.0834 - accuracy: 0.9630\n",
            "Epoch 195/200\n",
            "6/6 [==============================] - 0s 3ms/step - loss: 0.0795 - accuracy: 0.9630\n",
            "Epoch 196/200\n",
            "6/6 [==============================] - 0s 2ms/step - loss: 0.1136 - accuracy: 0.9259\n",
            "Epoch 197/200\n",
            "6/6 [==============================] - 0s 2ms/step - loss: 0.0846 - accuracy: 0.9630\n",
            "Epoch 198/200\n",
            "6/6 [==============================] - 0s 3ms/step - loss: 0.1295 - accuracy: 0.9259\n",
            "Epoch 199/200\n",
            "6/6 [==============================] - 0s 2ms/step - loss: 0.0883 - accuracy: 0.9630\n",
            "Epoch 200/200\n",
            "6/6 [==============================] - 0s 3ms/step - loss: 0.1187 - accuracy: 0.8889\n",
            "Done\n"
          ]
        }
      ],
      "source": [
        "random.shuffle(training)\n",
        "training = np.array(training)\n",
        "\n",
        "\n",
        "train_x = list(training[:, 0])\n",
        "train_y = list(training[:, 1])\n",
        "model = Sequential()\n",
        "\n",
        "model.add(Dense(128, input_shape=(len(train_x[0]),), activation='relu'))\n",
        "model.add(Dropout(0.5))\n",
        "model.add(Dense(64, activation='relu'))\n",
        "model.add(Dropout(0.5))\n",
        "model.add(Dense(len(train_y[0]), activation='softmax'))\n",
        "\n",
        "sgd = SGD(lr=0.01, decay=1e-6, momentum=0.9, nesterov=True)\n",
        "model.compile(loss=\"categorical_crossentropy\", optimizer=sgd, metrics=['accuracy'])\n",
        "hist = model.fit(np.array(train_x), np.array(train_y), epochs=200, batch_size=5, verbose=1)\n",
        "model.save('chatbot_model.model', hist)\n",
        "\n",
        "print(\"Done\")\n"
      ]
    },
    {
      "cell_type": "code",
      "execution_count": null,
      "metadata": {
        "id": "NrUFW3jtpFN4"
      },
      "outputs": [],
      "source": [
        "def clean_up_sentence(sentence):\n",
        "  sentence_words = nltk.word_tokenize(sentence)\n",
        "  sentence_words = [lemmatizer.lemmatize(word) for word in sentence_words]\n",
        "  return sentence_words\n",
        "\n",
        "def bag_of_words(sentence):\n",
        "  sentence_words = clean_up_sentence(sentence)\n",
        "  bag = [0] * len(words)\n",
        "  for w in sentence_words:\n",
        "    for i, word in enumerate(words):\n",
        "      if word == w: bag[i] = 1\n",
        "  return np.array(bag)\n",
        "\n",
        "def get_response(intents_list, intents):\n",
        "   tag = intents_list[0][\"intent\"]\n",
        "   list_of_intents = intents[ 'intents']\n",
        "\n",
        "   for i in list_of_intents:\n",
        "     if i['tag'] == tag:\n",
        "       result = random.choice(i['responses'])\n",
        "       break\n",
        "   return result\n",
        "\n",
        "ERROR_THRESHOLD = 0.25\n",
        "def predict_class(sentence):\n",
        "   bow = bag_of_words(sentence)\n",
        "   res = model.predict(np.array([bow]))[0]\n",
        "   results = [[i, r] for i, r in enumerate(res) if r > ERROR_THRESHOLD]\n",
        "\n",
        "   results.sort(key=lambda x: x[1], reverse=True)\n",
        "   return_list = []\n",
        "   for r in results: return_list.append({ 'intent': classes[r[0]], 'probability': str(r[1])})\n",
        "   return return_list\n",
        "\n"
      ]
    },
    {
      "cell_type": "code",
      "execution_count": null,
      "metadata": {
        "colab": {
          "background_save": true,
          "base_uri": "https://localhost:8080/"
        },
        "id": "mJGRlZVvw5oX",
        "outputId": "f2fac3c3-a39e-409d-dee8-f02fae68a2e6"
      },
      "outputs": [
        {
          "name": "stdout",
          "output_type": "stream",
          "text": [
            "GO! Bot is runnin !\n",
            "1/1 [==============================] - 0s 71ms/step\n",
            "What can I do for you?\n",
            "1/1 [==============================] - 0s 15ms/step\n",
            "21 years!\n"
          ]
        }
      ],
      "source": [
        "print (\"GO! Bot is runnin !\")\n",
        "while True:\n",
        "  message = input(\"\")\n",
        "  ints = predict_class(message)\n",
        "  res = get_response(ints, intents)\n",
        "  print(res)"
      ]
    },
    {
      "cell_type": "code",
      "source": [
        "def outside_func1():\n",
        "  a = []\n",
        "  def inside_func1():\n",
        "    a.append(1)\n",
        "\n",
        "  inside_func1()\n",
        "  print(a)\n",
        "outside_func1()"
      ],
      "metadata": {
        "id": "fdvxGBc8Uuyq",
        "outputId": "bb5131f3-1814-4e27-f1cf-07fb14d2ef5f",
        "colab": {
          "base_uri": "https://localhost:8080/"
        }
      },
      "execution_count": null,
      "outputs": [
        {
          "output_type": "stream",
          "name": "stdout",
          "text": [
            "[1]\n"
          ]
        }
      ]
    },
    {
      "cell_type": "code",
      "source": [
        "def outside_func2():\n",
        "  b = 5\n",
        "  def inside_func2():\n",
        "    b = 6\n",
        "  inside_func2()\n",
        "  print(b)\n",
        "\n",
        "outside_func2()"
      ],
      "metadata": {
        "colab": {
          "base_uri": "https://localhost:8080/"
        },
        "id": "l6n1KhRfBy_0",
        "outputId": "8f9806e2-bfdb-4229-867f-ca085cd06586"
      },
      "execution_count": null,
      "outputs": [
        {
          "output_type": "stream",
          "name": "stdout",
          "text": [
            "5\n"
          ]
        }
      ]
    },
    {
      "cell_type": "code",
      "source": [
        "a = [\"\", \"   \"]\n",
        "\n",
        "\"-\".join(a).split(\"-\")\n"
      ],
      "metadata": {
        "colab": {
          "base_uri": "https://localhost:8080/"
        },
        "id": "rMe-Fan_gkvj",
        "outputId": "6b6773ea-1bec-41f3-b0ee-4795fa1a6b1a"
      },
      "execution_count": null,
      "outputs": [
        {
          "output_type": "execute_result",
          "data": {
            "text/plain": [
              "['', '   ']"
            ]
          },
          "metadata": {},
          "execution_count": 14
        }
      ]
    },
    {
      "cell_type": "code",
      "source": [
        "not []"
      ],
      "metadata": {
        "colab": {
          "base_uri": "https://localhost:8080/"
        },
        "id": "NP9JQ2QAgriA",
        "outputId": "b636f237-bf0c-4ecc-c71b-6d4a0832e589"
      },
      "execution_count": null,
      "outputs": [
        {
          "output_type": "execute_result",
          "data": {
            "text/plain": [
              "True"
            ]
          },
          "metadata": {},
          "execution_count": 2
        }
      ]
    },
    {
      "cell_type": "code",
      "source": [
        "def encode(strs):\n",
        "        return ''.join('%d:' % len(s) + s for s in strs)"
      ],
      "metadata": {
        "id": "JCFVRyPfgroV"
      },
      "execution_count": null,
      "outputs": []
    },
    {
      "cell_type": "code",
      "source": [
        "encode([\"aaaa\", \"bbb\"])"
      ],
      "metadata": {
        "id": "fobRmaLjScWT",
        "outputId": "3ad4cea7-c0c4-4105-f05a-e872e8aaa4c1",
        "colab": {
          "base_uri": "https://localhost:8080/",
          "height": 35
        }
      },
      "execution_count": null,
      "outputs": [
        {
          "output_type": "execute_result",
          "data": {
            "text/plain": [
              "'4:aaaa3:bbb'"
            ],
            "application/vnd.google.colaboratory.intrinsic+json": {
              "type": "string"
            }
          },
          "metadata": {},
          "execution_count": 3
        }
      ]
    },
    {
      "cell_type": "code",
      "source": [
        "a=[1,2,3,1]\n",
        "a.remove(1)\n",
        "a"
      ],
      "metadata": {
        "colab": {
          "base_uri": "https://localhost:8080/"
        },
        "id": "dXZvkx1oCNIz",
        "outputId": "cf496ba2-c756-4c9b-9465-824a3848cc91"
      },
      "execution_count": null,
      "outputs": [
        {
          "output_type": "execute_result",
          "data": {
            "text/plain": [
              "[2, 3, 1]"
            ]
          },
          "metadata": {},
          "execution_count": 3
        }
      ]
    },
    {
      "cell_type": "code",
      "source": [
        "\"1\".lower()"
      ],
      "metadata": {
        "id": "tX4OlNIYC8md",
        "outputId": "974d2019-7727-4185-c899-7feff4952142",
        "colab": {
          "base_uri": "https://localhost:8080/",
          "height": 35
        }
      },
      "execution_count": null,
      "outputs": [
        {
          "output_type": "execute_result",
          "data": {
            "text/plain": [
              "'1'"
            ],
            "application/vnd.google.colaboratory.intrinsic+json": {
              "type": "string"
            }
          },
          "metadata": {},
          "execution_count": 4
        }
      ]
    },
    {
      "cell_type": "code",
      "source": [
        "min([1,2,3])"
      ],
      "metadata": {
        "colab": {
          "base_uri": "https://localhost:8080/"
        },
        "id": "h1vuGWtqaEKx",
        "outputId": "4eebf7c1-9381-453b-eba7-fc2966401580"
      },
      "execution_count": null,
      "outputs": [
        {
          "output_type": "execute_result",
          "data": {
            "text/plain": [
              "1"
            ]
          },
          "metadata": {},
          "execution_count": 1
        }
      ]
    },
    {
      "cell_type": "code",
      "source": [
        "min(float('inf'), 4)"
      ],
      "metadata": {
        "id": "-N81xhGOacU8",
        "outputId": "689fbd5b-811a-412a-e5d2-cc2c71bf2074",
        "colab": {
          "base_uri": "https://localhost:8080/"
        }
      },
      "execution_count": null,
      "outputs": [
        {
          "output_type": "execute_result",
          "data": {
            "text/plain": [
              "4"
            ]
          },
          "metadata": {},
          "execution_count": 2
        }
      ]
    },
    {
      "cell_type": "code",
      "source": [
        "5 == 10"
      ],
      "metadata": {
        "id": "wrrj_F0293RM",
        "outputId": "25d3e424-4359-47b2-f96d-4593622b2cb7",
        "colab": {
          "base_uri": "https://localhost:8080/"
        }
      },
      "execution_count": null,
      "outputs": [
        {
          "output_type": "execute_result",
          "data": {
            "text/plain": [
              "False"
            ]
          },
          "metadata": {},
          "execution_count": 1
        }
      ]
    },
    {
      "cell_type": "code",
      "source": [
        "a = [1, 2, 3, 4]"
      ],
      "metadata": {
        "id": "m6aKiBHng19L"
      },
      "execution_count": null,
      "outputs": []
    },
    {
      "cell_type": "code",
      "source": [
        "a.pop()"
      ],
      "metadata": {
        "colab": {
          "base_uri": "https://localhost:8080/"
        },
        "id": "78S4Ci1Ng5Gg",
        "outputId": "b404ec67-c989-4999-bd3d-3c3ae2c05f4a"
      },
      "execution_count": null,
      "outputs": [
        {
          "output_type": "execute_result",
          "data": {
            "text/plain": [
              "4"
            ]
          },
          "metadata": {},
          "execution_count": 2
        }
      ]
    },
    {
      "cell_type": "code",
      "source": [
        "a"
      ],
      "metadata": {
        "colab": {
          "base_uri": "https://localhost:8080/"
        },
        "id": "Ns-Do5mEg7Uz",
        "outputId": "72d8244b-223f-45d7-cb52-ed54a83f261f"
      },
      "execution_count": null,
      "outputs": [
        {
          "output_type": "execute_result",
          "data": {
            "text/plain": [
              "[1, 2, 3, 5]"
            ]
          },
          "metadata": {},
          "execution_count": 5
        }
      ]
    },
    {
      "cell_type": "code",
      "source": [
        "a.append(5)"
      ],
      "metadata": {
        "id": "TS_T5VN4g8l8"
      },
      "execution_count": null,
      "outputs": []
    },
    {
      "cell_type": "code",
      "source": [
        "def isSimilar(s1, s2):\n",
        "    if s1 == s2:\n",
        "        return True\n",
        "\n",
        "    s1, s2 = list(s1), list(s2)\n",
        "    i = 0\n",
        "    while i <= len(s1)-1:\n",
        "        if s1[i] != s2[i]:\n",
        "            break\n",
        "        i += 1\n",
        "\n",
        "    j = i + 1\n",
        "    while j <= len(s1)-1:\n",
        "        if s1[j] == s2[i]:\n",
        "            break\n",
        "        j += 1\n",
        "\n",
        "    s1[i], s1[j] = s1[j], s1[i]\n",
        "    return s1 == s2"
      ],
      "metadata": {
        "id": "SFaONVPkhMKD"
      },
      "execution_count": null,
      "outputs": []
    },
    {
      "cell_type": "code",
      "source": [
        "isSimilar(\"tars\", \"rats\")"
      ],
      "metadata": {
        "colab": {
          "base_uri": "https://localhost:8080/"
        },
        "id": "i8AjQ3zm_aoI",
        "outputId": "0d2cfc9c-84a2-44e3-c9c8-b41439b090cc"
      },
      "execution_count": null,
      "outputs": [
        {
          "output_type": "execute_result",
          "data": {
            "text/plain": [
              "True"
            ]
          },
          "metadata": {},
          "execution_count": 3
        }
      ]
    },
    {
      "cell_type": "code",
      "source": [
        "isSimilar(\"rats\", \"arts\")"
      ],
      "metadata": {
        "colab": {
          "base_uri": "https://localhost:8080/"
        },
        "id": "ZDgYFjQK_jDp",
        "outputId": "97c30d94-7967-4f8b-d6a9-c0c4b5c0ef59"
      },
      "execution_count": null,
      "outputs": [
        {
          "output_type": "execute_result",
          "data": {
            "text/plain": [
              "True"
            ]
          },
          "metadata": {},
          "execution_count": 4
        }
      ]
    },
    {
      "cell_type": "code",
      "source": [
        "isSimilar(\"tars\", \"arts\")"
      ],
      "metadata": {
        "colab": {
          "base_uri": "https://localhost:8080/"
        },
        "id": "WTzjJmDU_qG0",
        "outputId": "c441c3c9-9766-4ad4-93ab-300d6b0843b4"
      },
      "execution_count": null,
      "outputs": [
        {
          "output_type": "execute_result",
          "data": {
            "text/plain": [
              "False"
            ]
          },
          "metadata": {},
          "execution_count": 11
        }
      ]
    },
    {
      "cell_type": "code",
      "source": [
        "isSimilar(\"star\", \"tars\"), isSimilar(\"star\", \"rats\"), isSimilar(\"star\", \"arts\")"
      ],
      "metadata": {
        "colab": {
          "base_uri": "https://localhost:8080/"
        },
        "id": "yD-cXGv5_yVV",
        "outputId": "59b5394c-00dd-4635-c560-c99177f54020"
      },
      "execution_count": null,
      "outputs": [
        {
          "output_type": "execute_result",
          "data": {
            "text/plain": [
              "(False, False, False)"
            ]
          },
          "metadata": {},
          "execution_count": 10
        }
      ]
    },
    {
      "cell_type": "code",
      "source": [
        "a = \"abc\"\n",
        "\n",
        "def change_it(x):\n",
        "  x[0], x[-1] = x[-1], x[0]\n",
        "  print(x, \"from func\")\n",
        "\n",
        "change_it(a)\n",
        "a"
      ],
      "metadata": {
        "id": "9WSfwvNQA4Ut"
      },
      "execution_count": null,
      "outputs": []
    },
    {
      "cell_type": "code",
      "source": [
        "edges = [[0,1],[1,2],[3,4]]\n",
        "def union(x, y):\n",
        "  return (str(x) + \", \" + str(y))\n",
        "list(map(union, edges))"
      ],
      "metadata": {
        "id": "dA2bVfzt1NN9"
      },
      "execution_count": null,
      "outputs": []
    },
    {
      "cell_type": "code",
      "source": [
        "import numpy as np\n",
        "np.append([[1, 2, 3], [4, 5, 6]], [[7, 8, 9]], axis=0)"
      ],
      "metadata": {
        "colab": {
          "base_uri": "https://localhost:8080/"
        },
        "id": "Ac1ddTJh4sKi",
        "outputId": "9e2c8de9-a8af-4d13-dec5-b268d4893b7f"
      },
      "execution_count": null,
      "outputs": [
        {
          "output_type": "execute_result",
          "data": {
            "text/plain": [
              "array([[1, 2, 3],\n",
              "       [4, 5, 6],\n",
              "       [7, 8, 9]])"
            ]
          },
          "metadata": {},
          "execution_count": 3
        }
      ]
    },
    {
      "cell_type": "code",
      "source": [
        "a = 5\n",
        "a /= 10\n",
        "a"
      ],
      "metadata": {
        "colab": {
          "base_uri": "https://localhost:8080/"
        },
        "id": "sBNCrvvP48-v",
        "outputId": "e4549f8b-1572-4808-ad79-ae597fa734b7"
      },
      "execution_count": null,
      "outputs": [
        {
          "output_type": "execute_result",
          "data": {
            "text/plain": [
              "0.5"
            ]
          },
          "metadata": {},
          "execution_count": 2
        }
      ]
    },
    {
      "cell_type": "code",
      "source": [
        "import numpy as np\n",
        "l_orig = np.float32([4, 2])"
      ],
      "metadata": {
        "id": "P9o5hjIFRPSh"
      },
      "execution_count": null,
      "outputs": []
    },
    {
      "cell_type": "code",
      "source": [
        "Xorign = np.linspace(0, 10, 21)\n",
        "\n",
        "Yorig = l_orig[0] * Xorign + l_orig[1]\n",
        "Yorig"
      ],
      "metadata": {
        "colab": {
          "base_uri": "https://localhost:8080/"
        },
        "id": "AhmDixGV6Vj_",
        "outputId": "20927fa5-9715-49fe-c656-75ca0c49e2c0"
      },
      "execution_count": null,
      "outputs": [
        {
          "output_type": "execute_result",
          "data": {
            "text/plain": [
              "array([ 2.,  4.,  6.,  8., 10., 12., 14., 16., 18., 20., 22., 24., 26.,\n",
              "       28., 30., 32., 34., 36., 38., 40., 42.])"
            ]
          },
          "metadata": {},
          "execution_count": 6
        }
      ]
    },
    {
      "cell_type": "code",
      "source": [
        "points = np.array([[5,0], [4,0]])\n",
        "\n",
        "for i, p in enumerate(points):\n",
        "  print(i, p)"
      ],
      "metadata": {
        "colab": {
          "base_uri": "https://localhost:8080/"
        },
        "id": "j7GCzvH9SGcp",
        "outputId": "a4b832e0-c69f-4b1a-c0bd-36b75347197e"
      },
      "execution_count": null,
      "outputs": [
        {
          "output_type": "stream",
          "name": "stdout",
          "text": [
            "0 [5 0]\n",
            "1 [4 0]\n"
          ]
        }
      ]
    },
    {
      "cell_type": "code",
      "source": [
        "def get_x():\n",
        "  return 5\n",
        "\n",
        "a = b = get_x()\n",
        "a = 6\n",
        "b"
      ],
      "metadata": {
        "colab": {
          "base_uri": "https://localhost:8080/"
        },
        "id": "LzSePEl0UjJo",
        "outputId": "21bed9f7-8a38-4c74-a37a-5e27e39862ba"
      },
      "execution_count": null,
      "outputs": [
        {
          "output_type": "execute_result",
          "data": {
            "text/plain": [
              "5"
            ]
          },
          "metadata": {},
          "execution_count": 1
        }
      ]
    },
    {
      "cell_type": "code",
      "source": [
        "import numpy as np\n",
        "from scipy import stats\n",
        "a = np.array([1, 2, 3, 4, 5, 1, 1])\n",
        "stats.mode(a)[0][0]"
      ],
      "metadata": {
        "colab": {
          "base_uri": "https://localhost:8080/",
          "height": 211
        },
        "id": "lvrqGu9DqrCF",
        "outputId": "435b5133-bc3c-4ad3-ab79-0278fe1d481c"
      },
      "execution_count": null,
      "outputs": [
        {
          "output_type": "error",
          "ename": "IndexError",
          "evalue": "ignored",
          "traceback": [
            "\u001b[0;31m---------------------------------------------------------------------------\u001b[0m",
            "\u001b[0;31mIndexError\u001b[0m                                Traceback (most recent call last)",
            "\u001b[0;32m<ipython-input-4-9ecaf143781b>\u001b[0m in \u001b[0;36m<cell line: 4>\u001b[0;34m()\u001b[0m\n\u001b[1;32m      2\u001b[0m \u001b[0;32mfrom\u001b[0m \u001b[0mscipy\u001b[0m \u001b[0;32mimport\u001b[0m \u001b[0mstats\u001b[0m\u001b[0;34m\u001b[0m\u001b[0;34m\u001b[0m\u001b[0m\n\u001b[1;32m      3\u001b[0m \u001b[0ma\u001b[0m \u001b[0;34m=\u001b[0m \u001b[0mnp\u001b[0m\u001b[0;34m.\u001b[0m\u001b[0marray\u001b[0m\u001b[0;34m(\u001b[0m\u001b[0;34m[\u001b[0m\u001b[0;36m1\u001b[0m\u001b[0;34m,\u001b[0m \u001b[0;36m2\u001b[0m\u001b[0;34m,\u001b[0m \u001b[0;36m3\u001b[0m\u001b[0;34m,\u001b[0m \u001b[0;36m4\u001b[0m\u001b[0;34m,\u001b[0m \u001b[0;36m5\u001b[0m\u001b[0;34m,\u001b[0m \u001b[0;36m1\u001b[0m\u001b[0;34m,\u001b[0m \u001b[0;36m1\u001b[0m\u001b[0;34m]\u001b[0m\u001b[0;34m)\u001b[0m\u001b[0;34m\u001b[0m\u001b[0;34m\u001b[0m\u001b[0m\n\u001b[0;32m----> 4\u001b[0;31m \u001b[0mstats\u001b[0m\u001b[0;34m.\u001b[0m\u001b[0mmode\u001b[0m\u001b[0;34m(\u001b[0m\u001b[0ma\u001b[0m\u001b[0;34m)\u001b[0m\u001b[0;34m[\u001b[0m\u001b[0;36m0\u001b[0m\u001b[0;34m]\u001b[0m\u001b[0;34m[\u001b[0m\u001b[0;36m0\u001b[0m\u001b[0;34m]\u001b[0m\u001b[0;34m\u001b[0m\u001b[0;34m\u001b[0m\u001b[0m\n\u001b[0m",
            "\u001b[0;31mIndexError\u001b[0m: invalid index to scalar variable."
          ]
        }
      ]
    },
    {
      "cell_type": "code",
      "source": [
        "b = [\n",
        "    [1, 3],\n",
        "     [1, 4],\n",
        "      [2, 3]]\n",
        "stats.mode(b, axis=0)"
      ],
      "metadata": {
        "colab": {
          "base_uri": "https://localhost:8080/"
        },
        "id": "DiBrj88UvvAD",
        "outputId": "583c059f-dfb7-4a3d-9576-d79945a2017a"
      },
      "execution_count": null,
      "outputs": [
        {
          "output_type": "execute_result",
          "data": {
            "text/plain": [
              "ModeResult(mode=array([1, 3]), count=array([2, 2]))"
            ]
          },
          "metadata": {},
          "execution_count": 8
        }
      ]
    },
    {
      "cell_type": "code",
      "source": [
        "#https://www.1point3acres.com/bbs/thread-1036061-1-1.html\n",
        "arr = [1, 2, 3, 4]\n",
        "ans = 0\n",
        "\n",
        "for i in range(len(arr)):\n",
        "  for j in range(i+1, len(arr)):\n",
        "    left = arr[i] ^ arr[j]\n",
        "    right = arr[i] & arr[j]\n",
        "    if left > right:\n",
        "      ans += 1\n",
        "      print(left, right)\n",
        "\n",
        "print(ans)"
      ],
      "metadata": {
        "colab": {
          "base_uri": "https://localhost:8080/"
        },
        "id": "poiDtofcBG3d",
        "outputId": "9f0ad965-56ce-40fe-da0b-6e26cdb8a005"
      },
      "execution_count": null,
      "outputs": [
        {
          "output_type": "stream",
          "name": "stdout",
          "text": [
            "3 0\n",
            "2 1\n",
            "5 0\n",
            "6 0\n",
            "7 0\n",
            "5\n"
          ]
        }
      ]
    },
    {
      "cell_type": "code",
      "source": [
        "#https://www.1point3acres.com/bbs/thread-1036061-1-1.htmlvs\n",
        "select cat.title as category, prod.title, prod.total_stock\n",
        "from\n",
        "categories as cat\n",
        "join\n",
        "products as prod\n",
        "on\n",
        "  prod.category_id = cat.id\n",
        "where\n",
        "  prod.total_stock > 10\n",
        "order by\n",
        "  cat.title asc,\n",
        "  prod.title asc,\n",
        "  prod.total_stock desc\n",
        "\n",
        "\n",
        "\n",
        "#https://www.1point3acres.com/bbs/thread-1037053-1-1.html\n",
        "SELECT categories.title, products.title, SUM(products.stock_number) as stock_number\n",
        "FROM categories\n",
        "INNER JOIN products\n",
        "ON categories.id = products.category_id\n",
        "GROUP BY categories.title, products.title\n",
        "HAVING stock_number >10\n",
        "ORDER BY categories.title ASC, products.title ASC"
      ],
      "metadata": {
        "id": "5PTKfBXhGyTY"
      },
      "execution_count": null,
      "outputs": []
    },
    {
      "cell_type": "code",
      "source": [
        "#2964. Number of Divisible Triplet Sums\n",
        "https://leetcode.com/problems/number-of-divisible-triplet-sums/description/"
      ],
      "metadata": {
        "colab": {
          "base_uri": "https://localhost:8080/"
        },
        "id": "JBvixeIT50ZN",
        "outputId": "2b9eb59a-837e-488c-9ca2-76c993c96b92"
      },
      "execution_count": null,
      "outputs": [
        {
          "output_type": "execute_result",
          "data": {
            "text/plain": [
              "1"
            ]
          },
          "metadata": {},
          "execution_count": 1
        }
      ]
    },
    {
      "cell_type": "code",
      "source": [
        "# https://www.1point3acres.com/bbs/thread-1035167-1-1.html\n",
        "import re\n",
        "def getResponses(valid_auth_tokens, requests):\n",
        "    responses = []\n",
        "    for http_type, url in requests:\n",
        "        params = re.findall(r\"[\\?&](\\w+)=([^&]+)\", url)\n",
        "        token = [val for key, val in params if key == \"token\"]\n",
        "        is_valid_token = token[0] in valid_auth_tokens if token else False\n",
        "        response = \"INVALID\"\n",
        "        if is_valid_token:\n",
        "            if http_type == \"POST\":\n",
        "                csrf = [val for key, val in params if key == \"csrf\"]\n",
        "                is_valid_csrf = bool(csrf and re.match(r'^[a-z0-9]{8,}$', csrf[0]))\n",
        "                if is_valid_csrf:\n",
        "                    response = \"VALID\"\n",
        "            else:\n",
        "                # GET\n",
        "                response = \"VALID\"\n",
        "        if response == \"VALID\":\n",
        "            response += \",\" + \",\".join(f\"{key},{value}\" for key, value in params if key not in (\"token\", \"csrf\"))\n",
        "        responses.append(response)\n",
        "    return responses\n",
        "\n",
        "valid_auth_tokens = [\"ah37j2ha483u\", \"safh34yw0bp5\", \"ba34wyt8t902\"]\n",
        "requests = [\n",
        "    [\"GET\", \"https://example.com/?token=347sd6yk8iu2&name=alex\"],\n",
        "    [\"GET\", \"https://example.com/?token=safh34yw0bp5&name=sam\"],\n",
        "    [\"POST\", \"https://example.com/?token=safh34yw0bp5&name=alex\"],\n",
        "    [\"POST\", \"https://example.com/?token=safh34yw0bp5&csrf=ak2sh32dy&name=chris\"]\n",
        "]\n",
        "\n",
        "getResponses(valid_auth_tokens, requests)\n"
      ],
      "metadata": {
        "colab": {
          "base_uri": "https://localhost:8080/"
        },
        "id": "8nIm-P_KGM73",
        "outputId": "a7787ed3-a99d-4b48-a0c2-174e25547e9a"
      },
      "execution_count": null,
      "outputs": [
        {
          "output_type": "execute_result",
          "data": {
            "text/plain": [
              "['INVALID', 'VALID,name,sam', 'INVALID', 'VALID,name,chris']"
            ]
          },
          "metadata": {},
          "execution_count": 6
        }
      ]
    },
    {
      "cell_type": "code",
      "source": [
        "\"qb\".split(\"/\")"
      ],
      "metadata": {
        "colab": {
          "base_uri": "https://localhost:8080/"
        },
        "id": "CZEc29g7g5Yb",
        "outputId": "12a6441f-9383-467c-a226-2545c418b5c5"
      },
      "execution_count": null,
      "outputs": [
        {
          "output_type": "execute_result",
          "data": {
            "text/plain": [
              "['qb']"
            ]
          },
          "metadata": {},
          "execution_count": 13
        }
      ]
    },
    {
      "cell_type": "code",
      "source": [
        "\"0\" + \"1\""
      ],
      "metadata": {
        "colab": {
          "base_uri": "https://localhost:8080/",
          "height": 35
        },
        "id": "wHNbuXpw9mbS",
        "outputId": "b240d984-2711-42a5-f1a1-8c361d6e1cd8"
      },
      "execution_count": null,
      "outputs": [
        {
          "output_type": "execute_result",
          "data": {
            "text/plain": [
              "'01'"
            ],
            "application/vnd.google.colaboratory.intrinsic+json": {
              "type": "string"
            }
          },
          "metadata": {},
          "execution_count": 2
        }
      ]
    },
    {
      "cell_type": "code",
      "source": [
        "1+[0,1]"
      ],
      "metadata": {
        "id": "s28fQ6jZ1QiC",
        "outputId": "40a1e7f1-a371-4942-c14c-e8b3b80a716c",
        "colab": {
          "base_uri": "https://localhost:8080/",
          "height": 141
        }
      },
      "execution_count": null,
      "outputs": [
        {
          "output_type": "error",
          "ename": "TypeError",
          "evalue": "unsupported operand type(s) for +: 'int' and 'list'",
          "traceback": [
            "\u001b[0;31m---------------------------------------------------------------------------\u001b[0m",
            "\u001b[0;31mTypeError\u001b[0m                                 Traceback (most recent call last)",
            "\u001b[0;32m<ipython-input-2-42f8cceb150d>\u001b[0m in \u001b[0;36m<cell line: 1>\u001b[0;34m()\u001b[0m\n\u001b[0;32m----> 1\u001b[0;31m \u001b[0;36m1\u001b[0m\u001b[0;34m+\u001b[0m\u001b[0;34m[\u001b[0m\u001b[0;36m0\u001b[0m\u001b[0;34m,\u001b[0m\u001b[0;36m1\u001b[0m\u001b[0;34m]\u001b[0m\u001b[0;34m\u001b[0m\u001b[0;34m\u001b[0m\u001b[0m\n\u001b[0m",
            "\u001b[0;31mTypeError\u001b[0m: unsupported operand type(s) for +: 'int' and 'list'"
          ]
        }
      ]
    },
    {
      "cell_type": "code",
      "source": [
        "def congratulations(super_awesome_devop):\n",
        "  message = f\"\"\"     Congratulations, {super_awesome_devop} !!  🎉🎉🎉  \"\"\"\n",
        "  return message;\n",
        "print(congratulations(\"Hope Wilson\"))"
      ],
      "metadata": {
        "id": "qrGV0TjNqLAp",
        "outputId": "04b1abd5-0957-4f41-9f91-ad888c326325",
        "colab": {
          "base_uri": "https://localhost:8080/"
        }
      },
      "execution_count": null,
      "outputs": [
        {
          "output_type": "stream",
          "name": "stdout",
          "text": [
            "     Congratulations, Hope Wilson !!  🎉🎉🎉  \n"
          ]
        }
      ]
    },
    {
      "cell_type": "code",
      "source": [
        "a = set([0, 1])\n",
        "[element] = a"
      ],
      "metadata": {
        "colab": {
          "base_uri": "https://localhost:8080/",
          "height": 158
        },
        "id": "33IWru0zz3iP",
        "outputId": "2d36322b-5853-45b4-c3d1-0e585fb16be1"
      },
      "execution_count": null,
      "outputs": [
        {
          "output_type": "error",
          "ename": "ValueError",
          "evalue": "too many values to unpack (expected 1)",
          "traceback": [
            "\u001b[0;31m---------------------------------------------------------------------------\u001b[0m",
            "\u001b[0;31mValueError\u001b[0m                                Traceback (most recent call last)",
            "\u001b[0;32m<ipython-input-3-fff4c90ca137>\u001b[0m in \u001b[0;36m<cell line: 2>\u001b[0;34m()\u001b[0m\n\u001b[1;32m      1\u001b[0m \u001b[0ma\u001b[0m \u001b[0;34m=\u001b[0m \u001b[0mset\u001b[0m\u001b[0;34m(\u001b[0m\u001b[0;34m[\u001b[0m\u001b[0;36m0\u001b[0m\u001b[0;34m,\u001b[0m \u001b[0;36m1\u001b[0m\u001b[0;34m]\u001b[0m\u001b[0;34m)\u001b[0m\u001b[0;34m\u001b[0m\u001b[0;34m\u001b[0m\u001b[0m\n\u001b[0;32m----> 2\u001b[0;31m \u001b[0;34m[\u001b[0m\u001b[0melement\u001b[0m\u001b[0;34m]\u001b[0m \u001b[0;34m=\u001b[0m \u001b[0ma\u001b[0m\u001b[0;34m\u001b[0m\u001b[0;34m\u001b[0m\u001b[0m\n\u001b[0m",
            "\u001b[0;31mValueError\u001b[0m: too many values to unpack (expected 1)"
          ]
        }
      ]
    },
    {
      "cell_type": "code",
      "source": [
        "import numpy as np\n",
        "def describe(x):\n",
        "    print(\n",
        "        \"Count={count}\\tMean={mean:.3f}\\tstd={median:.3f}\\n\"\n",
        "        \"Min={min:.3f}\\t25%={p25:.3f}\\t50%={p50:.3f}\\t75%={p75:<.3f}\\tMax={max:.3f}\".format(\n",
        "            count=len(x),\n",
        "            mean=np.mean(x),\n",
        "            median=np.std(x),\n",
        "            min=min(x),\n",
        "            p25=np.percentile(x, 25),\n",
        "            p50=np.median(x),\n",
        "            p75=np.percentile(x, 75),\n",
        "            max=max(x),\n",
        "        )\n",
        "    )"
      ],
      "metadata": {
        "id": "Ed-tYlZ-z_Fz"
      },
      "execution_count": null,
      "outputs": []
    },
    {
      "cell_type": "code",
      "source": [
        "describe(a)"
      ],
      "metadata": {
        "colab": {
          "base_uri": "https://localhost:8080/"
        },
        "id": "eeCi0FLuoT8Z",
        "outputId": "89ffb7ef-8a34-44ad-e1bb-9a77ed64e7c0"
      },
      "execution_count": null,
      "outputs": [
        {
          "output_type": "stream",
          "name": "stdout",
          "text": [
            "Count=788\tMean=0.363\tstd=0.105\n",
            "Min=0.263\t25%=0.314\t50%=0.334\t75%=0.369\tMax=1.526\n"
          ]
        }
      ]
    },
    {
      "cell_type": "code",
      "source": [],
      "metadata": {
        "id": "kAHXx4AJoh38"
      },
      "execution_count": null,
      "outputs": []
    },
    {
      "cell_type": "code",
      "source": [
        "a = [0.5153268292429655,\n",
        " 0.28722861813361156,\n",
        " 0.33747883947602714,\n",
        " 0.47752448581716317,\n",
        " 0.3299523355681578,\n",
        " 0.3071041568323393,\n",
        " 0.2849190087038212,\n",
        " 0.3939964345897855,\n",
        " 0.28954182360286396,\n",
        " 0.3266137821276008,\n",
        " 0.3411882709422398,\n",
        " 0.3020837761538984,\n",
        " 0.3069446792281245,\n",
        " 0.3539613141285828,\n",
        " 0.3268913510296736,\n",
        " 0.32266755520982243,\n",
        " 0.29969312746322974,\n",
        " 0.34383861598367543,\n",
        " 0.29270035916734294,\n",
        " 0.49684583191851767,\n",
        " 0.2625493593901976,\n",
        " 0.30315351210227875,\n",
        " 0.3346656760489263,\n",
        " 0.3866403314442356,\n",
        " 0.35487250780857915,\n",
        " 0.28929223661230524,\n",
        " 0.32640423920650297,\n",
        " 0.2840490294088365,\n",
        " 0.314455996769382,\n",
        " 0.37037264074449106,\n",
        " 0.3333037014976812,\n",
        " 0.29055426513062055,\n",
        " 0.32605540784939513,\n",
        " 0.36159426905701025,\n",
        " 0.45332021068597667,\n",
        " 0.30958696623880705,\n",
        " 0.33458456239529183,\n",
        " 0.39561767265991643,\n",
        " 0.32414181198776987,\n",
        " 0.327516359180139,\n",
        " 0.34203178406978124,\n",
        " 0.46315904252036294,\n",
        " 0.29277881618969914,\n",
        " 0.420985333154165,\n",
        " 0.6216777634165248,\n",
        " 0.3426268050397277,\n",
        " 0.2913775493798115,\n",
        " 0.3855651063637703,\n",
        " 0.3347631023155461,\n",
        " 0.3135360946346444,\n",
        " 0.3975381991112185,\n",
        " 0.37255480251105266,\n",
        " 0.31105339429347173,\n",
        " 0.31741028438684343,\n",
        " 0.3215888016794375,\n",
        " 0.31641442691547317,\n",
        " 0.3562439301313699,\n",
        " 0.30550538354914114,\n",
        " 0.31893354412760133,\n",
        " 0.3009862836506618,\n",
        " 0.35408010589907896,\n",
        " 0.2957159748466813,\n",
        " 0.3169819171783286,\n",
        " 0.48308351722985404,\n",
        " 0.2933212291823816,\n",
        " 0.30862046904676427,\n",
        " 0.3718140775363026,\n",
        " 0.5401050796460821,\n",
        " 0.378148267796681,\n",
        " 0.3712881396211961,\n",
        " 0.2817088351391211,\n",
        " 0.4838931555228299,\n",
        " 0.36378456336543885,\n",
        " 0.3601003958920234,\n",
        " 0.3667577423118779,\n",
        " 0.3748483619701571,\n",
        " 0.3344739947817376,\n",
        " 0.3299959524205929,\n",
        " 0.31189959903061054,\n",
        " 0.3132386514717237,\n",
        " 0.3311410925871985,\n",
        " 0.33481224188154785,\n",
        " 0.338115664446957,\n",
        " 0.3447261498525664,\n",
        " 0.36745334938657837,\n",
        " 0.3069501286889003,\n",
        " 0.31734086777325815,\n",
        " 0.28545574340242835,\n",
        " 0.4190974520100415,\n",
        " 0.3134945198336516,\n",
        " 0.3551162626966506,\n",
        " 0.32854575945998316,\n",
        " 0.4118184715594543,\n",
        " 0.3528502850964481,\n",
        " 0.29726462669068204,\n",
        " 0.34182284537916574,\n",
        " 0.3172573521131801,\n",
        " 0.31379169719851363,\n",
        " 0.356059686577939,\n",
        " 0.5156883863820126,\n",
        " 0.30897432114257856,\n",
        " 0.33549612869203466,\n",
        " 0.5554364162671519,\n",
        " 0.34677595103232156,\n",
        " 0.35713270213570897,\n",
        " 0.31532701214227743,\n",
        " 0.3184733974380342,\n",
        " 0.332163889684474,\n",
        " 0.33973708089106874,\n",
        " 0.3290857560405575,\n",
        " 0.3558959709353425,\n",
        " 0.3120807553220626,\n",
        " 0.37971829723385314,\n",
        " 0.3605546548620689,\n",
        " 0.3144700290777867,\n",
        " 0.28259775913162166,\n",
        " 0.31442697359284416,\n",
        " 0.33237234248925973,\n",
        " 0.29812247543409226,\n",
        " 0.3183341018110851,\n",
        " 0.3826188132935631,\n",
        " 0.3322692918779578,\n",
        " 0.2885433229066511,\n",
        " 0.30272677590693414,\n",
        " 0.39963036027980187,\n",
        " 0.3216903559024811,\n",
        " 0.3959298516533177,\n",
        " 0.3368129766142962,\n",
        " 0.29982392930456986,\n",
        " 0.36463203412145084,\n",
        " 0.3158103261281353,\n",
        " 0.3199253824855623,\n",
        " 0.29686665507568294,\n",
        " 0.35814404891225965,\n",
        " 0.283307779016131,\n",
        " 0.5741500421901478,\n",
        " 0.3817137367015705,\n",
        " 0.3311063927393965,\n",
        " 0.3526496787713348,\n",
        " 0.32892603049022334,\n",
        " 0.37482766607348306,\n",
        " 0.35454796177973835,\n",
        " 0.34253167435894705,\n",
        " 0.321852433984481,\n",
        " 0.2979125399227277,\n",
        " 0.3188595796709793,\n",
        " 0.27143645569809666,\n",
        " 0.3095843460839937,\n",
        " 0.31051753602176624,\n",
        " 0.33249106038167664,\n",
        " 0.3286376801796997,\n",
        " 0.42254407688700996,\n",
        " 0.3320418555348289,\n",
        " 0.35811252027695467,\n",
        " 0.2829275980066044,\n",
        " 0.28367901021459047,\n",
        " 0.3129804231234465,\n",
        " 0.33917128378276173,\n",
        " 0.34742773439723906,\n",
        " 0.32844950755976127,\n",
        " 0.33716214765027064,\n",
        " 0.3270864894641962,\n",
        " 0.3100804426744942,\n",
        " 0.3231423167429337,\n",
        " 0.327202801584467,\n",
        " 0.35100039119360915,\n",
        " 0.3117060966356836,\n",
        " 0.30915780310404717,\n",
        " 0.3039476102853824,\n",
        " 0.27520809495773724,\n",
        " 0.3437910100579115,\n",
        " 0.3161231351262217,\n",
        " 0.3090703383784906,\n",
        " 0.32747354302349746,\n",
        " 0.29310817104548575,\n",
        " 0.3233609314241303,\n",
        " 0.33110932743505417,\n",
        " 0.36316912376762606,\n",
        " 0.30621974996788087,\n",
        " 0.308370829493368,\n",
        " 0.39303176336056767,\n",
        " 0.33579762175784267,\n",
        " 0.33619221424345963,\n",
        " 0.31786159801243985,\n",
        " 0.349243946616376,\n",
        " 0.48671476566560945,\n",
        " 0.29757383067661297,\n",
        " 0.305565800853166,\n",
        " 0.328459345880754,\n",
        " 0.3467178307792631,\n",
        " 0.28354652239824696,\n",
        " 0.2896963639944273,\n",
        " 0.3199756370924759,\n",
        " 0.30014676503802074,\n",
        " 0.31985660145212963,\n",
        " 0.3035966935911462,\n",
        " 0.34693278378371606,\n",
        " 0.35080965122000385,\n",
        " 0.3607900832164498,\n",
        " 0.334645866040334,\n",
        " 0.31479800995774054,\n",
        " 0.3138631257530087,\n",
        " 0.3319729427827464,\n",
        " 0.37313740307497534,\n",
        " 0.3265858459015677,\n",
        " 0.3180330166016491,\n",
        " 0.3322119521279865,\n",
        " 0.3686306296880091,\n",
        " 0.3589734779975828,\n",
        " 0.28635035567062306,\n",
        " 0.29349744369510433,\n",
        " 0.31421292530363054,\n",
        " 0.28042397644633277,\n",
        " 0.35489414193462304,\n",
        " 0.3143829324639156,\n",
        " 0.34421127712653765,\n",
        " 0.35962753492645266,\n",
        " 0.30469797218174577,\n",
        " 0.3096447700747837,\n",
        " 0.3186648462479161,\n",
        " 0.33934653110370955,\n",
        " 0.5013702357364915,\n",
        " 0.3188103126753092,\n",
        " 0.3062093615526545,\n",
        " 0.3298782525465638,\n",
        " 0.31812745122475616,\n",
        " 0.34013527499355245,\n",
        " 0.31700790066492435,\n",
        " 0.3348692705966547,\n",
        " 0.32006456846010345,\n",
        " 0.3053949173301128,\n",
        " 0.3248024442101266,\n",
        " 0.3270851917666629,\n",
        " 0.4093172488817323,\n",
        " 0.41406950941386333,\n",
        " 0.4255280490693051,\n",
        " 0.2918850722635804,\n",
        " 0.3936605396829833,\n",
        " 0.31347066225668846,\n",
        " 0.2978803850058937,\n",
        " 0.3304131760235399,\n",
        " 0.30615841666801474,\n",
        " 0.2941785087793266,\n",
        " 0.4799375243523108,\n",
        " 0.336974162246245,\n",
        " 0.36042600551278126,\n",
        " 0.3284078402301006,\n",
        " 0.3324257109968481,\n",
        " 0.3279738064987567,\n",
        " 0.3269401570415175,\n",
        " 0.3167882105893503,\n",
        " 0.3370941246461897,\n",
        " 0.3035910776259641,\n",
        " 0.3256968568980069,\n",
        " 0.32547972127905844,\n",
        " 0.341342619493991,\n",
        " 0.47950139507159883,\n",
        " 0.344264691733226,\n",
        " 0.3093870697105086,\n",
        " 0.3547515897757721,\n",
        " 0.4146927409818116,\n",
        " 0.33446052387901637,\n",
        " 0.74765233777123,\n",
        " 0.31887570536074494,\n",
        " 0.3413147774583958,\n",
        " 0.3497031474318359,\n",
        " 0.31583747488142067,\n",
        " 0.3215035518460035,\n",
        " 0.34800923125544087,\n",
        " 0.33147932544203124,\n",
        " 0.3223901624942542,\n",
        " 0.3154628223543054,\n",
        " 0.37324926583301804,\n",
        " 0.3016102516797416,\n",
        " 0.3030261795126884,\n",
        " 0.32736800395363613,\n",
        " 0.37859508712957113,\n",
        " 0.3114560623958263,\n",
        " 0.32464784247574185,\n",
        " 0.3273219347747216,\n",
        " 0.34728562651018724,\n",
        " 0.3365441617532523,\n",
        " 0.4341044076792636,\n",
        " 0.3141458976719762,\n",
        " 0.3928563367543652,\n",
        " 0.3258503366550596,\n",
        " 0.3215764020368198,\n",
        " 0.31382014980550704,\n",
        " 0.38078017141257603,\n",
        " 0.3465582179141372,\n",
        " 0.37323000597404776,\n",
        " 0.32709390467632865,\n",
        " 0.3242025814474186,\n",
        " 0.45799101147123716,\n",
        " 0.31342242285826233,\n",
        " 0.3357664527549891,\n",
        " 0.29363675701600955,\n",
        " 0.4540897221715959,\n",
        " 0.33860899816268897,\n",
        " 0.33793242908359167,\n",
        " 0.36706634150915113,\n",
        " 0.3461006280623916,\n",
        " 0.33829245393420443,\n",
        " 0.29955114062453075,\n",
        " 0.3086058711970913,\n",
        " 0.3384866367877865,\n",
        " 0.31583106029803965,\n",
        " 0.3612938014505254,\n",
        " 0.3046813124109362,\n",
        " 0.3412383618151784,\n",
        " 0.30686780228181354,\n",
        " 0.4116871111612423,\n",
        " 0.3192446080287428,\n",
        " 0.3131393606415385,\n",
        " 0.2894796676274358,\n",
        " 0.30681708521065343,\n",
        " 0.3190785749978633,\n",
        " 0.3786528397174125,\n",
        " 0.37015990311834057,\n",
        " 0.33420103329133993,\n",
        " 0.29873233195213783,\n",
        " 0.3217277529155659,\n",
        " 0.49078837733767816,\n",
        " 0.3378181752018421,\n",
        " 0.32206936140624415,\n",
        " 0.32630817410490337,\n",
        " 0.3290132493604216,\n",
        " 0.3669673137889926,\n",
        " 0.3400916287665972,\n",
        " 0.29329711946179926,\n",
        " 0.3412624207910067,\n",
        " 0.3223826653343414,\n",
        " 0.3488219364759158,\n",
        " 0.3428072566055712,\n",
        " 0.30812224839138413,\n",
        " 0.3374636962224351,\n",
        " 0.3408710198767388,\n",
        " 0.4092379428544902,\n",
        " 0.404742941944662,\n",
        " 0.47130262111960664,\n",
        " 0.3448569440539784,\n",
        " 0.30175415473937484,\n",
        " 0.3390823968522621,\n",
        " 0.4012395287131327,\n",
        " 0.3240333132046748,\n",
        " 0.31281819899763014,\n",
        " 0.32105784460224274,\n",
        " 0.3277125399211405,\n",
        " 0.37083353735794544,\n",
        " 0.4340022402856394,\n",
        " 0.3729185032775357,\n",
        " 0.3300413696055681,\n",
        " 0.2815665588053747,\n",
        " 0.33372736774922546,\n",
        " 0.3444584136971631,\n",
        " 0.3110564573524868,\n",
        " 0.35509789355930693,\n",
        " 0.3261722853842492,\n",
        " 0.34930425466485127,\n",
        " 0.6505701042387082,\n",
        " 0.3101502032982519,\n",
        " 0.3337552783694906,\n",
        " 0.5176128065250692,\n",
        " 0.32586105582552405,\n",
        " 0.5696075355850503,\n",
        " 0.5117129281220164,\n",
        " 0.37404899048986845,\n",
        " 0.3571376866588431,\n",
        " 0.31081638323457045,\n",
        " 0.32921686491413166,\n",
        " 0.3501945203219644,\n",
        " 0.30573743089150357,\n",
        " 0.29026726290950616,\n",
        " 0.35511299460787693,\n",
        " 0.332593576982413,\n",
        " 0.4935484968250386,\n",
        " 0.3471037690731399,\n",
        " 0.3271164819259159,\n",
        " 0.3015229563636025,\n",
        " 0.392549228695617,\n",
        " 0.35332353421457635,\n",
        " 0.32724685085927013,\n",
        " 0.3169039445268469,\n",
        " 0.3230795262246483,\n",
        " 0.4600863157533259,\n",
        " 0.296814802922712,\n",
        " 0.28523402867457465,\n",
        " 0.33187081270133517,\n",
        " 0.3767216847009091,\n",
        " 0.29832580637025724,\n",
        " 0.5567312613689126,\n",
        " 0.3198826825298029,\n",
        " 0.33700146330747993,\n",
        " 0.3216700318750085,\n",
        " 0.30663217533224574,\n",
        " 0.32726260307880484,\n",
        " 0.32596780913561646,\n",
        " 0.4143969993994667,\n",
        " 0.32594746093973626,\n",
        " 0.5136442294066986,\n",
        " 0.3974768531439781,\n",
        " 0.44663845808635466,\n",
        " 0.340769292292408,\n",
        " 0.3207954363236709,\n",
        " 0.33526313137811414,\n",
        " 0.3134334672635268,\n",
        " 0.3819029390763197,\n",
        " 0.30707284761850806,\n",
        " 0.3530865917355113,\n",
        " 0.2789891281745459,\n",
        " 0.30806944848797896,\n",
        " 0.7484560491512791,\n",
        " 0.3394486584947084,\n",
        " 0.3051728393406027,\n",
        " 0.34551218162982156,\n",
        " 0.4456369503167718,\n",
        " 0.33009433967298396,\n",
        " 0.30356532678469395,\n",
        " 0.31387267759286946,\n",
        " 0.3344141410037184,\n",
        " 0.3525544139999939,\n",
        " 0.3103117915458757,\n",
        " 0.36800290260466,\n",
        " 0.3656768987318654,\n",
        " 0.33467627358353375,\n",
        " 0.3349889830408974,\n",
        " 0.43401356324356194,\n",
        " 0.30199621581398683,\n",
        " 0.2799927251263896,\n",
        " 0.33560322417280986,\n",
        " 0.4102866378464596,\n",
        " 0.36594149388971053,\n",
        " 0.32623252922331164,\n",
        " 0.37373699638934255,\n",
        " 0.3732048846808514,\n",
        " 0.36696797180412594,\n",
        " 0.36923990792679834,\n",
        " 0.33418991296879874,\n",
        " 0.30752163402485827,\n",
        " 0.3378442753452137,\n",
        " 0.32977379679250235,\n",
        " 0.3806455682821131,\n",
        " 0.3014685338474806,\n",
        " 0.3310193106830894,\n",
        " 0.3146565625582833,\n",
        " 0.32637714626910286,\n",
        " 0.3692659048290468,\n",
        " 0.37085221260950557,\n",
        " 0.36525375760849177,\n",
        " 0.325442027470267,\n",
        " 0.32232090505950173,\n",
        " 0.2927114188712367,\n",
        " 0.3079252051759648,\n",
        " 0.3467921309261432,\n",
        " 0.34173376271330097,\n",
        " 0.33905253805558094,\n",
        " 0.3558275378932386,\n",
        " 0.31438229149888947,\n",
        " 0.33974707599389614,\n",
        " 0.36635234394158894,\n",
        " 0.45855658513809605,\n",
        " 0.3399531355736823,\n",
        " 0.29680629099153794,\n",
        " 0.5055265738143648,\n",
        " 0.5268544865366447,\n",
        " 0.3912735736220314,\n",
        " 0.34287160419067403,\n",
        " 0.3306157642256253,\n",
        " 0.31268901146944356,\n",
        " 0.33120480445503386,\n",
        " 0.46374467056067775,\n",
        " 0.33283990931923546,\n",
        " 0.3218074304238955,\n",
        " 0.31795220725644013,\n",
        " 0.35943988741451566,\n",
        " 0.3299654834582118,\n",
        " 0.33179609877986754,\n",
        " 0.36158315960710463,\n",
        " 0.3124739739346831,\n",
        " 0.3008277962616927,\n",
        " 0.291062449418331,\n",
        " 0.33034070264529797,\n",
        " 0.362680122157244,\n",
        " 0.32865890659546554,\n",
        " 0.2941849722283279,\n",
        " 0.30668955400347997,\n",
        " 0.29076425534099154,\n",
        " 0.4400213168882412,\n",
        " 0.33277664927638523,\n",
        " 0.5030727796366211,\n",
        " 0.32522447731663706,\n",
        " 0.3337690261370101,\n",
        " 0.28962135216200174,\n",
        " 0.3237887082596901,\n",
        " 0.29759149922141975,\n",
        " 0.33767012759657333,\n",
        " 0.33605769948876807,\n",
        " 0.3086375286333018,\n",
        " 0.3249983375560205,\n",
        " 0.3120828141503976,\n",
        " 0.3514658844351829,\n",
        " 0.3192206247855716,\n",
        " 0.3842627128173439,\n",
        " 0.34401636036640837,\n",
        " 0.5409646982695387,\n",
        " 0.4526085608093215,\n",
        " 0.3586122199583919,\n",
        " 0.3361516485141719,\n",
        " 0.3113424498403777,\n",
        " 0.5140080243557859,\n",
        " 0.2934258451954484,\n",
        " 0.36934071911723115,\n",
        " 0.2855012571542994,\n",
        " 0.3048576018098731,\n",
        " 0.3008563495960601,\n",
        " 0.3417115637577563,\n",
        " 0.3132861408959384,\n",
        " 0.41618572342224985,\n",
        " 0.28924873723472444,\n",
        " 0.3050982374775504,\n",
        " 0.4134467285077258,\n",
        " 0.5236801714865946,\n",
        " 0.32259241113695003,\n",
        " 0.30370790226533023,\n",
        " 0.2778241883424022,\n",
        " 0.3431417633588014,\n",
        " 0.31958457616786046,\n",
        " 0.3262787866038658,\n",
        " 0.3156308978257654,\n",
        " 0.32901333832945456,\n",
        " 0.3306716637146335,\n",
        " 0.30414852923805547,\n",
        " 0.34010220105900746,\n",
        " 0.31382221466217086,\n",
        " 0.3132062867409138,\n",
        " 0.31853264506179907,\n",
        " 0.3794527288527362,\n",
        " 0.32892877557485145,\n",
        " 0.3426399643968924,\n",
        " 0.33619908979573054,\n",
        " 0.3195161287761389,\n",
        " 0.3498291648675016,\n",
        " 0.6206762656329112,\n",
        " 0.33725183420924565,\n",
        " 0.29726051903386475,\n",
        " 0.492266862036397,\n",
        " 0.304422389886216,\n",
        " 0.3240254628459157,\n",
        " 0.3278321282256683,\n",
        " 0.3214630854590693,\n",
        " 0.2916831613003809,\n",
        " 0.30592464145626913,\n",
        " 0.32894904615579706,\n",
        " 0.36056282716072113,\n",
        " 0.3053484141356311,\n",
        " 0.3601392727470132,\n",
        " 0.34834129440576483,\n",
        " 0.3102458802229211,\n",
        " 0.3398631283952896,\n",
        " 0.5069404607132209,\n",
        " 0.3276700221943307,\n",
        " 0.3264176271760335,\n",
        " 0.3177934930717426,\n",
        " 0.3100869498140981,\n",
        " 0.3470304231541419,\n",
        " 0.3163192896204212,\n",
        " 0.29060943255975946,\n",
        " 0.32467145267742786,\n",
        " 0.3428483058725535,\n",
        " 0.4490083708902179,\n",
        " 0.31283792462515847,\n",
        " 0.3065847898782012,\n",
        " 0.32788106947776724,\n",
        " 0.3652538107102409,\n",
        " 0.37397593551754427,\n",
        " 0.31695261831477745,\n",
        " 0.3226826047952713,\n",
        " 0.3810698915128567,\n",
        " 0.3483956030593569,\n",
        " 0.6298144270673348,\n",
        " 0.3260259765123406,\n",
        " 0.3098062832423649,\n",
        " 0.30565821013233047,\n",
        " 0.3684836255291011,\n",
        " 0.3167628896942579,\n",
        " 0.28004981331457823,\n",
        " 0.3588594043602268,\n",
        " 0.35006650094360203,\n",
        " 0.47711870212644575,\n",
        " 0.711126507532016,\n",
        " 0.35364443496895476,\n",
        " 0.2861877701805046,\n",
        " 0.3597934044593806,\n",
        " 0.43619630918529795,\n",
        " 0.46216025251485504,\n",
        " 0.33520277961913936,\n",
        " 0.32493441214803037,\n",
        " 0.3417863916575506,\n",
        " 0.29088709651810235,\n",
        " 0.3374584619608111,\n",
        " 0.31955451160124354,\n",
        " 0.27011746014656624,\n",
        " 0.32739233395673734,\n",
        " 0.3555217745980069,\n",
        " 0.3217429990780488,\n",
        " 0.38973347705493516,\n",
        " 0.3378063402357498,\n",
        " 0.5429610650923167,\n",
        " 0.29740134576639926,\n",
        " 0.3505602700480427,\n",
        " 0.3687548335989331,\n",
        " 0.3165013623635275,\n",
        " 0.27140052437261886,\n",
        " 0.3041480847158254,\n",
        " 0.34562753698387244,\n",
        " 0.3454007077338573,\n",
        " 0.38037745395002015,\n",
        " 0.31013515633640476,\n",
        " 0.3300436630597105,\n",
        " 0.3271999801020734,\n",
        " 0.3048375323676027,\n",
        " 0.3124132732674892,\n",
        " 0.3326904019075608,\n",
        " 0.31868294037055006,\n",
        " 0.4707675569282038,\n",
        " 0.2987020561109984,\n",
        " 0.3454722273921587,\n",
        " 0.31986601996676145,\n",
        " 0.39830323854173943,\n",
        " 0.36140344470374625,\n",
        " 0.33178478494400904,\n",
        " 0.31416219076664254,\n",
        " 0.32683210926454564,\n",
        " 0.3199035774480591,\n",
        " 0.2774136274140324,\n",
        " 0.3177229581636333,\n",
        " 0.3512728001421562,\n",
        " 0.3657653923331966,\n",
        " 0.3094735631895282,\n",
        " 0.3288004797350293,\n",
        " 0.339617963552337,\n",
        " 0.32562263112465367,\n",
        " 0.47048523876499315,\n",
        " 0.34483090745431527,\n",
        " 0.4318515350895795,\n",
        " 0.4471459528569286,\n",
        " 0.3481886681279984,\n",
        " 0.34370516550950647,\n",
        " 0.3441491943384337,\n",
        " 0.33527977674176673,\n",
        " 0.3407551634255854,\n",
        " 0.30423980801456424,\n",
        " 0.30519691111375,\n",
        " 0.29082775168075975,\n",
        " 0.3781789736602268,\n",
        " 0.3306088657571172,\n",
        " 0.34011885737179604,\n",
        " 0.33942078580882723,\n",
        " 0.31058132779237413,\n",
        " 0.3149608185895381,\n",
        " 0.3310073837702955,\n",
        " 0.32165137095114504,\n",
        " 0.42437557992264663,\n",
        " 0.3273331139550992,\n",
        " 0.341201353233011,\n",
        " 0.31890279220599776,\n",
        " 0.31164755638161856,\n",
        " 0.3098670284879755,\n",
        " 0.3153365178876561,\n",
        " 0.3287770638917408,\n",
        " 0.7293400458649953,\n",
        " 0.3316261065411185,\n",
        " 0.6137425159767143,\n",
        " 0.332071402273561,\n",
        " 0.40502923862085716,\n",
        " 0.3216585984342461,\n",
        " 0.3156646621356808,\n",
        " 0.5343214911392703,\n",
        " 0.26370007983430677,\n",
        " 1.1246047734055067,\n",
        " 0.4239357800008362,\n",
        " 0.43308135143225895,\n",
        " 0.33161379306040306,\n",
        " 0.30372638535283314,\n",
        " 0.29867666221764255,\n",
        " 0.36020670354477474,\n",
        " 0.4945172317652339,\n",
        " 0.4437759970966654,\n",
        " 0.31177458551134063,\n",
        " 0.30672090616744807,\n",
        " 0.3728412853539673,\n",
        " 0.42028985495248106,\n",
        " 0.47463239180569883,\n",
        " 0.3355176977237193,\n",
        " 0.38934292638599904,\n",
        " 0.32201451185953783,\n",
        " 0.33473777453445114,\n",
        " 0.598904763453687,\n",
        " 0.3406810162492164,\n",
        " 0.3445652996608646,\n",
        " 0.30576189135993564,\n",
        " 0.29682363479096424,\n",
        " 0.3058476985113863,\n",
        " 0.3237828950749089,\n",
        " 0.3713105785851169,\n",
        " 0.315938215989863,\n",
        " 0.30951619819926157,\n",
        " 0.3575203037758376,\n",
        " 0.38160837847710455,\n",
        " 0.6916990122199915,\n",
        " 0.33527895131700836,\n",
        " 0.3155739820177706,\n",
        " 0.31923434573966486,\n",
        " 0.4017223781056492,\n",
        " 0.4715877581109094,\n",
        " 0.3909039697916502,\n",
        " 0.2841539531162263,\n",
        " 0.3110268004232961,\n",
        " 0.33600800688865917,\n",
        " 0.37719731640803444,\n",
        " 0.34400437563299724,\n",
        " 0.4063140239837806,\n",
        " 0.32123594742357736,\n",
        " 0.3980952091498433,\n",
        " 0.3203259555061472,\n",
        " 0.38714119984499756,\n",
        " 0.49545269603845693,\n",
        " 0.4405944462489269,\n",
        " 0.3600342136487449,\n",
        " 0.35217918028172424,\n",
        " 0.43776502931413896,\n",
        " 0.46841362592147207,\n",
        " 0.34701415423243265,\n",
        " 0.31131280769616293,\n",
        " 0.4461045160789253,\n",
        " 0.28804256338614787,\n",
        " 0.5051213283696289,\n",
        " 0.3429703442019936,\n",
        " 0.46178471494986756,\n",
        " 0.4863291928049143,\n",
        " 0.41270719538463546,\n",
        " 0.39198067092793937,\n",
        " 0.468428669122286,\n",
        " 0.3300700971113327,\n",
        " 0.36627899851377677,\n",
        " 0.47178863797333875,\n",
        " 0.4515381238164829,\n",
        " 0.5457932551979093,\n",
        " 0.6101091666559887,\n",
        " 0.35708540577004116,\n",
        " 0.649807831111971,\n",
        " 0.445993507344448,\n",
        " 0.33027080415719073,\n",
        " 0.438582532083851,\n",
        " 0.31406888827423113,\n",
        " 0.3461106131148225,\n",
        " 0.5049295847022957,\n",
        " 0.5300916422899018,\n",
        " 0.6183290798161454,\n",
        " 0.5205686460991982,\n",
        " 0.5588604177811206,\n",
        " 0.5403206516376879,\n",
        " 0.522323461780904,\n",
        " 0.40554212656322125,\n",
        " 1.4557743776675762,\n",
        " 0.5470949835644173,\n",
        " 0.4190710879374755,\n",
        " 0.3489140484638139,\n",
        " 0.4932467512994808,\n",
        " 0.6374016994017146,\n",
        " 0.35044526597341774,\n",
        " 0.43603081288244266,\n",
        " 0.5530436563598319,\n",
        " 0.5433966815602701,\n",
        " 1.5256874727733154,\n",
        " 0.33773814032819166,\n",
        " 0.3108680697099063,\n",
        " 0.4895967406732917,\n",
        " 0.5125543235727344,\n",
        " 0.4798224100369252,\n",
        " 0.5837160476391726,\n",
        " 0.44287344694304354,\n",
        " 0.47671473832935113,\n",
        " 1.208600267162432,\n",
        " 0.4266822445780353,\n",
        " 0.47767279150894504,\n",
        " 0.60913070646091,\n",
        " 1.191793379361224]"
      ],
      "metadata": {
        "id": "Pe0xWGJ7omRu"
      },
      "execution_count": null,
      "outputs": []
    }
  ],
  "metadata": {
    "colab": {
      "provenance": [],
      "authorship_tag": "ABX9TyN6F/MvxpzEJDnFzRm0w6k+",
      "include_colab_link": true
    },
    "kernelspec": {
      "display_name": "Python 3",
      "name": "python3"
    },
    "language_info": {
      "name": "python"
    }
  },
  "nbformat": 4,
  "nbformat_minor": 0
}