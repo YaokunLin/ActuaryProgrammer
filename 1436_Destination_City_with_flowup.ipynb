{
  "nbformat": 4,
  "nbformat_minor": 0,
  "metadata": {
    "colab": {
      "provenance": [],
      "authorship_tag": "ABX9TyN+9ApbjYeh6iQiO+hosfhe",
      "include_colab_link": true
    },
    "kernelspec": {
      "name": "python3",
      "display_name": "Python 3"
    },
    "language_info": {
      "name": "python"
    }
  },
  "cells": [
    {
      "cell_type": "markdown",
      "metadata": {
        "id": "view-in-github",
        "colab_type": "text"
      },
      "source": [
        "<a href=\"https://colab.research.google.com/github/YaokunLin/ActuaryProgrammer/blob/main/1436_Destination_City_with_flowup.ipynb\" target=\"_parent\"><img src=\"https://colab.research.google.com/assets/colab-badge.svg\" alt=\"Open In Colab\"/></a>"
      ]
    },
    {
      "cell_type": "code",
      "execution_count": null,
      "metadata": {
        "id": "G8wY3OGI8U7O"
      },
      "outputs": [],
      "source": [
        "paths = [\n",
        "    [\"A\", \"B\"],\n",
        "    [\"B\", \"C\"],\n",
        "    [\"C\", \"A\"], # loop \n",
        "    [\"C\", \"D\"], # dest1\n",
        "    [\"C\", \"E\"], # dest2\n",
        "    ##### gap #####\n",
        "    [\"X\", \"Y\"],\n",
        "    [\"Y\", \"Z\"], # dest3\n",
        "    ##### gap #####\n",
        "    [\"M\", \"N\"], \n",
        "    [\"N\", \"M\"], \n",
        "    \n",
        "    ]\n",
        "\"\"\"\n",
        "然后是follow up如果有多个出口？如果有环？又有环又有多个出口怎么办？\n",
        "\"\"\""
      ]
    },
    {
      "cell_type": "code",
      "source": [
        "from collections import defaultdict\n",
        "def destCity(paths) -> str:\n",
        " \n",
        "        # O(n_edges)\n",
        "        path_way = defaultdict(list)\n",
        "        for start, end in paths:\n",
        "            path_way[start].append(end)\n",
        "\n",
        "        \n",
        "        visited = set([])\n",
        "        ans = set([])\n",
        "\n",
        "        # O(n_nodes)\n",
        "        def bfs(visited, take_off):\n",
        "          destinations = set([])\n",
        "          q = [take_off]\n",
        "          visited.add(take_off)\n",
        "          while q:\n",
        "              cur_city = q.pop(0)\n",
        "              if cur_city not in path_way:\n",
        "                  destinations.add(cur_city)\n",
        "\n",
        "              for nxt_city in path_way[cur_city]:\n",
        "                  if nxt_city not in visited:\n",
        "                      q.append(nxt_city)\n",
        "                      visited.add(nxt_city)\n",
        "          \n",
        "         \n",
        "          return visited, destinations\n",
        "\n",
        "        \n",
        "        \n",
        "        for take_off in list(path_way.keys()):\n",
        "          if take_off not in visited:\n",
        "            visited, destinations = bfs(visited, take_off)\n",
        "            ans = ans.union(destinations)\n",
        "        \n",
        "        return list(ans)\n",
        "          \n",
        "\n",
        "        \n",
        "\n",
        "     "
      ],
      "metadata": {
        "id": "-uLQYr468val"
      },
      "execution_count": null,
      "outputs": []
    },
    {
      "cell_type": "code",
      "source": [
        "destCity(paths)"
      ],
      "metadata": {
        "colab": {
          "base_uri": "https://localhost:8080/"
        },
        "id": "ft4T_zc89A9p",
        "outputId": "dda47e9d-e821-4bb6-9c7c-cc3f8b8ab0b2"
      },
      "execution_count": null,
      "outputs": [
        {
          "output_type": "execute_result",
          "data": {
            "text/plain": [
              "['E', 'D', 'Z']"
            ]
          },
          "metadata": {},
          "execution_count": 49
        }
      ]
    }
  ]
}