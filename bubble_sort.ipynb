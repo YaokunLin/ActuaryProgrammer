{
  "nbformat": 4,
  "nbformat_minor": 0,
  "metadata": {
    "colab": {
      "provenance": [],
      "authorship_tag": "ABX9TyMhv5U2nq0mmDEcS4oT/b1N",
      "include_colab_link": true
    },
    "kernelspec": {
      "name": "python3",
      "display_name": "Python 3"
    },
    "language_info": {
      "name": "python"
    }
  },
  "cells": [
    {
      "cell_type": "markdown",
      "metadata": {
        "id": "view-in-github",
        "colab_type": "text"
      },
      "source": [
        "<a href=\"https://colab.research.google.com/github/YaokunLin/ActuaryProgrammer/blob/main/bubble_sort.ipynb\" target=\"_parent\"><img src=\"https://colab.research.google.com/assets/colab-badge.svg\" alt=\"Open In Colab\"/></a>"
      ]
    },
    {
      "cell_type": "code",
      "execution_count": null,
      "metadata": {
        "id": "DB3Qcvc8rnNh"
      },
      "outputs": [],
      "source": [
        "def bubble_sort(lst):\n",
        "  n = len(lst)\n",
        "\n",
        "  for i in range(n):\n",
        "    for j in range(n-i-1):\n",
        "      if lst[j] > lst[j+1]:\n",
        "        lst[j+1], lst[j] = lst[j], lst[j+1]\n",
        "  \n",
        "  return lst\n"
      ]
    },
    {
      "cell_type": "code",
      "source": [
        "bubble_sort([9, 5, 3, 7, 6])"
      ],
      "metadata": {
        "colab": {
          "base_uri": "https://localhost:8080/"
        },
        "id": "7af9o7c2t99E",
        "outputId": "86d7e533-1c09-48e1-bb64-bdc74c47d012"
      },
      "execution_count": null,
      "outputs": [
        {
          "output_type": "execute_result",
          "data": {
            "text/plain": [
              "[3, 5, 6, 7, 9]"
            ]
          },
          "metadata": {},
          "execution_count": 8
        }
      ]
    },
    {
      "cell_type": "code",
      "source": [
        "def sortArray( nums):\n",
        "\n",
        "        def merge(A, B):\n",
        "            i, j = 0, 0\n",
        "            res = []\n",
        "            while i <= len(A) - 1 and j <= len(B) - 1:\n",
        "                if A[i] < B[j]:\n",
        "                    res.append(A[i])\n",
        "                    i += 1\n",
        "                else:\n",
        "                    res.append(B[j])\n",
        "                    j += 1\n",
        "                \n",
        "            while i <= len(A) - 1:\n",
        "                res.append(A[i])\n",
        "                i += 1\n",
        "\n",
        "            while j <= len(B) - 1:\n",
        "                res.append(B[j])\n",
        "                j += 1\n",
        "            \n",
        "            return res\n",
        "            \n",
        "        \n",
        "        def merge_sort(lst):\n",
        "            if len(lst) <= 1:\n",
        "                return lst\n",
        "            mid_idx = len(lst) // 2\n",
        "            L = lst[:mid_idx]\n",
        "            R = lst[mid_idx:]\n",
        "\n",
        "            L = merge_sort(L)\n",
        "            R = merge_sort(R)\n",
        "            return merge(L, R)\n",
        "        \n",
        "        return merge_sort(nums)"
      ],
      "metadata": {
        "id": "2b50HwnFo7n5"
      },
      "execution_count": null,
      "outputs": []
    },
    {
      "cell_type": "code",
      "source": [
        "sortArray([3, 7, 6, 9])"
      ],
      "metadata": {
        "colab": {
          "base_uri": "https://localhost:8080/"
        },
        "id": "wC8t6qXso-vG",
        "outputId": "d385f4b3-bd68-4a3f-e1cb-61fa48ce6b81"
      },
      "execution_count": null,
      "outputs": [
        {
          "output_type": "execute_result",
          "data": {
            "text/plain": [
              "[3, 6, 7, 9]"
            ]
          },
          "metadata": {},
          "execution_count": 3
        }
      ]
    }
  ]
}