{
  "nbformat": 4,
  "nbformat_minor": 0,
  "metadata": {
    "colab": {
      "provenance": [],
      "include_colab_link": true
    },
    "kernelspec": {
      "name": "python3",
      "display_name": "Python 3"
    },
    "language_info": {
      "name": "python"
    }
  },
  "cells": [
    {
      "cell_type": "markdown",
      "metadata": {
        "id": "view-in-github",
        "colab_type": "text"
      },
      "source": [
        "<a href=\"https://colab.research.google.com/github/YaokunLin/ActuaryProgrammer/blob/main/912_Sort_an_Array_Quick_Sort.ipynb\" target=\"_parent\"><img src=\"https://colab.research.google.com/assets/colab-badge.svg\" alt=\"Open In Colab\"/></a>"
      ]
    },
    {
      "cell_type": "code",
      "metadata": {
        "id": "7Hl7c_e_pkcF"
      },
      "source": [
        "class Solution:\n",
        "    def sortArray(self, nums: List[int]) -> List[int]:\n",
        "      \n",
        "      \n",
        "      L,M,R=[],[],[]\n",
        "      length=len(nums)\n",
        "      if length<=1: return nums\n",
        "\n",
        "      midIdx=length//2\n",
        "      pivot=nums[midIdx]\n",
        "\n",
        "      \n",
        "      for n in nums:\n",
        "        if n<pivot: L.append(n)\n",
        "        if n==pivot:M.append(n)\n",
        "        if n>pivot:R.append(n)\n",
        "          \n",
        "      return self.sortArray(L) + M + self.sortArray(R)\n",
        "      \n",
        "     \n",
        "        "
      ],
      "execution_count": null,
      "outputs": []
    }
  ]
}